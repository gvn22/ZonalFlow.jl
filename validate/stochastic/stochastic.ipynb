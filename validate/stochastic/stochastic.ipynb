{
 "cells": [
  {
   "cell_type": "code",
   "execution_count": null,
   "metadata": {},
   "outputs": [],
   "source": [
    "import matplotlib.pyplot as plt\n",
    "import numpy as np\n",
    "import matplotlib.pylab as pl"
   ]
  },
  {
   "cell_type": "markdown",
   "metadata": {},
   "source": [
    "# Stochastic Jets"
   ]
  },
  {
   "cell_type": "markdown",
   "metadata": {},
   "source": [
    "\\begin{equation}\n",
    "    \\partial_t \\zeta = \\eta(t) - \\mu \\zeta + \\nu_\\alpha \\nabla^{2\\alpha} - \\beta \\partial_x \\psi - J(\\psi, \\zeta) \\zeta\n",
    "\\end{equation}"
   ]
  },
  {
   "cell_type": "markdown",
   "metadata": {},
   "source": [
    "Forcing $\\eta(t)$ corresponds to a band of modes with zonal wavenumbers: $k_f - \\delta k < m < k_f + \\delta k$"
   ]
  },
  {
   "cell_type": "markdown",
   "metadata": {},
   "source": [
    "Parameters:\n",
    "\n",
    "> $\\beta = 10.0$\n",
    "\n",
    "> $\\mu = 0.01$\n",
    "\n",
    "> $\\nu = 0.0$\n",
    "\n",
    "> $\\nu_\\alpha = 1.0$\n",
    "\n",
    "> $k_f = 5$\n",
    "\n",
    "> $\\delta k = 2$\n",
    "\n",
    "> $\\varepsilon = 0.005$"
   ]
  },
  {
   "cell_type": "code",
   "execution_count": null,
   "metadata": {},
   "outputs": [],
   "source": [
    "dn = \"stochastic/8x8/\"\n",
    "\n",
    "M,N = 8,8\n",
    "colors = pl.cm.nipy_spectral(np.linspace(0,1,M))"
   ]
  },
  {
   "cell_type": "code",
   "execution_count": null,
   "metadata": {},
   "outputs": [],
   "source": [
    "ql = np.load(dn+\"ql_sf_test.npz\",allow_pickle=True) \n",
    "# ce2 = np.load(dn+\"ce2.npz\",allow_pickle=True) \n",
    "# gce2_0 = np.load(dn+\"gce2_0.npz\",allow_pickle=True) "
   ]
  },
  {
   "cell_type": "code",
   "execution_count": null,
   "metadata": {},
   "outputs": [],
   "source": [
    "dn = \"stochastic/8x8/bandtype/\"\n",
    "\n",
    "M,N = 8,8\n",
    "colors = pl.cm.nipy_spectral(np.linspace(0,1,M))"
   ]
  },
  {
   "cell_type": "markdown",
   "metadata": {},
   "source": [
    "## NL v GQL v GCE2"
   ]
  },
  {
   "cell_type": "code",
   "execution_count": null,
   "metadata": {},
   "outputs": [],
   "source": [
    "nl = np.load(dn+\"nl.npz\",allow_pickle=True) \n",
    "gql_m = np.load(dn+\"gql_m.npz\",allow_pickle=True) \n",
    "gce2_m = np.load(dn+\"gce2_m.npz\",allow_pickle=True) "
   ]
  },
  {
   "cell_type": "code",
   "execution_count": null,
   "metadata": {},
   "outputs": [],
   "source": [
    "E = nl['Etav'][-1]\n",
    "U = (2*E)**0.5\n",
    "μ = 0.01\n",
    "ε = μ*U**2\n",
    "β = 10.0\n",
    "Lr = 2*U/β\n",
    "Lε = 0.5*(ε/β**3)**0.2\n",
    "\n",
    "print(ε)\n",
    "print(Lr/Lε)"
   ]
  },
  {
   "cell_type": "code",
   "execution_count": null,
   "metadata": {},
   "outputs": [],
   "source": [
    "fig,ax = plt.subplots(1,3,figsize=(14,5))\n",
    "\n",
    "ax[0].set_title(f'NL')\n",
    "for i,x in enumerate(nl['Emtav'].T):    \n",
    "    ax[0].plot(nl['t'],x,label=i,c=colors[i])\n",
    "\n",
    "ax[1].set_title(f'GQL')\n",
    "for i,x in enumerate(gql_m['Emtav'].T):\n",
    "    ax[1].plot(gql_m['t'],x,label=i,c=colors[i])\n",
    "\n",
    "ax[2].set_title(f'GCE2')\n",
    "for i,x in enumerate(gce2_m['Emtav'].T):\n",
    "    ax[2].plot(gce2_m['t'],x,label=i,c=colors[i])\n",
    "\n",
    "for a in ax:\n",
    "    \n",
    "    a.set_xlabel(r'$t$',fontsize=14)\n",
    "    a.set_yscale('log')\n",
    "    a.set_ylim(1e-3,1e-1)\n",
    "\n",
    "ax[0].set_ylabel(r'$E(m)$',fontsize=14)\n",
    "ax[2].legend(bbox_to_anchor=(1.01,0.5),ncol=1)\n",
    "\n",
    "plt.show()"
   ]
  },
  {
   "cell_type": "code",
   "execution_count": null,
   "metadata": {
    "scrolled": true
   },
   "outputs": [],
   "source": [
    "fig,ax = plt.subplots(3,1,figsize=(12,12))\n",
    "\n",
    "ax[0].set_title('NL')\n",
    "ax[0].imshow(nl['Vyt'],cmap=\"jet\",interpolation='bicubic')\n",
    "\n",
    "ax[1].set_title('GQL(M)')\n",
    "ax[1].imshow(gql_m['Vyt'],cmap=\"jet\",interpolation='bicubic')\n",
    "\n",
    "ax[2].set_title('GCE2(M)')\n",
    "ax[2].imshow(gce2_m['Vyt'],cmap=\"jet\",interpolation='bicubic')\n",
    "\n",
    "for a in ax:\n",
    "    a.set_aspect(3)\n",
    "\n",
    "    a.set_xlabel(r'$t$',fontsize=14)\n",
    "    a.set_ylabel(r'$\\theta$',fontsize=14)\n",
    "\n",
    "    a.set_yticks([0,M,2*M-2])\n",
    "    a.set_yticklabels([r'$-90$',0,r'$90$'],fontsize=14)\n",
    "\n",
    "plt.show()"
   ]
  },
  {
   "cell_type": "code",
   "execution_count": null,
   "metadata": {
    "scrolled": true
   },
   "outputs": [],
   "source": [
    "fig,ax = plt.subplots(1,3,figsize=(15,6))\n",
    "\n",
    "ax[0].set_title('NL')\n",
    "im = ax[0].imshow((nl['Emn'][:,:,-1]),cmap=\"nipy_spectral_r\",origin=\"lower\",interpolation=\"bicubic\")\n",
    "\n",
    "ax[1].set_title(f'GQL')\n",
    "im = ax[1].imshow((gql_m['Emn'][:,:,-1]),cmap=\"nipy_spectral_r\",origin=\"lower\",interpolation=\"bicubic\")\n",
    "\n",
    "ax[2].set_title('GCE2(M)')\n",
    "im = ax[2].imshow((gce2_m['Emn'][:,:,-1]),cmap=\"nipy_spectral_r\",origin=\"lower\",interpolation=\"bicubic\")\n",
    "\n",
    "for a in ax:\n",
    "    a.set_xticks([0,M,2*M-2])\n",
    "    a.set_xticklabels([r'$-M$',r'$0$',r'$M$'],fontsize=14)\n",
    "    a.set_yticks([0,M,2*M-2])\n",
    "    a.set_yticklabels([r'$-M$',r'$0$',r'$M$'],fontsize=14)\n",
    "\n",
    "plt.show()"
   ]
  },
  {
   "cell_type": "markdown",
   "metadata": {},
   "source": [
    "## QL v CE2 v GCE2(0)"
   ]
  },
  {
   "cell_type": "code",
   "execution_count": null,
   "metadata": {},
   "outputs": [],
   "source": [
    "ql = np.load(dn+\"ql_zero.npz\",allow_pickle=True) \n",
    "ce2 = np.load(dn+\"ce2.npz\",allow_pickle=True) \n",
    "gce2_0 = np.load(dn+\"gce2_0.npz\",allow_pickle=True) "
   ]
  },
  {
   "cell_type": "code",
   "execution_count": null,
   "metadata": {},
   "outputs": [],
   "source": [
    "fig,ax = plt.subplots(1,3,figsize=(14,5))\n",
    "\n",
    "ax[0].set_title(f'QL')\n",
    "for i,x in enumerate(ql['Emtav'].T):    \n",
    "    ax[0].plot(ql['t'],x,label=i,c=colors[i])\n",
    "\n",
    "ax[1].set_title(f'CE2')\n",
    "for i,x in enumerate(ce2['Emtav'].T):\n",
    "    ax[1].plot(ce2['t'],x,label=i,c=colors[i])\n",
    "\n",
    "ax[2].set_title(f'GCE2')\n",
    "for i,x in enumerate(gce2_0['Emtav'].T):\n",
    "    ax[2].plot(gce2_0['t'],x,label=i,c=colors[i])\n",
    "\n",
    "for a in ax:\n",
    "    a.set_xlabel(r'$t$',fontsize=14)\n",
    "    a.set_yscale('log')\n",
    "    a.set_ylim(1e-3,2e-1)\n",
    "\n",
    "ax[0].set_ylabel(r'$E(m)$',fontsize=14)\n",
    "ax[2].legend(bbox_to_anchor=(1.01,0.5),ncol=1)\n",
    "\n",
    "plt.show()"
   ]
  },
  {
   "cell_type": "code",
   "execution_count": null,
   "metadata": {},
   "outputs": [],
   "source": [
    "fig,ax = plt.subplots(3,1,figsize=(12,12))\n",
    "\n",
    "ax[0].set_title('QL')\n",
    "ax[0].imshow(ql['Vyt'],cmap=\"jet\",interpolation='bicubic')\n",
    "ax[0].set_aspect(3)\n",
    "\n",
    "ax[1].set_title('CE2')\n",
    "ax[1].imshow(ce2['Vyt'],cmap=\"jet\",interpolation='bicubic')\n",
    "ax[1].set_aspect(3)\n",
    "\n",
    "ax[2].set_title('GCE2(0)')\n",
    "ax[2].imshow(gce2_0['Vyt'],cmap=\"jet\",interpolation='bicubic')\n",
    "ax[2].set_aspect(0.325)\n",
    "\n",
    "for a in ax:\n",
    "    a.set_xlabel(r'$t$',fontsize=14)\n",
    "    a.set_ylabel(r'$\\theta$',fontsize=14)\n",
    "\n",
    "    a.set_yticks([0,M,2*M-2])\n",
    "    a.set_yticklabels([r'$-90$',0,r'$90$'],fontsize=14)\n",
    "\n",
    "plt.show()"
   ]
  },
  {
   "cell_type": "code",
   "execution_count": null,
   "metadata": {
    "scrolled": true
   },
   "outputs": [],
   "source": [
    "fig,ax = plt.subplots(1,3,figsize=(15,6))\n",
    "\n",
    "ax[0].set_title(f'QL')\n",
    "im = ax[0].imshow((ql['Emn'][:,:,-1]),cmap=\"nipy_spectral_r\",origin=\"lower\",interpolation=\"bicubic\")\n",
    "\n",
    "ax[1].set_title(f'CE2')\n",
    "im = ax[1].imshow((ce2['Emn'][:,:,-1]),cmap=\"nipy_spectral_r\",origin=\"lower\",interpolation=\"bicubic\")\n",
    "\n",
    "ax[2].set_title(f'GCE2(0)')\n",
    "im = ax[2].imshow((gce2_0['Emn'][:,:,-1]),cmap=\"nipy_spectral_r\",origin=\"lower\",interpolation=\"bicubic\")\n",
    "\n",
    "for a in ax:\n",
    "    a.set_xticks([0,M-1,2*M-2])\n",
    "    a.set_xticklabels([r'$-M$',r'$0$',r'$M$'],fontsize=14)\n",
    "    a.set_yticks([0,M-1,2*M-2])\n",
    "    a.set_yticklabels([r'$-M$',r'$0$',r'$M$'],fontsize=14)\n",
    "\n",
    "plt.show()"
   ]
  },
  {
   "cell_type": "markdown",
   "metadata": {},
   "source": [
    "## GQL(1) v GCE2(1)"
   ]
  },
  {
   "cell_type": "code",
   "execution_count": null,
   "metadata": {},
   "outputs": [],
   "source": [
    "gql_1 = np.load(dn+\"gql_1.npz\",allow_pickle=True) \n",
    "gce2_1 = np.load(dn+\"gce2_1.npz\",allow_pickle=True) "
   ]
  },
  {
   "cell_type": "code",
   "execution_count": null,
   "metadata": {},
   "outputs": [],
   "source": [
    "fig,ax = plt.subplots(1,2,figsize=(14,5))\n",
    "\n",
    "ax[0].set_title(f'GQL(1)')\n",
    "for i,x in enumerate(gql_1['Emtav'].T):    \n",
    "    ax[0].plot(gql_1['t'],x,label=i,c=colors[i])\n",
    "\n",
    "ax[1].set_title(f'GCE2(1)')\n",
    "for i,x in enumerate(gce2_1['Emt'].T):\n",
    "    ax[1].plot(gce2_1['t'],x,label=i,c=colors[i])\n",
    "\n",
    "for a in ax:\n",
    "    \n",
    "    a.set_xlabel(r'$t$',fontsize=14)\n",
    "    a.set_yscale('log')\n",
    "    a.set_ylim(1e-3,1e-1)\n",
    "\n",
    "ax[0].set_ylabel(r'$E(m)$',fontsize=14)\n",
    "ax[1].legend(bbox_to_anchor=(1.01,0.5),ncol=1)\n",
    "\n",
    "plt.show()"
   ]
  },
  {
   "cell_type": "code",
   "execution_count": null,
   "metadata": {},
   "outputs": [],
   "source": [
    "fig,ax = plt.subplots(2,1,figsize=(12,6))\n",
    "\n",
    "ax[0].set_title('GQL(1)')\n",
    "ax[0].imshow(gql_1['Vyt'],cmap=\"jet\",interpolation='bicubic')\n",
    "ax[0].set_aspect(5)\n",
    "\n",
    "ax[1].set_title('GCE2(1)')\n",
    "ax[1].imshow(gce2_1['Vyt'],cmap=\"jet\",interpolation='bicubic')\n",
    "ax[1].set_aspect(0.5)\n",
    "\n",
    "for a in ax:\n",
    "    a.set_xlabel(r'$t$',fontsize=14)\n",
    "    a.set_ylabel(r'$\\theta$',fontsize=14)\n",
    "\n",
    "    a.set_yticks([0,M,2*M-2])\n",
    "    a.set_yticklabels([r'$-90$',0,r'$90$'],fontsize=14)\n",
    "\n",
    "plt.show()"
   ]
  },
  {
   "cell_type": "code",
   "execution_count": null,
   "metadata": {
    "scrolled": false
   },
   "outputs": [],
   "source": [
    "fig,ax = plt.subplots(1,2,figsize=(12,6))\n",
    "\n",
    "ax[0].set_title('GQL(1)')\n",
    "im = ax[0].imshow((gql_1['Emn'][:,:,-1]),cmap=\"nipy_spectral_r\",origin=\"lower\",interpolation=\"bicubic\")\n",
    "# fig.colorbar(im)\n",
    "\n",
    "ax[1].set_title('GCE2(1)')\n",
    "im = ax[1].imshow((gce2_1['Emn'][:,:,-1]),cmap=\"nipy_spectral_r\",origin=\"lower\",interpolation=\"bicubic\")\n",
    "# fig.colorbar(im)\n",
    "\n",
    "for a in ax:\n",
    "    a.set_xticks([0,M-1,2*M-2])\n",
    "    a.set_xticklabels([r'$-M$',r'$0$',r'$M$'],fontsize=14)\n",
    "    a.set_yticks([0,M-1,2*M-2])\n",
    "    a.set_yticklabels([r'$-M$',r'$0$',r'$M$'],fontsize=14)\n",
    "\n",
    "plt.show()"
   ]
  },
  {
   "cell_type": "markdown",
   "metadata": {},
   "source": [
    "## GQL(2) v GCE2(2)"
   ]
  },
  {
   "cell_type": "code",
   "execution_count": null,
   "metadata": {},
   "outputs": [],
   "source": [
    "gql_2 = np.load(dn+\"gql_2.npz\",allow_pickle=True) \n",
    "gce2_2 = np.load(dn+\"gce2_2.npz\",allow_pickle=True) "
   ]
  },
  {
   "cell_type": "code",
   "execution_count": null,
   "metadata": {},
   "outputs": [],
   "source": [
    "fig,ax = plt.subplots(1,2,figsize=(14,5))\n",
    "\n",
    "ax[0].set_title(f'GQL(2)')\n",
    "for i,x in enumerate(gql_2['Emtav'].T):    \n",
    "    ax[0].plot(gql_2['t'],x,label=i,c=colors[i])\n",
    "\n",
    "ax[1].set_title(f'GCE2(2)')\n",
    "for i,x in enumerate(gce2_2['Emtav'].T):\n",
    "    ax[1].plot(gce2_2['t'],x,label=i,c=colors[i])\n",
    "\n",
    "for a in ax:\n",
    "    \n",
    "    a.set_xlabel(r'$t$',fontsize=14)\n",
    "    a.set_yscale('log')\n",
    "    a.set_ylim(1e-3,1e-1)\n",
    "\n",
    "ax[0].set_ylabel(r'$E(m)$',fontsize=14)\n",
    "ax[1].legend(bbox_to_anchor=(1.01,0.5),ncol=1)\n",
    "\n",
    "plt.show()"
   ]
  },
  {
   "cell_type": "code",
   "execution_count": null,
   "metadata": {},
   "outputs": [],
   "source": [
    "fig,ax = plt.subplots(2,1,figsize=(12,6))\n",
    "\n",
    "ax[0].set_title('GQL(2)')\n",
    "ax[0].imshow(gql_2['Vyt'],cmap=\"jet\",interpolation='bicubic')\n",
    "ax[0].set_aspect(5)\n",
    "\n",
    "\n",
    "ax[1].set_title('GCE2(2)')\n",
    "ax[1].imshow(gce2_2['Vyt'],cmap=\"jet\",interpolation='bicubic')\n",
    "ax[1].set_aspect(0.5)\n",
    "\n",
    "for a in ax:\n",
    "    a.set_xlabel(r'$t$',fontsize=14)\n",
    "    a.set_ylabel(r'$\\theta$',fontsize=14)\n",
    "\n",
    "    a.set_yticks([0,M,2*M-2])\n",
    "    a.set_yticklabels([r'$-90$',0,r'$90$'],fontsize=14)\n",
    "\n",
    "plt.show()"
   ]
  },
  {
   "cell_type": "code",
   "execution_count": null,
   "metadata": {},
   "outputs": [],
   "source": [
    "fig,ax = plt.subplots(1,2,figsize=(12,6))\n",
    "\n",
    "ax[0].set_title('GQL(2)')\n",
    "im = ax[0].imshow((gql_2['Emn'][:,:,-1]),cmap=\"nipy_spectral_r\",origin=\"lower\",interpolation=\"bicubic\")\n",
    "# fig.colorbar(im)\n",
    "\n",
    "ax[1].set_title('GCE2(2)')\n",
    "im = ax[1].imshow((gce2_2['Emn'][:,:,-1]),cmap=\"nipy_spectral_r\",origin=\"lower\",interpolation=\"bicubic\")\n",
    "# fig.colorbar(im)\n",
    "\n",
    "for a in ax:\n",
    "    a.set_xticks([0,M-1,2*M-2])\n",
    "    a.set_xticklabels([r'$-M$',r'$0$',r'$M$'],fontsize=14)\n",
    "    a.set_yticks([0,M-1,2*M-2])\n",
    "    a.set_yticklabels([r'$-M$',r'$0$',r'$M$'],fontsize=14)\n",
    "\n",
    "plt.show()"
   ]
  },
  {
   "cell_type": "code",
   "execution_count": null,
   "metadata": {},
   "outputs": [],
   "source": []
  }
 ],
 "metadata": {
  "kernelspec": {
   "display_name": "ipy-jupyter-venv3",
   "language": "python",
   "name": "myipy_jupter_env3"
  },
  "language_info": {
   "codemirror_mode": {
    "name": "ipython",
    "version": 3
   },
   "file_extension": ".py",
   "mimetype": "text/x-python",
   "name": "python",
   "nbconvert_exporter": "python",
   "pygments_lexer": "ipython3",
   "version": "3.7.3"
  }
 },
 "nbformat": 4,
 "nbformat_minor": 4
}
