{
 "cells": [
  {
   "cell_type": "code",
   "execution_count": null,
   "metadata": {},
   "outputs": [],
   "source": [
    "# CE2 v QL tests with non-linear terms"
   ]
  },
  {
   "cell_type": "code",
   "execution_count": null,
   "metadata": {},
   "outputs": [],
   "source": [
    "# note that these non-linear tests are with hyperviscosity -> mean formation for low res\n",
    "# the correspondling linear tests were without hyperviscosity -> test against Constantinou"
   ]
  },
  {
   "cell_type": "code",
   "execution_count": null,
   "metadata": {},
   "outputs": [],
   "source": [
    "import matplotlib.pyplot as plt\n",
    "import numpy as np\n",
    "import matplotlib.pylab as pl\n",
    "import matplotlib as mpl"
   ]
  },
  {
   "cell_type": "code",
   "execution_count": null,
   "metadata": {},
   "outputs": [],
   "source": [
    "plt.rc('font', family='serif') ## setting for figures which I usually use in my publications\n",
    "mpl.rcParams.update({'font.size': 12})\n",
    "mpl.rcParams.update({'legend.labelspacing':0.25, 'legend.fontsize': 12})\n",
    "mpl.rcParams.update({'errorbar.capsize': 4})"
   ]
  },
  {
   "cell_type": "code",
   "execution_count": null,
   "metadata": {},
   "outputs": [],
   "source": [
    "def ranks(array):\n",
    "    return len(np.where(array > 1e-10)[0])\n",
    "\n",
    "def moderanks(array):\n",
    "    nt = np.shape(array)[2]\n",
    "    nm = np.shape(array)[1]\n",
    "    \n",
    "    R = np.reshape(np.zeros(nt*nm),(nt,nm))\n",
    "    for t in np.arange(nt):\n",
    "        for m in np.arange(nm):\n",
    "            R[t,m] = ranks(array[:,m,t])\n",
    "\n",
    "    return R"
   ]
  },
  {
   "cell_type": "code",
   "execution_count": null,
   "metadata": {},
   "outputs": [],
   "source": [
    "dn = \"nonlinear/0.01/\""
   ]
  },
  {
   "cell_type": "code",
   "execution_count": null,
   "metadata": {},
   "outputs": [],
   "source": [
    "# Exciting mode m = 4 for different resolutions\n",
    "MODE = 3"
   ]
  },
  {
   "cell_type": "code",
   "execution_count": null,
   "metadata": {},
   "outputs": [],
   "source": [
    "# resolution = 6x6\n",
    "M,N = 6,6\n",
    "\n",
    "ql = np.load(dn+\"ql_6x6_m3.npz\",allow_pickle=True) \n",
    "ce2 = np.load(dn+\"ce2_6x6_m3.npz\",allow_pickle=True) \n",
    "ce2_qlic = np.load(dn+\"ce2_6x6_qlic_m3.npz\",allow_pickle=True) "
   ]
  },
  {
   "cell_type": "code",
   "execution_count": null,
   "metadata": {},
   "outputs": [],
   "source": [
    "fig,ax = plt.subplots(1,3,figsize=(12,4))\n",
    "\n",
    "ax[0].set_title('QL')\n",
    "ax[0].imshow(ql['F'])\n",
    "\n",
    "ax[1].set_title('CE2')\n",
    "ax[1].imshow(ce2['F'])\n",
    "\n",
    "ax[2].set_title('CE2 w/ QL IC')\n",
    "ax[2].imshow(ce2_qlic['F'])\n",
    "\n",
    "for a in ax:\n",
    "    a.set_xlabel('m')\n",
    "    a.set_ylabel('n')\n",
    "\n",
    "    a.set_xticks(np.arange(0,2*M-1))\n",
    "    a.set_yticks(np.arange(0,2*N-1))\n",
    "\n",
    "    a.set_xticklabels(np.arange(-M+1,M))\n",
    "    a.set_yticklabels(np.arange(-N+1,N))\n",
    "\n",
    "plt.show()"
   ]
  },
  {
   "cell_type": "code",
   "execution_count": null,
   "metadata": {},
   "outputs": [],
   "source": [
    "fig,ax = plt.subplots(figsize=(15,3))\n",
    "\n",
    "ax.plot(ql['t'],ql['Et'],label='QL')\n",
    "ax.plot(ce2['t'],ce2['Et'],label='CE2')\n",
    "ax.plot(ce2_qlic['t'],ce2_qlic['Et'],label='CE2 w/QL IC')\n",
    "\n",
    "ql_mean = np.mean(ql['Et'])\n",
    "ax.axhline(ql_mean,ls='dashed',alpha=0.5,label='<QL>')\n",
    "\n",
    "ax.set_xlabel(r'$t$',fontsize=12)\n",
    "ax.set_ylabel(r'$E$',fontsize=12)\n",
    "\n",
    "ax.legend()\n",
    "\n",
    "plt.show()"
   ]
  },
  {
   "cell_type": "code",
   "execution_count": null,
   "metadata": {
    "scrolled": true
   },
   "outputs": [],
   "source": [
    "fig,ax = plt.subplots(1,3,figsize=(15,4))\n",
    "\n",
    "colors = pl.cm.nipy_spectral(np.linspace(0,1,M))\n",
    "\n",
    "ax[0].set_title(f'QL')\n",
    "for i,x in enumerate(ql['Emt']):    \n",
    "    ax[0].plot(ql['t'],x,label=i,c=colors[i])\n",
    "\n",
    "ax[1].set_title(f'CE2')\n",
    "for i,x in enumerate(ce2['Emt']):\n",
    "    ax[1].plot(ce2['t'],x,label=i,c=colors[i])\n",
    "\n",
    "ax[2].set_title(f'CE2 w/ QL IC')\n",
    "for i,x in enumerate(ce2_qlic['Emt']):\n",
    "    ax[2].plot(ce2_qlic['t'],x,label=i,c=colors[i])\n",
    "\n",
    "for a in ax:\n",
    "    a.set_xlabel(r'$t$',fontsize=14)\n",
    "#     a.set_yscale('log')\n",
    "    a.set_ylim(0,0.7)\n",
    "\n",
    "ax[0].set_ylabel(r'$E(m)$',fontsize=14)\n",
    "ax[2].legend(loc=4,ncol=1)\n",
    "\n",
    "plt.show()"
   ]
  },
  {
   "cell_type": "code",
   "execution_count": null,
   "metadata": {},
   "outputs": [],
   "source": [
    "R_ce2_sf = moderanks(ce2['mEVs'])\n",
    "R_ce2_sf_qlic = moderanks(ce2_qlic['mEVs'])"
   ]
  },
  {
   "cell_type": "code",
   "execution_count": null,
   "metadata": {},
   "outputs": [],
   "source": [
    "fig,ax = plt.subplots(1,2,figsize=(15,3))\n",
    "\n",
    "colors = pl.cm.nipy_spectral_r(np.linspace(0,1,2*N-1))\n",
    "\n",
    "K = 3\n",
    "\n",
    "t = ce2['t']\n",
    "ax[0].set_title(f'EV Spectra $m = k_f$ CE2')\n",
    "for i,x in enumerate(ce2['mEVs'][:,K-1,:]):\n",
    "    ax[0].plot(t,x,label=i,c=colors[i])\n",
    "\n",
    "ax[1].set_title(f'EV Spectra $m = k_f$ CE2 w/ QL IC')\n",
    "for i,x in enumerate(ce2_qlic['mEVs'][:,K-1,:]):\n",
    "    ax[1].plot(t,x,label=i,c=colors[i])\n",
    "\n",
    "for a in ax:\n",
    "    a.set_xlabel(r'$t$',fontsize=14)\n",
    "    a.set_ylabel(r'$Eigenvalues$',fontsize=14)\n",
    "    a.set_ylim(0,1.0)\n",
    "    \n",
    "plt.show()"
   ]
  },
  {
   "cell_type": "code",
   "execution_count": null,
   "metadata": {},
   "outputs": [],
   "source": [
    "# resolution = 6x6\n",
    "M,N = 8,8\n",
    "\n",
    "ql = np.load(dn+\"ql_8x8_m3.npz\",allow_pickle=True) \n",
    "ce2 = np.load(dn+\"ce2_8x8_m3.npz\",allow_pickle=True) \n",
    "ce2_qlic = np.load(dn+\"ce2_8x8_qlic_m3.npz\",allow_pickle=True) "
   ]
  },
  {
   "cell_type": "code",
   "execution_count": null,
   "metadata": {},
   "outputs": [],
   "source": [
    "fig,ax = plt.subplots(figsize=(15,3))\n",
    "\n",
    "ax.plot(ql['t'],ql['Et'],label='QL')\n",
    "ax.plot(ce2['t'],ce2['Et'],label='CE2')\n",
    "ax.plot(ce2_qlic['t'],ce2_qlic['Et'],label='CE2 w/QL IC')\n",
    "\n",
    "ql_mean = np.mean(ql['Et'])\n",
    "ax.axhline(ql_mean,ls='dashed',alpha=0.5,label='<QL>')\n",
    "\n",
    "ax.set_xlabel(r'$t$',fontsize=12)\n",
    "ax.set_ylabel(r'$E$',fontsize=12)\n",
    "\n",
    "ax.legend()\n",
    "\n",
    "plt.show()"
   ]
  },
  {
   "cell_type": "code",
   "execution_count": null,
   "metadata": {
    "scrolled": true
   },
   "outputs": [],
   "source": [
    "fig,ax = plt.subplots(1,3,figsize=(15,4))\n",
    "\n",
    "colors = pl.cm.nipy_spectral(np.linspace(0,1,M))\n",
    "\n",
    "ax[0].set_title(f'QL')\n",
    "for i,x in enumerate(ql['Emt']):    \n",
    "    ax[0].plot(ql['t'],x,label=i,c=colors[i])\n",
    "\n",
    "ax[1].set_title(f'CE2')\n",
    "for i,x in enumerate(ce2['Emt']):\n",
    "    ax[1].plot(ce2['t'],x,label=i,c=colors[i])\n",
    "\n",
    "ax[2].set_title(f'CE2 w/ QL IC')\n",
    "for i,x in enumerate(ce2_qlic['Emt']):\n",
    "    ax[2].plot(ce2_qlic['t'],x,label=i,c=colors[i])\n",
    "\n",
    "for a in ax:\n",
    "    a.set_xlabel(r'$t$',fontsize=14)\n",
    "#     a.set_yscale('log')\n",
    "    a.set_ylim(0,1.0)\n",
    "\n",
    "ax[0].set_ylabel(r'$E(m)$',fontsize=14)\n",
    "ax[2].legend(loc=1,ncol=3)\n",
    "\n",
    "plt.show()"
   ]
  },
  {
   "cell_type": "code",
   "execution_count": null,
   "metadata": {},
   "outputs": [],
   "source": [
    "# resolution = 10x10\n",
    "M,N = 10,10\n",
    "\n",
    "ql = np.load(dn+\"ql_10x10_m3.npz\",allow_pickle=True) \n",
    "ce2 = np.load(dn+\"ce2_10x10_m3.npz\",allow_pickle=True) \n",
    "ce2_qlic = np.load(dn+\"ce2_10x10_qlic_m3.npz\",allow_pickle=True) "
   ]
  },
  {
   "cell_type": "code",
   "execution_count": null,
   "metadata": {},
   "outputs": [],
   "source": [
    "fig,ax = plt.subplots(figsize=(15,3))\n",
    "\n",
    "ax.plot(ql['t'],ql['Et'],label='QL')\n",
    "ax.plot(ce2['t'],ce2['Et'],label='CE2')\n",
    "ax.plot(ce2_qlic['t'],ce2_qlic['Et'],label='CE2 w/QL IC')\n",
    "\n",
    "ql_mean = np.mean(ql['Et'])\n",
    "ax.axhline(ql_mean,ls='dashed',alpha=0.5,label='<QL>')\n",
    "\n",
    "ax.set_xlabel(r'$t$',fontsize=12)\n",
    "ax.set_ylabel(r'$E$',fontsize=12)\n",
    "\n",
    "ax.legend()\n",
    "\n",
    "plt.show()"
   ]
  },
  {
   "cell_type": "code",
   "execution_count": null,
   "metadata": {
    "scrolled": true
   },
   "outputs": [],
   "source": [
    "fig,ax = plt.subplots(1,3,figsize=(15,4))\n",
    "\n",
    "colors = pl.cm.nipy_spectral(np.linspace(0,1,M))\n",
    "\n",
    "ax[0].set_title(f'QL')\n",
    "for i,x in enumerate(ql['Emt']):    \n",
    "    ax[0].plot(ql['t'],x,label=i,c=colors[i])\n",
    "\n",
    "ax[1].set_title(f'CE2')\n",
    "for i,x in enumerate(ce2['Emt']):\n",
    "    ax[1].plot(ce2['t'],x,label=i,c=colors[i])\n",
    "\n",
    "ax[2].set_title(f'CE2 w/ QL IC')\n",
    "for i,x in enumerate(ce2_qlic['Emt']):\n",
    "    ax[2].plot(ce2_qlic['t'],x,label=i,c=colors[i])\n",
    "\n",
    "for a in ax:\n",
    "    a.set_xlabel(r'$t$',fontsize=14)\n",
    "#     a.set_yscale('log')\n",
    "    a.set_ylim(0,1.0)\n",
    "\n",
    "ax[0].set_ylabel(r'$E(m)$',fontsize=14)\n",
    "ax[2].legend(loc=1,ncol=3)\n",
    "\n",
    "plt.show()"
   ]
  },
  {
   "cell_type": "code",
   "execution_count": null,
   "metadata": {},
   "outputs": [],
   "source": [
    "R_ce2_sf = moderanks(ce2['mEVs'])\n",
    "R_ce2_sf_qlic = moderanks(ce2_qlic['mEVs'])"
   ]
  },
  {
   "cell_type": "code",
   "execution_count": null,
   "metadata": {},
   "outputs": [],
   "source": [
    "fig,ax = plt.subplots(1,2,figsize=(15,3))\n",
    "\n",
    "colors = pl.cm.nipy_spectral(np.linspace(0,1,M))\n",
    "\n",
    "t = ce2['t']\n",
    "ax[0].set_title(f'Modal ranks for CE2 w/ rand IC')\n",
    "for i in np.arange(M-1):\n",
    "    ax[0].plot(t,R_ce2_sf[:,i],label=i+1,c=colors[i+1])\n",
    "    \n",
    "ax[1].set_title(f'Modal ranks for CE2 w/ QL IC')\n",
    "for i in np.arange(M-1):\n",
    "    ax[1].plot(t,R_ce2_sf_qlic[:,i],label=i+1,c=colors[i+1])\n",
    "\n",
    "ax[1].legend(loc=5,ncol=1)\n",
    "\n",
    "for a in ax:\n",
    "    a.set_xlabel(r'$t$',fontsize=14)\n",
    "    a.set_ylabel(r'$Rank$',fontsize=14)\n",
    "\n",
    "plt.show()\n",
    "# plt.savefig(dn+'figures/ranks_ce2_pj.png',bbox_inches='tight')"
   ]
  },
  {
   "cell_type": "code",
   "execution_count": null,
   "metadata": {},
   "outputs": [],
   "source": [
    "fig,ax = plt.subplots(1,2,figsize=(15,3))\n",
    "\n",
    "colors = pl.cm.nipy_spectral_r(np.linspace(0,1,2*N-1))\n",
    "\n",
    "K = 3\n",
    "\n",
    "ax[0].set_title(f'EV Spectra $m = k_f$ CE2')\n",
    "for i,x in enumerate(ce2['mEVs'][:,K-1,:]):\n",
    "    ax[0].plot(t,x,label=i,c=colors[i])\n",
    "\n",
    "ax[1].set_title(f'EV Spectra $m = k_f$ CE2 w/ QL IC')\n",
    "for i,x in enumerate(ce2_qlic['mEVs'][:,K-1,:]):\n",
    "    ax[1].plot(t,x,label=i,c=colors[i])\n",
    "\n",
    "for a in ax:\n",
    "    a.set_xlabel(r'$t$',fontsize=14)\n",
    "    a.set_ylabel(r'$Eigenvalues$',fontsize=14)\n",
    "    a.set_ylim(0,1.0)\n",
    "    \n",
    "plt.show()"
   ]
  },
  {
   "cell_type": "code",
   "execution_count": null,
   "metadata": {},
   "outputs": [],
   "source": [
    "dn = \"nonlinear/0.1/\""
   ]
  },
  {
   "cell_type": "code",
   "execution_count": null,
   "metadata": {},
   "outputs": [],
   "source": [
    "# resolution = 6x6\n",
    "M,N = 6,6\n",
    "\n",
    "ql = np.load(dn+\"ql_6x6_m3.npz\",allow_pickle=True) \n",
    "ce2 = np.load(dn+\"ce2_6x6_m3.npz\",allow_pickle=True) \n",
    "ce2_qlic = np.load(dn+\"ce2_6x6_qlic_m3.npz\",allow_pickle=True) "
   ]
  },
  {
   "cell_type": "code",
   "execution_count": null,
   "metadata": {},
   "outputs": [],
   "source": [
    "fig,ax = plt.subplots(1,3,figsize=(12,4))\n",
    "\n",
    "ax[0].set_title('QL')\n",
    "ax[0].imshow(ql['F'])\n",
    "\n",
    "ax[1].set_title('CE2')\n",
    "ax[1].imshow(ce2['F'])\n",
    "\n",
    "ax[2].set_title('CE2 w/ QL IC')\n",
    "ax[2].imshow(ce2_qlic['F'])\n",
    "\n",
    "for a in ax:\n",
    "    a.set_xlabel('m')\n",
    "    a.set_ylabel('n')\n",
    "\n",
    "    a.set_xticks(np.arange(0,2*M-1))\n",
    "    a.set_yticks(np.arange(0,2*N-1))\n",
    "\n",
    "    a.set_xticklabels(np.arange(-M+1,M))\n",
    "    a.set_yticklabels(np.arange(-N+1,N))\n",
    "\n",
    "plt.show()"
   ]
  },
  {
   "cell_type": "code",
   "execution_count": null,
   "metadata": {},
   "outputs": [],
   "source": [
    "fig,ax = plt.subplots(figsize=(15,3))\n",
    "\n",
    "ax.plot(ql['t'],ql['Et'],label='QL')\n",
    "ax.plot(ce2['t'],ce2['Et'],label='CE2')\n",
    "ax.plot(ce2_qlic['t'],ce2_qlic['Et'],label='CE2 w/QL IC')\n",
    "\n",
    "ql_mean = np.mean(ql['Et'])\n",
    "ax.axhline(ql_mean,ls='dashed',alpha=0.5,label='<QL>')\n",
    "\n",
    "ax.set_xlabel(r'$t$',fontsize=12)\n",
    "ax.set_ylabel(r'$E$',fontsize=12)\n",
    "\n",
    "ax.legend()\n",
    "\n",
    "plt.show()"
   ]
  },
  {
   "cell_type": "code",
   "execution_count": null,
   "metadata": {
    "scrolled": true
   },
   "outputs": [],
   "source": [
    "fig,ax = plt.subplots(1,3,figsize=(15,4))\n",
    "\n",
    "colors = pl.cm.nipy_spectral(np.linspace(0,1,M))\n",
    "\n",
    "ax[0].set_title(f'QL')\n",
    "for i,x in enumerate(ql['Emtav']):    \n",
    "    ax[0].plot(ql['t'],x,label=i,c=colors[i])\n",
    "\n",
    "ax[1].set_title(f'CE2')\n",
    "for i,x in enumerate(ce2['Emt']):\n",
    "    ax[1].plot(ce2['t'],x,label=i,c=colors[i])\n",
    "\n",
    "ax[2].set_title(f'CE2 w/ QL IC')\n",
    "for i,x in enumerate(ce2_qlic['Emt']):\n",
    "    ax[2].plot(ce2_qlic['t'],x,label=i,c=colors[i])\n",
    "\n",
    "for a in ax:\n",
    "    a.set_xlabel(r'$t$',fontsize=14)\n",
    "#     a.set_yscale('log')\n",
    "    a.set_ylim(0,5)\n",
    "\n",
    "ax[0].set_ylabel(r'$E(m)$',fontsize=14)\n",
    "ax[2].legend(loc=4,ncol=1)\n",
    "\n",
    "plt.show()"
   ]
  },
  {
   "cell_type": "code",
   "execution_count": null,
   "metadata": {},
   "outputs": [],
   "source": [
    "R_ce2_sf = moderanks(ce2['mEVs'])\n",
    "R_ce2_sf_qlic = moderanks(ce2_qlic['mEVs'])"
   ]
  },
  {
   "cell_type": "code",
   "execution_count": null,
   "metadata": {},
   "outputs": [],
   "source": [
    "fig,ax = plt.subplots(1,2,figsize=(15,3))\n",
    "\n",
    "colors = pl.cm.nipy_spectral(np.linspace(0,1,M))\n",
    "\n",
    "t = ce2['t']\n",
    "ax[0].set_title(f'Modal ranks for CE2 w/ rand IC')\n",
    "for i in np.arange(M-1):\n",
    "    ax[0].plot(t,R_ce2_sf[:,i],label=i+1,c=colors[i+1])\n",
    "    \n",
    "ax[1].set_title(f'Modal ranks for CE2 w/ QL IC')\n",
    "for i in np.arange(M-1):\n",
    "    ax[1].plot(t,R_ce2_sf_qlic[:,i],label=i+1,c=colors[i+1])\n",
    "\n",
    "ax[1].legend(loc=5,ncol=1)\n",
    "\n",
    "for a in ax:\n",
    "    a.set_xlabel(r'$t$',fontsize=14)\n",
    "    a.set_ylabel(r'$Rank$',fontsize=14)\n",
    "\n",
    "plt.show()\n",
    "# plt.savefig(dn+'figures/ranks_ce2_pj.png',bbox_inches='tight')"
   ]
  },
  {
   "cell_type": "code",
   "execution_count": null,
   "metadata": {},
   "outputs": [],
   "source": [
    "fig,ax = plt.subplots(1,2,figsize=(15,3))\n",
    "\n",
    "colors = pl.cm.nipy_spectral_r(np.linspace(0,1,2*N-1))\n",
    "\n",
    "K = 3\n",
    "\n",
    "ax[0].set_title(f'EV Spectra $m = k_f$ CE2')\n",
    "for i,x in enumerate(ce2['mEVs'][:,K-1,:]):\n",
    "    ax[0].plot(t,x,label=i,c=colors[i])\n",
    "\n",
    "ax[1].set_title(f'EV Spectra $m = k_f$ CE2 w/ QL IC')\n",
    "for i,x in enumerate(ce2_qlic['mEVs'][:,K-1,:]):\n",
    "    ax[1].plot(t,x,label=i,c=colors[i])\n",
    "\n",
    "for a in ax:\n",
    "    a.set_xlabel(r'$t$',fontsize=14)\n",
    "    a.set_ylabel(r'$Eigenvalues$',fontsize=14)\n",
    "\n",
    "plt.show()"
   ]
  },
  {
   "cell_type": "code",
   "execution_count": null,
   "metadata": {},
   "outputs": [],
   "source": [
    "# resolution = 8x8\n",
    "M,N = 8,8\n",
    "\n",
    "ql = np.load(dn+\"ql_8x8_m3.npz\",allow_pickle=True) \n",
    "ce2 = np.load(dn+\"ce2_8x8_m3.npz\",allow_pickle=True) \n",
    "ce2_qlic = np.load(dn+\"ce2_8x8_qlic_m3.npz\",allow_pickle=True) "
   ]
  },
  {
   "cell_type": "code",
   "execution_count": null,
   "metadata": {},
   "outputs": [],
   "source": [
    "fig,ax = plt.subplots(figsize=(15,3))\n",
    "\n",
    "ax.plot(ql['t'],ql['Et'],label='QL')\n",
    "ax.plot(ce2['t'],ce2['Et'],label='CE2')\n",
    "ax.plot(ce2_qlic['t'],ce2_qlic['Et'],label='CE2 w/QL IC')\n",
    "\n",
    "ql_mean = np.mean(ql['Et'])\n",
    "ax.axhline(ql_mean,ls='dashed',alpha=0.5,label='<QL>')\n",
    "\n",
    "ax.set_xlabel(r'$t$',fontsize=12)\n",
    "ax.set_ylabel(r'$E$',fontsize=12)\n",
    "\n",
    "ax.legend()\n",
    "\n",
    "plt.show()"
   ]
  },
  {
   "cell_type": "code",
   "execution_count": null,
   "metadata": {
    "scrolled": true
   },
   "outputs": [],
   "source": [
    "fig,ax = plt.subplots(1,3,figsize=(15,4))\n",
    "\n",
    "colors = pl.cm.nipy_spectral(np.linspace(0,1,M))\n",
    "\n",
    "ax[0].set_title(f'QL')\n",
    "for i,x in enumerate(ql['Emt']):    \n",
    "    ax[0].plot(ql['t'],x,label=i,c=colors[i])\n",
    "\n",
    "ax[1].set_title(f'CE2')\n",
    "for i,x in enumerate(ce2['Emt']):\n",
    "    ax[1].plot(ce2['t'],x,label=i,c=colors[i])\n",
    "\n",
    "ax[2].set_title(f'CE2 w/ QL IC')\n",
    "for i,x in enumerate(ce2_qlic['Emt']):\n",
    "    ax[2].plot(ce2_qlic['t'],x,label=i,c=colors[i])\n",
    "\n",
    "for a in ax:\n",
    "    a.set_xlabel(r'$t$',fontsize=14)\n",
    "#     a.set_yscale('log')\n",
    "    a.set_ylim(0,5.0)\n",
    "\n",
    "ax[0].set_ylabel(r'$E(m)$',fontsize=14)\n",
    "ax[2].legend(loc=4,ncol=3)\n",
    "\n",
    "plt.show()"
   ]
  },
  {
   "cell_type": "code",
   "execution_count": null,
   "metadata": {},
   "outputs": [],
   "source": [
    "# resolution = 10x10\n",
    "M,N = 10,10\n",
    "\n",
    "ql = np.load(dn+\"ql_10x10_m3.npz\",allow_pickle=True) \n",
    "ce2 = np.load(dn+\"ce2_10x10_m3.npz\",allow_pickle=True) \n",
    "ce2_qlic = np.load(dn+\"ce2_10x10_qlic_m3.npz\",allow_pickle=True) "
   ]
  },
  {
   "cell_type": "code",
   "execution_count": null,
   "metadata": {},
   "outputs": [],
   "source": [
    "fig,ax = plt.subplots(figsize=(15,3))\n",
    "\n",
    "ax.plot(ql['t'],ql['Et'],label='QL')\n",
    "ax.plot(ce2['t'],ce2['Et'],label='CE2')\n",
    "ax.plot(ce2_qlic['t'],ce2_qlic['Et'],label='CE2 w/QL IC')\n",
    "\n",
    "ql_mean = np.mean(ql['Et'])\n",
    "ax.axhline(ql_mean,ls='dashed',alpha=0.5,label='<QL>')\n",
    "\n",
    "ax.set_xlabel(r'$t$',fontsize=12)\n",
    "ax.set_ylabel(r'$E$',fontsize=12)\n",
    "\n",
    "ax.legend()\n",
    "\n",
    "plt.show()"
   ]
  },
  {
   "cell_type": "code",
   "execution_count": null,
   "metadata": {
    "scrolled": false
   },
   "outputs": [],
   "source": [
    "fig,ax = plt.subplots(1,3,figsize=(15,4))\n",
    "\n",
    "colors = pl.cm.nipy_spectral(np.linspace(0,1,M))\n",
    "\n",
    "ax[0].set_title(f'QL')\n",
    "for i,x in enumerate(ql['Emt']):    \n",
    "    ax[0].plot(ql['t'],x,label=i,c=colors[i])\n",
    "\n",
    "ax[1].set_title(f'CE2')\n",
    "for i,x in enumerate(ce2['Emt']):\n",
    "    ax[1].plot(ce2['t'],x,label=i,c=colors[i])\n",
    "\n",
    "ax[2].set_title(f'CE2 w/ QL IC')\n",
    "for i,x in enumerate(ce2_qlic['Emt']):\n",
    "    ax[2].plot(ce2_qlic['t'],x,label=i,c=colors[i])\n",
    "\n",
    "for a in ax:\n",
    "    a.set_xlabel(r'$t$',fontsize=14)\n",
    "#     a.set_yscale('log')\n",
    "    a.set_ylim(0,8.0)\n",
    "\n",
    "ax[0].set_ylabel(r'$E(m)$',fontsize=14)\n",
    "ax[2].legend(loc=1,ncol=3)\n",
    "\n",
    "plt.show()"
   ]
  },
  {
   "cell_type": "code",
   "execution_count": null,
   "metadata": {},
   "outputs": [],
   "source": [
    "fig,ax = plt.subplots(1,2,figsize=(15,3))\n",
    "\n",
    "colors = pl.cm.nipy_spectral_r(np.linspace(0,1,2*N-1))\n",
    "\n",
    "K = 3\n",
    "\n",
    "ax[0].set_title(f'EV Spectra $m = k_f$ CE2')\n",
    "for i,x in enumerate(ce2['mEVs'][:,K-1,:]):\n",
    "    ax[0].plot(t,x,label=i,c=colors[i])\n",
    "\n",
    "ax[1].set_title(f'EV Spectra $m = k_f$ CE2 w/ QL IC')\n",
    "for i,x in enumerate(ce2_qlic['mEVs'][:,K-1,:]):\n",
    "    ax[1].plot(t,x,label=i,c=colors[i])\n",
    "\n",
    "for a in ax:\n",
    "    a.set_xlabel(r'$t$',fontsize=14)\n",
    "    a.set_ylabel(r'$Eigenvalues$',fontsize=14)\n",
    "\n",
    "plt.show()"
   ]
  },
  {
   "cell_type": "code",
   "execution_count": null,
   "metadata": {},
   "outputs": [],
   "source": [
    "dn = \"nonlinear/1.0/\""
   ]
  },
  {
   "cell_type": "code",
   "execution_count": null,
   "metadata": {},
   "outputs": [],
   "source": []
  },
  {
   "cell_type": "code",
   "execution_count": null,
   "metadata": {},
   "outputs": [],
   "source": [
    "# resolution = 6x6\n",
    "M,N = 6,6\n",
    "\n",
    "ql = np.load(dn+\"ql_6x6_m3.npz\",allow_pickle=True) \n",
    "ce2 = np.load(dn+\"ce2_6x6_m3.npz\",allow_pickle=True) \n",
    "ce2_qlic = np.load(dn+\"ce2_6x6_qlic_m3.npz\",allow_pickle=True) "
   ]
  },
  {
   "cell_type": "code",
   "execution_count": null,
   "metadata": {},
   "outputs": [],
   "source": [
    "fig,ax = plt.subplots(1,3,figsize=(12,4))\n",
    "\n",
    "ax[0].set_title('QL')\n",
    "ax[0].imshow(ql['F'])\n",
    "\n",
    "ax[1].set_title('CE2')\n",
    "ax[1].imshow(ce2['F'])\n",
    "\n",
    "ax[2].set_title('CE2 w/ QL IC')\n",
    "ax[2].imshow(ce2_qlic['F'])\n",
    "\n",
    "for a in ax:\n",
    "    a.set_xlabel('m')\n",
    "    a.set_ylabel('n')\n",
    "\n",
    "    a.set_xticks(np.arange(0,2*M-1))\n",
    "    a.set_yticks(np.arange(0,2*N-1))\n",
    "\n",
    "    a.set_xticklabels(np.arange(-M+1,M))\n",
    "    a.set_yticklabels(np.arange(-N+1,N))\n",
    "\n",
    "plt.show()"
   ]
  },
  {
   "cell_type": "code",
   "execution_count": null,
   "metadata": {},
   "outputs": [],
   "source": [
    "fig,ax = plt.subplots(figsize=(15,3))\n",
    "\n",
    "ax.plot(ql['t'],ql['Et'],label='QL')\n",
    "ax.plot(ce2['t'],ce2['Et'],label='CE2')\n",
    "ax.plot(ce2_qlic['t'],ce2_qlic['Et'],label='CE2 w/QL IC')\n",
    "\n",
    "ql_mean = np.mean(ql['Et'])\n",
    "ax.axhline(ql_mean,ls='dashed',alpha=0.5,label='<QL>')\n",
    "\n",
    "ax.set_xlabel(r'$t$',fontsize=12)\n",
    "ax.set_ylabel(r'$E$',fontsize=12)\n",
    "\n",
    "ax.legend()\n",
    "\n",
    "plt.show()"
   ]
  },
  {
   "cell_type": "code",
   "execution_count": null,
   "metadata": {
    "scrolled": true
   },
   "outputs": [],
   "source": [
    "fig,ax = plt.subplots(1,3,figsize=(15,4))\n",
    "\n",
    "colors = pl.cm.nipy_spectral(np.linspace(0,1,M))\n",
    "\n",
    "ax[0].set_title(f'QL')\n",
    "for i,x in enumerate(ql['Emt']):    \n",
    "    ax[0].plot(ql['t'],x,label=i,c=colors[i])\n",
    "\n",
    "ax[1].set_title(f'CE2')\n",
    "for i,x in enumerate(ce2['Emt']):\n",
    "    ax[1].plot(ce2['t'],x,label=i,c=colors[i])\n",
    "\n",
    "ax[2].set_title(f'CE2 w/ QL IC')\n",
    "for i,x in enumerate(ce2_qlic['Emt']):\n",
    "    ax[2].plot(ce2_qlic['t'],x,label=i,c=colors[i])\n",
    "\n",
    "for a in ax:\n",
    "    a.set_xlabel(r'$t$',fontsize=14)\n",
    "#     a.set_yscale('log')\n",
    "    a.set_ylim(0,50)\n",
    "\n",
    "ax[0].set_ylabel(r'$E(m)$',fontsize=14)\n",
    "ax[2].legend(loc=4,ncol=1)\n",
    "\n",
    "plt.show()"
   ]
  },
  {
   "cell_type": "code",
   "execution_count": null,
   "metadata": {},
   "outputs": [],
   "source": [
    "R_ce2_sf = moderanks(ce2['mEVs'])\n",
    "R_ce2_sf_qlic = moderanks(ce2_qlic['mEVs'])"
   ]
  },
  {
   "cell_type": "code",
   "execution_count": null,
   "metadata": {},
   "outputs": [],
   "source": [
    "fig,ax = plt.subplots(1,2,figsize=(15,3))\n",
    "\n",
    "colors = pl.cm.nipy_spectral(np.linspace(0,1,M))\n",
    "\n",
    "t = ce2['t']\n",
    "ax[0].set_title(f'Modal ranks for CE2 w/ rand IC')\n",
    "for i in np.arange(M-1):\n",
    "    ax[0].plot(t,R_ce2_sf[:,i],label=i+1,c=colors[i+1])\n",
    "    \n",
    "ax[1].set_title(f'Modal ranks for CE2 w/ QL IC')\n",
    "for i in np.arange(M-1):\n",
    "    ax[1].plot(t,R_ce2_sf_qlic[:,i],label=i+1,c=colors[i+1])\n",
    "\n",
    "ax[1].legend(loc=5,ncol=1)\n",
    "\n",
    "for a in ax:\n",
    "    a.set_xlabel(r'$t$',fontsize=14)\n",
    "    a.set_ylabel(r'$Rank$',fontsize=14)\n",
    "\n",
    "plt.show()\n",
    "# plt.savefig(dn+'figures/ranks_ce2_pj.png',bbox_inches='tight')"
   ]
  },
  {
   "cell_type": "code",
   "execution_count": null,
   "metadata": {},
   "outputs": [],
   "source": [
    "fig,ax = plt.subplots(1,2,figsize=(15,3))\n",
    "\n",
    "colors = pl.cm.nipy_spectral_r(np.linspace(0,1,2*N-1))\n",
    "\n",
    "K = 3\n",
    "\n",
    "ax[0].set_title(f'EV Spectra $m = k_f$ CE2')\n",
    "for i,x in enumerate(ce2['mEVs'][:,K-1,:]):\n",
    "    ax[0].plot(t,x,label=i,c=colors[i])\n",
    "\n",
    "ax[1].set_title(f'EV Spectra $m = k_f$ CE2 w/ QL IC')\n",
    "for i,x in enumerate(ce2_qlic['mEVs'][:,K-1,:]):\n",
    "    ax[1].plot(t,x,label=i,c=colors[i])\n",
    "\n",
    "for a in ax:\n",
    "    a.set_xlabel(r'$t$',fontsize=14)\n",
    "    a.set_ylabel(r'$Eigenvalues$',fontsize=14)\n",
    "    a.set_ylim(0,30)\n",
    "    \n",
    "plt.show()"
   ]
  },
  {
   "cell_type": "code",
   "execution_count": null,
   "metadata": {},
   "outputs": [],
   "source": [
    "# resolution = 8x8\n",
    "M,N = 8,8\n",
    "\n",
    "ql = np.load(dn+\"ql_8x8_m3.npz\",allow_pickle=True) \n",
    "ce2 = np.load(dn+\"ce2_8x8_m3.npz\",allow_pickle=True) \n",
    "ce2_qlic = np.load(dn+\"ce2_8x8_qlic_m3.npz\",allow_pickle=True) "
   ]
  },
  {
   "cell_type": "code",
   "execution_count": null,
   "metadata": {},
   "outputs": [],
   "source": [
    "fig,ax = plt.subplots(figsize=(15,3))\n",
    "\n",
    "ax.plot(ql['t'],ql['Et'],label='QL')\n",
    "ax.plot(ce2['t'],ce2['Et'],label='CE2')\n",
    "ax.plot(ce2_qlic['t'],ce2_qlic['Et'],label='CE2 w/QL IC')\n",
    "\n",
    "ql_mean = np.mean(ql['Et'])\n",
    "ax.axhline(ql_mean,ls='dashed',alpha=0.5,label='<QL>')\n",
    "\n",
    "ax.set_xlabel(r'$t$',fontsize=12)\n",
    "ax.set_ylabel(r'$E$',fontsize=12)\n",
    "\n",
    "ax.legend()\n",
    "\n",
    "plt.show()"
   ]
  },
  {
   "cell_type": "code",
   "execution_count": null,
   "metadata": {
    "scrolled": true
   },
   "outputs": [],
   "source": [
    "fig,ax = plt.subplots(1,3,figsize=(15,4))\n",
    "\n",
    "colors = pl.cm.nipy_spectral(np.linspace(0,1,M))\n",
    "\n",
    "ax[0].set_title(f'QL')\n",
    "for i,x in enumerate(ql['Emt']):    \n",
    "    ax[0].plot(ql['t'],x,label=i,c=colors[i])\n",
    "\n",
    "ax[1].set_title(f'CE2')\n",
    "for i,x in enumerate(ce2['Emt']):\n",
    "    ax[1].plot(ce2['t'],x,label=i,c=colors[i])\n",
    "\n",
    "ax[2].set_title(f'CE2 w/ QL IC')\n",
    "for i,x in enumerate(ce2_qlic['Emt']):\n",
    "    ax[2].plot(ce2_qlic['t'],x,label=i,c=colors[i])\n",
    "\n",
    "for a in ax:\n",
    "    a.set_xlabel(r'$t$',fontsize=14)\n",
    "#     a.set_yscale('log')\n",
    "    a.set_ylim(0,80.0)\n",
    "\n",
    "ax[0].set_ylabel(r'$E(m)$',fontsize=14)\n",
    "ax[2].legend(loc=4,ncol=3)\n",
    "\n",
    "plt.show()"
   ]
  },
  {
   "cell_type": "code",
   "execution_count": null,
   "metadata": {},
   "outputs": [],
   "source": [
    "# resolution = 10x10\n",
    "M,N = 10,10\n",
    "\n",
    "ql = np.load(dn+\"ql_10x10_m3.npz\",allow_pickle=True) \n",
    "ce2 = np.load(dn+\"ce2_10x10_m3.npz\",allow_pickle=True) \n",
    "ce2_qlic = np.load(dn+\"ce2_10x10_qlic_m3.npz\",allow_pickle=True) "
   ]
  },
  {
   "cell_type": "code",
   "execution_count": null,
   "metadata": {},
   "outputs": [],
   "source": [
    "fig,ax = plt.subplots(figsize=(15,3))\n",
    "\n",
    "ax.plot(ql['t'],ql['Et'],label='QL')\n",
    "ax.plot(ce2['t'],ce2['Et'],label='CE2')\n",
    "ax.plot(ce2_qlic['t'],ce2_qlic['Et'],label='CE2 w/QL IC')\n",
    "\n",
    "ql_mean = np.mean(ql['Et'])\n",
    "ax.axhline(ql_mean,ls='dashed',alpha=0.5,label='<QL>')\n",
    "\n",
    "ax.set_xlabel(r'$t$',fontsize=12)\n",
    "ax.set_ylabel(r'$E$',fontsize=12)\n",
    "\n",
    "ax.legend()\n",
    "\n",
    "plt.show()"
   ]
  },
  {
   "cell_type": "code",
   "execution_count": null,
   "metadata": {
    "scrolled": true
   },
   "outputs": [],
   "source": [
    "fig,ax = plt.subplots(1,3,figsize=(15,4))\n",
    "\n",
    "colors = pl.cm.nipy_spectral(np.linspace(0,1,M))\n",
    "\n",
    "ax[0].set_title(f'QL')\n",
    "for i,x in enumerate(ql['Emt']):    \n",
    "    ax[0].plot(ql['t'],x,label=i,c=colors[i])\n",
    "\n",
    "ax[1].set_title(f'CE2')\n",
    "for i,x in enumerate(ce2['Emt']):\n",
    "    ax[1].plot(ce2['t'],x,label=i,c=colors[i])\n",
    "\n",
    "ax[2].set_title(f'CE2 w/ QL IC')\n",
    "for i,x in enumerate(ce2_qlic['Emt']):\n",
    "    ax[2].plot(ce2_qlic['t'],x,label=i,c=colors[i])\n",
    "\n",
    "for a in ax:\n",
    "    a.set_xlabel(r'$t$',fontsize=14)\n",
    "#     a.set_yscale('log')\n",
    "    a.set_ylim(0,80.0)\n",
    "\n",
    "ax[0].set_ylabel(r'$E(m)$',fontsize=14)\n",
    "ax[2].legend(loc=1,ncol=3)\n",
    "\n",
    "plt.show()"
   ]
  },
  {
   "cell_type": "code",
   "execution_count": null,
   "metadata": {},
   "outputs": [],
   "source": [
    "dn = \"nonlinear/e1m5d1/\""
   ]
  },
  {
   "cell_type": "code",
   "execution_count": null,
   "metadata": {},
   "outputs": [],
   "source": [
    "# resolution = 6x6\n",
    "M,N = 8,8\n",
    "\n",
    "ql = np.load(dn+\"ql_8x8_m3.npz\",allow_pickle=True) \n",
    "ce2 = np.load(dn+\"ce2_8x8_m3.npz\",allow_pickle=True) \n",
    "ce2_qlic = np.load(dn+\"ce2_8x8_qlic_m3.npz\",allow_pickle=True) "
   ]
  },
  {
   "cell_type": "code",
   "execution_count": null,
   "metadata": {},
   "outputs": [],
   "source": [
    "fig,ax = plt.subplots(1,3,figsize=(12,4))\n",
    "\n",
    "ax[0].set_title('QL')\n",
    "ax[0].imshow(ql['F'])\n",
    "\n",
    "ax[1].set_title('CE2')\n",
    "ax[1].imshow(ce2['F'])\n",
    "\n",
    "ax[2].set_title('CE2 w/ QL IC')\n",
    "ax[2].imshow(ce2_qlic['F'])\n",
    "\n",
    "for a in ax:\n",
    "    a.set_xlabel('m')\n",
    "    a.set_ylabel('n')\n",
    "\n",
    "    a.set_xticks(np.arange(0,2*M-1))\n",
    "    a.set_yticks(np.arange(0,2*N-1))\n",
    "\n",
    "    a.set_xticklabels(np.arange(-M+1,M))\n",
    "    a.set_yticklabels(np.arange(-N+1,N))\n",
    "\n",
    "plt.show()"
   ]
  },
  {
   "cell_type": "code",
   "execution_count": null,
   "metadata": {},
   "outputs": [],
   "source": [
    "fig,ax = plt.subplots(figsize=(15,3))\n",
    "\n",
    "ax.plot(ql['t'],ql['Et'],label='QL')\n",
    "ax.plot(ce2['t'],ce2['Et'],label='CE2')\n",
    "ax.plot(ce2_qlic['t'],ce2_qlic['Et'],label='CE2 w/QL IC')\n",
    "\n",
    "ql_mean = np.mean(ql['Et'])\n",
    "ax.axhline(ql_mean,ls='dashed',alpha=0.5,label='<QL>')\n",
    "\n",
    "ax.set_xlabel(r'$t$',fontsize=12)\n",
    "ax.set_ylabel(r'$E$',fontsize=12)\n",
    "\n",
    "ax.legend()\n",
    "\n",
    "plt.show()"
   ]
  },
  {
   "cell_type": "code",
   "execution_count": null,
   "metadata": {
    "scrolled": false
   },
   "outputs": [],
   "source": [
    "fig,ax = plt.subplots(1,3,figsize=(15,4))\n",
    "\n",
    "colors = pl.cm.nipy_spectral(np.linspace(0,1,M))\n",
    "\n",
    "ax[0].set_title(f'QL')\n",
    "for i,x in enumerate(ql['Emt']):    \n",
    "    ax[0].plot(ql['t'],x,label=i,c=colors[i])\n",
    "\n",
    "ax[1].set_title(f'CE2')\n",
    "for i,x in enumerate(ce2['Emt']):\n",
    "    ax[1].plot(ce2['t'],x,label=i,c=colors[i])\n",
    "\n",
    "ax[2].set_title(f'CE2 w/ QL IC')\n",
    "for i,x in enumerate(ce2_qlic['Emt']):\n",
    "    ax[2].plot(ce2_qlic['t'],x,label=i,c=colors[i])\n",
    "\n",
    "for a in ax:\n",
    "    a.set_xlabel(r'$t$',fontsize=14)\n",
    "    a.set_yscale('log')\n",
    "    a.set_ylim(1e-1,100)\n",
    "\n",
    "ax[0].set_ylabel(r'$E(m)$',fontsize=14)\n",
    "ax[0].legend(loc=4,ncol=1)\n",
    "\n",
    "plt.show()"
   ]
  },
  {
   "cell_type": "code",
   "execution_count": null,
   "metadata": {
    "scrolled": true
   },
   "outputs": [],
   "source": [
    "fig,ax = plt.subplots(1,2,figsize=(15,3))\n",
    "\n",
    "colors = pl.cm.nipy_spectral_r(np.linspace(0,1,2*N-1))\n",
    "\n",
    "K = 2\n",
    "\n",
    "ax[0].set_title(f'EV Spectra $m = k_f$ CE2')\n",
    "for i,x in enumerate(ce2['mEVs'][:,K-1,:]):\n",
    "    ax[0].plot(t,x,label=i,c=colors[i])\n",
    "\n",
    "ax[1].set_title(f'EV Spectra $m = k_f$ CE2 w/ QL IC')\n",
    "for i,x in enumerate(ce2_qlic['mEVs'][:,K-1,:]):\n",
    "    ax[1].plot(t,x,label=i,c=colors[i])\n",
    "\n",
    "for a in ax:\n",
    "    a.set_xlabel(r'$t$',fontsize=14)\n",
    "    a.set_ylabel(r'$Eigenvalues$',fontsize=14)\n",
    "    a.set_ylim(0,20)\n",
    "    \n",
    "plt.show()"
   ]
  },
  {
   "cell_type": "code",
   "execution_count": null,
   "metadata": {},
   "outputs": [],
   "source": [
    "# resolution = 10x10\n",
    "M,N = 10,10\n",
    "\n",
    "ql = np.load(dn+\"ql_10x10_m3.npz\",allow_pickle=True) \n",
    "ce2 = np.load(dn+\"ce2_10x10_m3.npz\",allow_pickle=True) \n",
    "ce2_qlic = np.load(dn+\"ce2_10x10_qlic_m3.npz\",allow_pickle=True) "
   ]
  },
  {
   "cell_type": "code",
   "execution_count": null,
   "metadata": {},
   "outputs": [],
   "source": [
    "fig,ax = plt.subplots(figsize=(15,3))\n",
    "\n",
    "ax.plot(ql['t'],ql['Et'],label='QL')\n",
    "ax.plot(ce2['t'],ce2['Et'],label='CE2')\n",
    "ax.plot(ce2_qlic['t'],ce2_qlic['Et'],label='CE2 w/QL IC')\n",
    "\n",
    "ql_mean = np.mean(ql['Et'])\n",
    "ax.axhline(ql_mean,ls='dashed',alpha=0.5,label='<QL>')\n",
    "\n",
    "ax.set_xlabel(r'$t$',fontsize=12)\n",
    "ax.set_ylabel(r'$E$',fontsize=12)\n",
    "\n",
    "ax.legend()\n",
    "\n",
    "plt.show()"
   ]
  },
  {
   "cell_type": "code",
   "execution_count": null,
   "metadata": {
    "scrolled": true
   },
   "outputs": [],
   "source": [
    "fig,ax = plt.subplots(1,3,figsize=(15,4))\n",
    "\n",
    "colors = pl.cm.nipy_spectral(np.linspace(0,1,M))\n",
    "\n",
    "ax[0].set_title(f'QL')\n",
    "for i,x in enumerate(ql['Emt']):    \n",
    "    ax[0].plot(ql['t'],x,label=i,c=colors[i])\n",
    "\n",
    "ax[1].set_title(f'CE2')\n",
    "for i,x in enumerate(ce2['Emt']):\n",
    "    ax[1].plot(ce2['t'],x,label=i,c=colors[i])\n",
    "\n",
    "ax[2].set_title(f'CE2 w/ QL IC')\n",
    "for i,x in enumerate(ce2_qlic['Emt']):\n",
    "    ax[2].plot(ce2_qlic['t'],x,label=i,c=colors[i])\n",
    "\n",
    "for a in ax:\n",
    "    a.set_xlabel(r'$t$',fontsize=14)\n",
    "#     a.set_yscale('log')\n",
    "    a.set_ylim(0,50.0)\n",
    "\n",
    "ax[0].set_ylabel(r'$E(m)$',fontsize=14)\n",
    "ax[2].legend(loc=1,ncol=3)\n",
    "\n",
    "plt.show()"
   ]
  },
  {
   "cell_type": "code",
   "execution_count": null,
   "metadata": {},
   "outputs": [],
   "source": [
    "dn = \"nonlinear/e0.1m5d1/\""
   ]
  },
  {
   "cell_type": "code",
   "execution_count": null,
   "metadata": {},
   "outputs": [],
   "source": [
    "# resolution = 6x6\n",
    "M,N = 8,8\n",
    "\n",
    "ql = np.load(dn+\"ql_10x10.npz\",allow_pickle=True) \n",
    "ce2 = np.load(dn+\"ce2_10x10.npz\",allow_pickle=True) \n",
    "ce2_qlic = np.load(dn+\"ce2_10x10_qlic.npz\",allow_pickle=True) "
   ]
  },
  {
   "cell_type": "code",
   "execution_count": null,
   "metadata": {},
   "outputs": [],
   "source": [
    "fig,ax = plt.subplots(1,3,figsize=(12,4))\n",
    "\n",
    "ax[0].set_title('QL')\n",
    "ax[0].imshow(ql['F'])\n",
    "\n",
    "ax[1].set_title('CE2')\n",
    "ax[1].imshow(ce2['F'])\n",
    "\n",
    "ax[2].set_title('CE2 w/ QL IC')\n",
    "ax[2].imshow(ce2_qlic['F'])\n",
    "\n",
    "for a in ax:\n",
    "    a.set_xlabel('m')\n",
    "    a.set_ylabel('n')\n",
    "\n",
    "    a.set_xticks(np.arange(0,2*M-1))\n",
    "    a.set_yticks(np.arange(0,2*N-1))\n",
    "\n",
    "    a.set_xticklabels(np.arange(-M+1,M))\n",
    "    a.set_yticklabels(np.arange(-N+1,N))\n",
    "\n",
    "plt.show()"
   ]
  },
  {
   "cell_type": "code",
   "execution_count": null,
   "metadata": {},
   "outputs": [],
   "source": [
    "fig,ax = plt.subplots(figsize=(15,3))\n",
    "\n",
    "ax.plot(ql['t'],ql['Et'],label='QL')\n",
    "ax.plot(ce2['t'],ce2['Et'],label='CE2')\n",
    "ax.plot(ce2_qlic['t'],ce2_qlic['Et'],label='CE2 w/QL IC')\n",
    "\n",
    "ql_mean = np.mean(ql['Et'])\n",
    "ax.axhline(ql_mean,ls='dashed',alpha=0.5,label='<QL>')\n",
    "\n",
    "ax.set_xlabel(r'$t$',fontsize=12)\n",
    "ax.set_ylabel(r'$E$',fontsize=12)\n",
    "\n",
    "ax.legend()\n",
    "\n",
    "plt.show()"
   ]
  },
  {
   "cell_type": "code",
   "execution_count": null,
   "metadata": {
    "scrolled": false
   },
   "outputs": [],
   "source": [
    "fig,ax = plt.subplots(1,3,figsize=(15,4))\n",
    "\n",
    "colors = pl.cm.nipy_spectral(np.linspace(0,1,10))\n",
    "\n",
    "ax[0].set_title(f'QL')\n",
    "for i,x in enumerate(ql['Emt']):    \n",
    "    ax[0].plot(ql['t'],x,label=i,c=colors[i])\n",
    "\n",
    "ax[1].set_title(f'CE2')\n",
    "for i,x in enumerate(ce2['Emt']):\n",
    "    ax[1].plot(ce2['t'],x,label=i,c=colors[i])\n",
    "\n",
    "ax[2].set_title(f'CE2 w/ QL IC')\n",
    "for i,x in enumerate(ce2_qlic['Emt']):\n",
    "    ax[2].plot(ce2_qlic['t'],x,label=i,c=colors[i])\n",
    "\n",
    "for a in ax:\n",
    "    a.set_xlabel(r'$t$',fontsize=14)\n",
    "    a.set_yscale('log')\n",
    "    a.set_ylim(0,3.5)\n",
    "    a.set_ylim(1e-6,10)\n",
    "\n",
    "ax[0].set_ylabel(r'$E(m)$',fontsize=14)\n",
    "ax[2].legend(loc=4,ncol=1)\n",
    "\n",
    "plt.show()"
   ]
  },
  {
   "cell_type": "code",
   "execution_count": null,
   "metadata": {},
   "outputs": [],
   "source": []
  }
 ],
 "metadata": {
  "kernelspec": {
   "display_name": "Python 3",
   "language": "python",
   "name": "python3"
  },
  "language_info": {
   "codemirror_mode": {
    "name": "ipython",
    "version": 3
   },
   "file_extension": ".py",
   "mimetype": "text/x-python",
   "name": "python",
   "nbconvert_exporter": "python",
   "pygments_lexer": "ipython3",
   "version": "3.7.3"
  }
 },
 "nbformat": 4,
 "nbformat_minor": 4
}
