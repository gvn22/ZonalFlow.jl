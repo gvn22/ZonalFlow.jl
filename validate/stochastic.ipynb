{
 "cells": [
  {
   "cell_type": "code",
   "execution_count": null,
   "metadata": {},
   "outputs": [],
   "source": [
    "import matplotlib.pyplot as plt\n",
    "import numpy as np\n",
    "import matplotlib.pylab as pl"
   ]
  },
  {
   "cell_type": "code",
   "execution_count": null,
   "metadata": {},
   "outputs": [],
   "source": [
    "Nx,Ny = 6,6\n",
    "dn = \"/Users/gvn22/.julia/dev/ZonalFlow/validate/stochastic/6x6/\""
   ]
  },
  {
   "cell_type": "code",
   "execution_count": null,
   "metadata": {},
   "outputs": [],
   "source": [
    "ql = np.load(dn+\"ql_linear.npz\",allow_pickle=True) \n",
    "ce2 = np.load(dn+\"ce2_linear.npz\",allow_pickle=True) "
   ]
  },
  {
   "cell_type": "code",
   "execution_count": null,
   "metadata": {},
   "outputs": [],
   "source": [
    "fig,ax = plt.subplots(1,2,figsize=(12,5))\n",
    "    \n",
    "# Energy\n",
    "ax[0].plot(ql['t'],ql['Etav'],label=r'$\\langle QL \\rangle$')\n",
    "ax[0].plot(ce2['t'],ce2['Etav'],label=r'$\\langle CE2 \\rangle$')\n",
    "\n",
    "ax[0].set_xlabel(r'$t$',fontsize=14)\n",
    "ax[0].set_ylabel(r'$E$',fontsize=14)\n",
    "ax[0].legend(bbox_to_anchor=(1.01,0.85),fontsize=14)\n",
    "\n",
    "# Enstrophy\n",
    "ax[1].plot(ql['t'],ql['Ztav'],label=r'$\\langle QL \\rangle$')\n",
    "ax[1].plot(ce2['t'],ce2['Ztav'],label=r'$\\langle CE2 \\rangle$')\n",
    "\n",
    "\n",
    "ax[1].set_xlabel(r'$t$',fontsize=14)\n",
    "ax[1].set_ylabel(r'$Z$',fontsize=14)\n",
    "ax[1].legend(bbox_to_anchor=(1.01,0.85),fontsize=14)\n",
    "\n",
    "plt.show()"
   ]
  },
  {
   "cell_type": "code",
   "execution_count": null,
   "metadata": {},
   "outputs": [],
   "source": [
    "nl = np.load(dn+\"nl_linear.npz\",allow_pickle=True) \n",
    "gql = np.load(dn+\"gql_5_linear.npz\",allow_pickle=True) \n",
    "gce2 = np.load(dn+\"gce2_5_linear.npz\",allow_pickle=True) "
   ]
  },
  {
   "cell_type": "code",
   "execution_count": null,
   "metadata": {},
   "outputs": [],
   "source": [
    "fig,ax = plt.subplots(1,2,figsize=(12,5))\n",
    "    \n",
    "# Energy\n",
    "ax[0].plot(nl['t'],nl['Etav'],label=r'$\\langle NL \\rangle$')\n",
    "ax[0].plot(gql['t'],gql['Etav'],label=r'$\\langle GQL \\rangle$')\n",
    "ax[0].plot(gce2['t'],gce2['Etav'],label=r'$\\langle GCE2 \\rangle$')\n",
    "\n",
    "ax[0].set_xlabel(r'$t$',fontsize=14)\n",
    "ax[0].set_ylabel(r'$E$',fontsize=14)\n",
    "ax[0].legend(bbox_to_anchor=(1.01,0.85),fontsize=14)\n",
    "\n",
    "# Enstrophy\n",
    "ax[1].plot(nl['t'],nl['Ztav'],label=r'$\\langle NL \\rangle$')\n",
    "ax[1].plot(gql['t'],gql['Ztav'],label=r'$\\langle GQL \\rangle$')\n",
    "ax[1].plot(gce2['t'],gce2['Ztav'],label=r'$\\langle GCE2 \\rangle$')\n",
    "\n",
    "\n",
    "ax[1].set_xlabel(r'$t$',fontsize=14)\n",
    "ax[1].set_ylabel(r'$Z$',fontsize=14)\n",
    "ax[1].legend(bbox_to_anchor=(1.01,0.85),fontsize=14)\n",
    "\n",
    "plt.show()"
   ]
  },
  {
   "cell_type": "code",
   "execution_count": null,
   "metadata": {},
   "outputs": [],
   "source": [
    "ql = np.load(dn+\"ql.npz\",allow_pickle=True) \n",
    "ce2 = np.load(dn+\"ce2.npz\",allow_pickle=True) "
   ]
  },
  {
   "cell_type": "code",
   "execution_count": null,
   "metadata": {},
   "outputs": [],
   "source": [
    "fig,ax = plt.subplots(1,2,figsize=(12,5))\n",
    "    \n",
    "# Energy\n",
    "ax[0].plot(ql['t'],ql['Etav'],label=r'$\\langle QL \\rangle$')\n",
    "ax[0].plot(ce2['t'],ce2['Etav'],label=r'$\\langle CE2 \\rangle$')\n",
    "\n",
    "ax[0].set_xlabel(r'$t$',fontsize=14)\n",
    "ax[0].set_ylabel(r'$E$',fontsize=14)\n",
    "ax[0].legend(bbox_to_anchor=(1.01,0.85),fontsize=14)\n",
    "\n",
    "# Enstrophy\n",
    "ax[1].plot(ql['t'],ql['Ztav'],label=r'$\\langle QL \\rangle$')\n",
    "ax[1].plot(ce2['t'],ce2['Ztav'],label=r'$\\langle CE2 \\rangle$')\n",
    "\n",
    "\n",
    "ax[1].set_xlabel(r'$t$',fontsize=14)\n",
    "ax[1].set_ylabel(r'$Z$',fontsize=14)\n",
    "ax[1].legend(bbox_to_anchor=(1.01,0.85),fontsize=14)\n",
    "\n",
    "plt.show()"
   ]
  },
  {
   "cell_type": "code",
   "execution_count": null,
   "metadata": {},
   "outputs": [],
   "source": [
    "nl = np.load(dn+\"nl.npz\",allow_pickle=True) \n",
    "gql = np.load(dn+\"gql_5.npz\",allow_pickle=True) \n",
    "gce2 = np.load(dn+\"gce2_5.npz\",allow_pickle=True) "
   ]
  },
  {
   "cell_type": "code",
   "execution_count": null,
   "metadata": {},
   "outputs": [],
   "source": [
    "fig,ax = plt.subplots(1,2,figsize=(12,5))\n",
    "    \n",
    "# Energy\n",
    "ax[0].plot(nl['t'],nl['Etav'],label=r'$\\langle NL \\rangle$')\n",
    "ax[0].plot(gql['t'],gql['Etav'],label=r'$\\langle GQL \\rangle$')\n",
    "ax[0].plot(gce2['t'],gce2['Etav'],label=r'$\\langle GCE2 \\rangle$')\n",
    "\n",
    "ax[0].set_xlabel(r'$t$',fontsize=14)\n",
    "ax[0].set_ylabel(r'$E$',fontsize=14)\n",
    "ax[0].legend(bbox_to_anchor=(1.01,0.85),fontsize=14)\n",
    "\n",
    "# Enstrophy\n",
    "ax[1].plot(nl['t'],nl['Ztav'],label=r'$\\langle NL \\rangle$')\n",
    "ax[1].plot(gql['t'],gql['Ztav'],label=r'$\\langle GQL \\rangle$')\n",
    "ax[1].plot(gce2['t'],gce2['Ztav'],label=r'$\\langle GCE2 \\rangle$')\n",
    "\n",
    "\n",
    "ax[1].set_xlabel(r'$t$',fontsize=14)\n",
    "ax[1].set_ylabel(r'$Z$',fontsize=14)\n",
    "ax[1].legend(bbox_to_anchor=(1.01,0.85),fontsize=14)\n",
    "\n",
    "plt.show()"
   ]
  },
  {
   "cell_type": "code",
   "execution_count": null,
   "metadata": {},
   "outputs": [],
   "source": []
  }
 ],
 "metadata": {
  "kernelspec": {
   "display_name": "Python 3",
   "language": "python",
   "name": "python3"
  },
  "language_info": {
   "codemirror_mode": {
    "name": "ipython",
    "version": 3
   },
   "file_extension": ".py",
   "mimetype": "text/x-python",
   "name": "python",
   "nbconvert_exporter": "python",
   "pygments_lexer": "ipython3",
   "version": "3.7.3"
  }
 },
 "nbformat": 4,
 "nbformat_minor": 4
}
