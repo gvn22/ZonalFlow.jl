{
 "cells": [
  {
   "cell_type": "markdown",
   "metadata": {},
   "source": [
    "# Stochastically-driven jets"
   ]
  },
  {
   "cell_type": "markdown",
   "metadata": {},
   "source": [
    "\\begin{equation}\n",
    "    \\partial_t \\zeta = \\eta(t) - \\mu \\zeta + \\nu_\\alpha \\nabla^{2\\alpha} - \\beta \\partial_x \\psi - J(\\psi, \\zeta) \\zeta\n",
    "\\end{equation}"
   ]
  },
  {
   "cell_type": "markdown",
   "metadata": {},
   "source": []
  },
  {
   "cell_type": "code",
   "execution_count": null,
   "metadata": {},
   "outputs": [],
   "source": [
    "import matplotlib.pyplot as plt\n",
    "import numpy as np\n",
    "import matplotlib.pylab as pl"
   ]
  },
  {
   "cell_type": "markdown",
   "metadata": {},
   "source": [
    "# 6x6 tests"
   ]
  },
  {
   "cell_type": "code",
   "execution_count": null,
   "metadata": {},
   "outputs": [],
   "source": [
    "Nx,Ny = 6,6\n",
    "colors = pl.cm.nipy_spectral(np.linspace(0,1,Nx))\n",
    "\n",
    "dn = \"stochastic/6x6/\""
   ]
  },
  {
   "cell_type": "markdown",
   "metadata": {},
   "source": [
    "## QL v CE2 (linear)"
   ]
  },
  {
   "cell_type": "markdown",
   "metadata": {},
   "source": [
    "Parameters:\n",
    "\n",
    "> $\\beta = 10.0$\n",
    "\n",
    "> $\\mu = 0.01$\n",
    "\n",
    "> $\\nu = 0.0$\n",
    "\n",
    "> $\\nu_\\alpha = 0.0$\n",
    "\n",
    "> $k_f = 3$\n",
    "\n",
    "> $\\delta k = 1$\n",
    "\n",
    "> $\\varepsilon = 0.01$"
   ]
  },
  {
   "cell_type": "code",
   "execution_count": null,
   "metadata": {},
   "outputs": [],
   "source": [
    "ql = np.load(dn+\"ql_linear.npz\",allow_pickle=True) \n",
    "ce2 = np.load(dn+\"ce2_linear_qlic.npz\",allow_pickle=True) "
   ]
  },
  {
   "cell_type": "code",
   "execution_count": null,
   "metadata": {},
   "outputs": [],
   "source": [
    "fig,ax = plt.subplots(1,2,figsize=(12,5))\n",
    "    \n",
    "# Energy\n",
    "ax[0].plot(ql['t'],ql['Et'],label=r'$ QL $')\n",
    "ax[0].plot(ql['t'],ql['Etav'],label=r'$\\langle QL \\rangle$')\n",
    "ax[0].plot(ce2['t'],ce2['Etav'],label=r'$\\langle CE2 \\rangle$')\n",
    "\n",
    "ax[0].set_xlabel(r'$t$',fontsize=14)\n",
    "ax[0].set_ylabel(r'$E$',fontsize=14)\n",
    "# ax[0].legend(loc=4,fontsize=14)\n",
    "\n",
    "# Enstrophy\n",
    "ax[1].plot(ql['t'],ql['Zt'],label=r'$ QL $')\n",
    "ax[1].plot(ql['t'],ql['Ztav'],label=r'$\\langle QL \\rangle$')\n",
    "ax[1].plot(ce2['t'],ce2['Ztav'],label=r'$\\langle CE2 \\rangle$')\n",
    "\n",
    "ax[1].set_xlabel(r'$t$',fontsize=14)\n",
    "ax[1].set_ylabel(r'$Z$',fontsize=14)\n",
    "ax[1].legend(loc=4,fontsize=14)\n",
    "\n",
    "plt.show()"
   ]
  },
  {
   "cell_type": "code",
   "execution_count": null,
   "metadata": {},
   "outputs": [],
   "source": [
    "fig,ax = plt.subplots(1,2,figsize=(14,5))\n",
    "    \n",
    "# Energy\n",
    "for i,x in enumerate(ql['Emtav'].T):\n",
    "    ax[0].plot(ql['t'],x,label=i,c=colors[i])\n",
    "\n",
    "for i,x in enumerate(ce2['Emtav'].T):\n",
    "    ax[1].plot(ce2['t'],x,c=colors[i])\n",
    "\n",
    "for a in ax:\n",
    "    a.set_xlabel(r'$t$',fontsize=14)\n",
    "    a.set_ylabel(r'$E$',fontsize=14)\n",
    "    a.set_yscale('log')\n",
    "    a.set_ylim(1e-1,1e0)\n",
    "# ax[1].legend(bbox_to_anchor=(1.01,0.85),fontsize=14)\n",
    "\n",
    "plt.show()"
   ]
  },
  {
   "cell_type": "code",
   "execution_count": null,
   "metadata": {},
   "outputs": [],
   "source": [
    "fig,ax = plt.subplots(1,2,figsize=(15,6))\n",
    "\n",
    "im = ax[0].imshow((ql['Emn'][:,:,-1]),cmap=\"nipy_spectral_r\",origin=\"lower\",interpolation=\"bicubic\")\n",
    "fig.colorbar(im,ax=ax[0])\n",
    "\n",
    "im = ax[1].imshow((ce2['Emn'][:,:,-1]),cmap=\"nipy_spectral_r\",origin=\"lower\",interpolation=\"bicubic\")\n",
    "fig.colorbar(im,ax=ax[1])\n",
    "\n",
    "for a in ax:\n",
    "    a.set_xticks([0,Nx-1,2*Nx-2])\n",
    "    a.set_xticklabels([r'$-N_x$',r'$0$',r'$N_x$'],fontsize=14)\n",
    "    a.set_yticks([0,Ny-1,2*Ny-2])\n",
    "    a.set_yticklabels([r'$-N_y$',r'$0$',r'$N_y$'],fontsize=14)\n",
    "\n",
    "plt.show()"
   ]
  },
  {
   "cell_type": "markdown",
   "metadata": {},
   "source": [
    "## NL v GQL v GCE2 (full res)"
   ]
  },
  {
   "cell_type": "code",
   "execution_count": null,
   "metadata": {},
   "outputs": [],
   "source": [
    "nl = np.load(dn+\"nl_linear.npz\",allow_pickle=True) \n",
    "gql = np.load(dn+\"gql_5_linear.npz\",allow_pickle=True) \n",
    "gce2 = np.load(dn+\"gce2_5_linear.npz\",allow_pickle=True) "
   ]
  },
  {
   "cell_type": "code",
   "execution_count": null,
   "metadata": {},
   "outputs": [],
   "source": [
    "fig,ax = plt.subplots(1,2,figsize=(14,5))\n",
    "    \n",
    "# Energy\n",
    "ax[0].plot(nl['t'],nl['Etav'],label=r'$\\langle NL \\rangle$')\n",
    "ax[0].plot(gql['t'],gql['Etav'],label=r'$\\langle GQL \\rangle$')\n",
    "ax[0].plot(gce2['t'],gce2['Etav'],label=r'$\\langle GCE2 \\rangle$')\n",
    "\n",
    "ax[0].set_xlabel(r'$t$',fontsize=14)\n",
    "ax[0].set_ylabel(r'$E$',fontsize=14)\n",
    "# ax[0].legend(bbox_to_anchor=(1.01,0.85),fontsize=14)\n",
    "\n",
    "# Enstrophy\n",
    "ax[1].plot(nl['t'],nl['Ztav'],label=r'$\\langle NL \\rangle$')\n",
    "ax[1].plot(gql['t'],gql['Ztav'],label=r'$\\langle GQL \\rangle$')\n",
    "ax[1].plot(gce2['t'],gce2['Ztav'],label=r'$\\langle GCE2 \\rangle$')\n",
    "\n",
    "\n",
    "ax[1].set_xlabel(r'$t$',fontsize=14)\n",
    "ax[1].set_ylabel(r'$Z$',fontsize=14)\n",
    "ax[1].legend(bbox_to_anchor=(1.01,0.85),fontsize=14)\n",
    "\n",
    "plt.show()"
   ]
  },
  {
   "cell_type": "code",
   "execution_count": null,
   "metadata": {},
   "outputs": [],
   "source": [
    "fig,ax = plt.subplots(1,3,figsize=(14,5))\n",
    "\n",
    "ax[0].set_title(f'NL')\n",
    "for i,x in enumerate(nl['Emt'].T):    \n",
    "    ax[0].plot(nl['t'],x,label=i,c=colors[i])\n",
    "\n",
    "ax[1].set_title(f'GQL')\n",
    "for i,x in enumerate(gql['Emt'].T):\n",
    "    ax[1].plot(gql['t'],x,label=i,c=colors[i])\n",
    "\n",
    "ax[2].set_title(f'GCE2')\n",
    "for i,x in enumerate(gce2['Emt'].T):\n",
    "    ax[2].plot(gce2['t'],x,label=i,c=colors[i])\n",
    "\n",
    "for a in ax:\n",
    "    \n",
    "    a.set_xlabel(r'$t$',fontsize=14)\n",
    "    a.set_yscale('log')\n",
    "#     a.set_ylim(1e-10,1e1)\n",
    "\n",
    "ax[0].set_ylabel(r'$E(m)$',fontsize=14)\n",
    "ax[1].legend(loc=3,ncol=1)\n",
    "\n",
    "plt.show()"
   ]
  },
  {
   "cell_type": "code",
   "execution_count": null,
   "metadata": {},
   "outputs": [],
   "source": [
    "fig,ax = plt.subplots(1,3,figsize=(24,6))\n",
    "\n",
    "ax[0].set_title(f'NL',fontsize=14)\n",
    "im = ax[0].imshow((nl['Emn'][:,:,-1]),cmap=\"nipy_spectral_r\",origin=\"lower\",interpolation=\"bicubic\")\n",
    "fig.colorbar(im,ax=ax[0])\n",
    "\n",
    "ax[1].set_title(f'GQL',fontsize=14)\n",
    "im = ax[1].imshow((gql['Emn'][:,:,-1]),cmap=\"nipy_spectral_r\",origin=\"lower\",interpolation=\"bicubic\")\n",
    "fig.colorbar(im,ax=ax[1])\n",
    "\n",
    "ax[2].set_title(f'GCE2',fontsize=14)\n",
    "im = ax[2].imshow((gce2['Emn'][:,:,-1]),cmap=\"nipy_spectral_r\",origin=\"lower\",interpolation=\"bicubic\")\n",
    "fig.colorbar(im,ax=ax[2])\n",
    "\n",
    "for a in ax:\n",
    "    a.set_xticks([0,Nx-1,2*Nx-2])\n",
    "    a.set_xticklabels([r'$-N_x$',r'$0$',r'$N_x$'],fontsize=14)\n",
    "    a.set_yticks([0,Ny-1,2*Ny-2])\n",
    "    a.set_yticklabels([r'$-N_y$',r'$0$',r'$N_y$'],fontsize=14)\n",
    "\n",
    "plt.show()"
   ]
  },
  {
   "cell_type": "code",
   "execution_count": null,
   "metadata": {},
   "outputs": [],
   "source": [
    "ql = np.load(dn+\"ql.npz\",allow_pickle=True) \n",
    "ce2 = np.load(dn+\"ce2.npz\",allow_pickle=True) "
   ]
  },
  {
   "cell_type": "code",
   "execution_count": null,
   "metadata": {},
   "outputs": [],
   "source": [
    "fig,ax = plt.subplots(1,2,figsize=(12,5))\n",
    "    \n",
    "# Energy\n",
    "ax[0].plot(ql['t'],ql['Etav'],label=r'$\\langle QL \\rangle$')\n",
    "ax[0].plot(ce2['t'],ce2['Etav'],label=r'$\\langle CE2 \\rangle$')\n",
    "\n",
    "ax[0].set_xlabel(r'$t$',fontsize=14)\n",
    "ax[0].set_ylabel(r'$E$',fontsize=14)\n",
    "ax[0].legend(bbox_to_anchor=(1.01,0.85),fontsize=14)\n",
    "\n",
    "# Enstrophy\n",
    "ax[1].plot(ql['t'],ql['Ztav'],label=r'$\\langle QL \\rangle$')\n",
    "ax[1].plot(ce2['t'],ce2['Ztav'],label=r'$\\langle CE2 \\rangle$')\n",
    "    \n",
    "ax[1].set_xlabel(r'$t$',fontsize=14)\n",
    "ax[1].set_ylabel(r'$Z$',fontsize=14)\n",
    "ax[1].legend(bbox_to_anchor=(1.01,0.85),fontsize=14)\n",
    "\n",
    "print(ql['Etav'][0])\n",
    "plt.show()"
   ]
  },
  {
   "cell_type": "code",
   "execution_count": null,
   "metadata": {},
   "outputs": [],
   "source": [
    "fig,ax = plt.subplots(1,figsize=(12,5))\n",
    "    \n",
    "# Energy\n",
    "for i,x in enumerate(ql['Emtav'].T):\n",
    "    ax.plot(ql['t'],x,label=i,c=colors[i])\n",
    "\n",
    "for i,x in enumerate(ce2['Emtav'].T):\n",
    "    ax.plot(ce2['t'],x,c=colors[i])\n",
    "\n",
    "ax.set_xlabel(r'$t$',fontsize=14)\n",
    "ax.set_ylabel(r'$E$',fontsize=14)\n",
    "ax.set_yscale('log')\n",
    "ax.legend(bbox_to_anchor=(1.01,0.85),fontsize=14)\n",
    "\n",
    "plt.show()"
   ]
  },
  {
   "cell_type": "code",
   "execution_count": null,
   "metadata": {},
   "outputs": [],
   "source": [
    "nl = np.load(dn+\"nl.npz\",allow_pickle=True) \n",
    "gql = np.load(dn+\"gql_5.npz\",allow_pickle=True) \n",
    "gce2 = np.load(dn+\"gce2_5.npz\",allow_pickle=True) "
   ]
  },
  {
   "cell_type": "code",
   "execution_count": null,
   "metadata": {},
   "outputs": [],
   "source": [
    "fig,ax = plt.subplots(1,2,figsize=(12,5))\n",
    "    \n",
    "# Energy\n",
    "ax[0].plot(nl['t'],nl['Etav'],label=r'$\\langle NL \\rangle$')\n",
    "ax[0].plot(gql['t'],gql['Etav'],label=r'$\\langle GQL \\rangle$')\n",
    "ax[0].plot(gce2['t'],gce2['Etav'],label=r'$\\langle GCE2 \\rangle$')\n",
    "\n",
    "ax[0].set_xlabel(r'$t$',fontsize=14)\n",
    "ax[0].set_ylabel(r'$E$',fontsize=14)\n",
    "ax[0].legend(bbox_to_anchor=(1.01,0.85),fontsize=14)\n",
    "\n",
    "# Enstrophy\n",
    "ax[1].plot(nl['t'],nl['Ztav'],label=r'$\\langle NL \\rangle$')\n",
    "ax[1].plot(gql['t'],gql['Ztav'],label=r'$\\langle GQL \\rangle$')\n",
    "ax[1].plot(gce2['t'],gce2['Ztav'],label=r'$\\langle GCE2 \\rangle$')\n",
    "\n",
    "\n",
    "ax[1].set_xlabel(r'$t$',fontsize=14)\n",
    "ax[1].set_ylabel(r'$Z$',fontsize=14)\n",
    "ax[1].legend(bbox_to_anchor=(1.01,0.85),fontsize=14)\n",
    "\n",
    "plt.show()"
   ]
  },
  {
   "cell_type": "markdown",
   "metadata": {},
   "source": [
    "# 8x8 tests"
   ]
  },
  {
   "cell_type": "markdown",
   "metadata": {},
   "source": [
    "Parameters:\n",
    "\n",
    "> $\\mu = 0.01$\n",
    "\n",
    "> $\\nu = 0.0$\n",
    "\n",
    "> $\\nu_\\alpha = 1.0$\n",
    "\n",
    "> $k_f = 5$\n",
    "\n",
    "> $\\delta k = 2$\n",
    "\n",
    "> $\\varepsilon = 0.005$"
   ]
  },
  {
   "cell_type": "code",
   "execution_count": null,
   "metadata": {},
   "outputs": [],
   "source": [
    "dn = \"stochastic/8x8/\"\n",
    "\n",
    "Nx,Ny = 8,8\n",
    "colors = pl.cm.nipy_spectral(np.linspace(0,1,Nx))"
   ]
  },
  {
   "cell_type": "code",
   "execution_count": null,
   "metadata": {},
   "outputs": [],
   "source": [
    "nl = np.load(dn+\"nl.npz\",allow_pickle=True) \n",
    "ql = np.load(dn+\"ql.npz\",allow_pickle=True) \n",
    "ce2 = np.load(dn+\"ce2.npz\",allow_pickle=True) \n",
    "gce2_0 = np.load(dn+\"gce2_0.npz\",allow_pickle=True)"
   ]
  },
  {
   "cell_type": "code",
   "execution_count": null,
   "metadata": {},
   "outputs": [],
   "source": [
    "fig,ax = plt.subplots(1,figsize=(5,5))\n",
    "    \n",
    "# Energy\n",
    "ax.set_title(r'$NL$',fontsize=14)\n",
    "for i,x in enumerate(nl['Emtav'].T):\n",
    "    ax.plot(nl['t'],x,label=i,c=colors[i])\n",
    "    \n",
    "# ax[1].set_title(r'$CE2$',fontsize=14)\n",
    "# for i,x in enumerate(ce2['Emtav'].T):\n",
    "#     ax[1].plot(ce2['t'],x,c=colors[i])\n",
    "\n",
    "ax.set_xlabel(r'$t$',fontsize=14)\n",
    "ax.set_ylabel(r'$E$',fontsize=14)\n",
    "#     a.set_yscale('log')\n",
    "# ax.set_ylim(0,0.04)\n",
    "#     ax.legend(bbox_to_anchor=(1.01,0.85),fontsize=14)\n",
    "\n",
    "plt.show()"
   ]
  },
  {
   "cell_type": "code",
   "execution_count": null,
   "metadata": {},
   "outputs": [],
   "source": [
    "fig,ax = plt.subplots(1,2,figsize=(12,5))\n",
    "    \n",
    "# Energy\n",
    "ax[0].plot(ql['t'],ql['Et'],label=r'$ QL $')\n",
    "ax[0].plot(ql['t'],ql['Etav'],label=r'$\\langle QL \\rangle$')\n",
    "ax[0].plot(ce2['t'],ce2['Etav'],label=r'$\\langle CE2 \\rangle$')\n",
    "ax[0].plot(gce2_0['t'],gce2_0['Etav'],label=r'$\\langle GCE2 \\rangle$')\n",
    "\n",
    "\n",
    "ax[0].set_xlabel(r'$t$',fontsize=14)\n",
    "ax[0].set_ylabel(r'$E$',fontsize=14)\n",
    "ax[0].legend(loc=4,fontsize=14)\n",
    "\n",
    "# Enstrophy\n",
    "ax[1].plot(ql['t'],ql['Zt'],label=r'$ QL $')\n",
    "ax[1].plot(ql['t'],ql['Ztav'],label=r'$\\langle QL \\rangle$')\n",
    "ax[1].plot(ce2['t'],ce2['Ztav'],label=r'$\\langle CE2 \\rangle$')\n",
    "ax[1].plot(gce2_0['t'],gce2_0['Ztav'],label=r'$\\langle GCE2 \\rangle$')\n",
    "\n",
    "\n",
    "ax[1].set_xlabel(r'$t$',fontsize=14)\n",
    "ax[1].set_ylabel(r'$Z$',fontsize=14)\n",
    "ax[1].legend(loc=4,fontsize=14)\n",
    "\n",
    "plt.show()"
   ]
  },
  {
   "cell_type": "code",
   "execution_count": null,
   "metadata": {},
   "outputs": [],
   "source": [
    "fig,ax = plt.subplots(1,2,figsize=(12,5))\n",
    "    \n",
    "# Energy\n",
    "ax[0].set_title(r'$QL$',fontsize=14)\n",
    "for i,x in enumerate(ql['Emtav'].T):\n",
    "    ax[0].plot(ql['t'],x,label=i,c=colors[i])\n",
    "    \n",
    "ax[1].set_title(r'$CE2$',fontsize=14)\n",
    "for i,x in enumerate(ce2['Emtav'].T):\n",
    "    ax[1].plot(ce2['t'],x,label=i,c=colors[i])\n",
    "\n",
    "for a in ax:\n",
    "    a.set_xlabel(r'$t$',fontsize=14)\n",
    "    a.set_ylabel(r'$E$',fontsize=14)\n",
    "#     a.set_yscale('log')\n",
    "    a.set_ylim(0,0.2)\n",
    "    \n",
    "ax[1].legend(bbox_to_anchor=(1.01,0.85),fontsize=14)\n",
    "\n",
    "plt.show()"
   ]
  },
  {
   "cell_type": "code",
   "execution_count": null,
   "metadata": {},
   "outputs": [],
   "source": [
    "fig,ax = plt.subplots(1,2,figsize=(15,6))\n",
    "\n",
    "im = ax[0].imshow((ql['Uxy'][:,:,-1]),cmap=\"jet\",origin=\"lower\",interpolation=\"bicubic\")\n",
    "fig.colorbar(im,ax=ax[0])\n",
    "\n",
    "im = ax[1].imshow((ce2['Uxy'][:,:,-1]),cmap=\"jet\",origin=\"lower\",interpolation=\"bicubic\")\n",
    "fig.colorbar(im,ax=ax[1])\n",
    "\n",
    "for a in ax:\n",
    "    a.set_xticks([0,Nx-1,2*Nx-2])\n",
    "    a.set_xticklabels([r'$-N_x$',r'$0$',r'$N_x$'],fontsize=14)\n",
    "    a.set_yticks([0,Ny-1,2*Ny-2])\n",
    "    a.set_yticklabels([r'$-N_y$',r'$0$',r'$N_y$'],fontsize=14)\n",
    "\n",
    "plt.show()"
   ]
  },
  {
   "cell_type": "code",
   "execution_count": null,
   "metadata": {},
   "outputs": [],
   "source": [
    "fig,ax = plt.subplots(1,2,figsize=(15,6))\n",
    "\n",
    "im = ax[0].imshow((ql['Emn'][:,:,-1]),cmap=\"nipy_spectral_r\",origin=\"lower\",interpolation=\"bicubic\")\n",
    "fig.colorbar(im,ax=ax[0])\n",
    "\n",
    "im = ax[1].imshow((ce2['Emn'][:,:,-1]),cmap=\"nipy_spectral_r\",origin=\"lower\",interpolation=\"bicubic\")\n",
    "fig.colorbar(im,ax=ax[1])\n",
    "\n",
    "for a in ax:\n",
    "    a.set_xticks([0,Nx-1,2*Nx-2])\n",
    "    a.set_xticklabels([r'$-N_x$',r'$0$',r'$N_x$'],fontsize=14)\n",
    "    a.set_yticks([0,Ny-1,2*Ny-2])\n",
    "    a.set_yticklabels([r'$-N_y$',r'$0$',r'$N_y$'],fontsize=14)\n",
    "\n",
    "plt.show()"
   ]
  },
  {
   "cell_type": "code",
   "execution_count": null,
   "metadata": {},
   "outputs": [],
   "source": [
    "gql = np.load(dn+\"gql_1.npz\",allow_pickle=True) \n",
    "gce2 = np.load(dn+\"gce2_1.npz\",allow_pickle=True) \n",
    "gce2_short = np.load(dn+\"gce2_1_short.npz\",allow_pickle=True) "
   ]
  },
  {
   "cell_type": "code",
   "execution_count": null,
   "metadata": {},
   "outputs": [],
   "source": [
    "fig,ax = plt.subplots(1,2,figsize=(12,5))\n",
    "    \n",
    "# Energy\n",
    "ax[0].plot(gql['t'],gql['Et'],label=r'$ GQL $')\n",
    "ax[0].plot(gql['t'],gql['Etav'],label=r'$\\langle GQL \\rangle$')\n",
    "ax[0].plot(gce2['t'],gce2['Etav'],label=r'$\\langle GCE2 \\rangle$')\n",
    "ax[0].plot(gce2_short['t'],gce2_short['Etav'],label=r'$\\langle GCE2 \\rangle$')\n",
    "\n",
    "ax[0].set_xlabel(r'$t$',fontsize=14)\n",
    "ax[0].set_ylabel(r'$E$',fontsize=14)\n",
    "ax[0].legend(loc=4,fontsize=14)\n",
    "\n",
    "# Enstrophy\n",
    "ax[1].plot(gql['t'],gql['Zt'],label=r'$ GQL $')\n",
    "ax[1].plot(gql['t'],gql['Ztav'],label=r'$\\langle GQL \\rangle$')\n",
    "ax[1].plot(gce2['t'],gce2['Ztav'],label=r'$\\langle GCE2 \\rangle$')\n",
    "ax[1].plot(gce2_short['t'],gce2_short['Ztav'],label=r'$\\langle GCE2 \\rangle$')\n",
    "\n",
    "\n",
    "ax[1].set_xlabel(r'$t$',fontsize=14)\n",
    "ax[1].set_ylabel(r'$Z$',fontsize=14)\n",
    "ax[1].legend(loc=4,fontsize=14)\n",
    "\n",
    "plt.show()"
   ]
  },
  {
   "cell_type": "code",
   "execution_count": null,
   "metadata": {},
   "outputs": [],
   "source": [
    "fig,ax = plt.subplots(1,2,figsize=(12,5))\n",
    "    \n",
    "# Energy\n",
    "ax[0].set_title(r'$GQL$',fontsize=14)\n",
    "for i,x in enumerate(gql['Emtav'].T):\n",
    "    ax[0].plot(gql['t'],x,label=i,c=colors[i])\n",
    "    \n",
    "ax[1].set_title(r'$GCE2$',fontsize=14)\n",
    "for i,x in enumerate(gce2['Emtav'].T):\n",
    "    ax[1].plot(gce2['t'],x,label=i,c=colors[i])\n",
    "\n",
    "for a in ax:\n",
    "    a.set_xlabel(r'$t$',fontsize=14)\n",
    "    a.set_ylabel(r'$E$',fontsize=14)\n",
    "#     a.set_yscale('log')\n",
    "    a.set_ylim(0,0.5)\n",
    "ax[1].legend(bbox_to_anchor=(1.01,0.85),fontsize=14)\n",
    "\n",
    "plt.show()"
   ]
  },
  {
   "cell_type": "code",
   "execution_count": null,
   "metadata": {},
   "outputs": [],
   "source": [
    "fig,ax = plt.subplots(1,2,figsize=(15,6))\n",
    "\n",
    "im = ax[0].imshow((gql['Uxy'][:,:,-1]),cmap=\"jet\",origin=\"lower\",interpolation=\"bicubic\")\n",
    "fig.colorbar(im,ax=ax[0])\n",
    "\n",
    "im = ax[1].imshow((gce2['Uxy'][:,:,-1]),cmap=\"jet\",origin=\"lower\",interpolation=\"bicubic\")\n",
    "fig.colorbar(im,ax=ax[1])\n",
    "\n",
    "for a in ax:\n",
    "    a.set_xticks([0,Nx-1,2*Nx-2])\n",
    "    a.set_xticklabels([r'$-N_x$',r'$0$',r'$N_x$'],fontsize=14)\n",
    "    a.set_yticks([0,Ny-1,2*Ny-2])\n",
    "    a.set_yticklabels([r'$-N_y$',r'$0$',r'$N_y$'],fontsize=14)\n",
    "\n",
    "plt.show()"
   ]
  },
  {
   "cell_type": "code",
   "execution_count": null,
   "metadata": {},
   "outputs": [],
   "source": [
    "fig,ax = plt.subplots(1,2,figsize=(15,6))\n",
    "\n",
    "im = ax[0].imshow((gql['Emn'][:,:,-1]),cmap=\"nipy_spectral_r\",origin=\"lower\",interpolation=\"bicubic\")\n",
    "fig.colorbar(im,ax=ax[0])\n",
    "\n",
    "im = ax[1].imshow((gce2['Emn'][:,:,-1]),cmap=\"nipy_spectral_r\",origin=\"lower\",interpolation=\"bicubic\")\n",
    "fig.colorbar(im,ax=ax[1])\n",
    "\n",
    "for a in ax:\n",
    "    a.set_xticks([0,Nx-1,2*Nx-2])\n",
    "    a.set_xticklabels([r'$-N_x$',r'$0$',r'$N_x$'],fontsize=14)\n",
    "    a.set_yticks([0,Ny-1,2*Ny-2])\n",
    "    a.set_yticklabels([r'$-N_y$',r'$0$',r'$N_y$'],fontsize=14)\n",
    "\n",
    "plt.show()"
   ]
  },
  {
   "cell_type": "markdown",
   "metadata": {},
   "source": [
    "# 12x12 tests"
   ]
  },
  {
   "cell_type": "markdown",
   "metadata": {},
   "source": [
    "Parameters:\n",
    "\n",
    "> $\\beta = 10.0$\n",
    "\n",
    "> $\\mu = 0.01$\n",
    "\n",
    "> $\\nu = 0.0$\n",
    "\n",
    "> $\\nu_\\alpha = 1.0$\n",
    "\n",
    "> $k_f = 8$\n",
    "\n",
    "> $\\delta k = 2$\n",
    "\n",
    "> $\\varepsilon = 0.001$"
   ]
  },
  {
   "cell_type": "code",
   "execution_count": null,
   "metadata": {},
   "outputs": [],
   "source": [
    "dn = \"stochastic/12x12/\"\n",
    "\n",
    "Nx,Ny = 12,12\n",
    "colors = pl.cm.nipy_spectral(np.linspace(0,1,12))"
   ]
  },
  {
   "cell_type": "code",
   "execution_count": null,
   "metadata": {},
   "outputs": [],
   "source": [
    "ql = np.load(dn+\"ql_long.npz\",allow_pickle=True) \n",
    "ce2 = np.load(dn+\"ce2_long.npz\",allow_pickle=True) "
   ]
  },
  {
   "cell_type": "code",
   "execution_count": null,
   "metadata": {},
   "outputs": [],
   "source": [
    "fig,ax = plt.subplots(1,2,figsize=(12,5))\n",
    "    \n",
    "# Energy\n",
    "ax[0].plot(ql['t'],ql['Etav'],label=r'$\\langle QL \\rangle$')\n",
    "ax[0].plot(ce2['t'],ce2['Etav'],label=r'$\\langle CE2 \\rangle$')\n",
    "\n",
    "ax[0].set_xlabel(r'$t$',fontsize=14)\n",
    "ax[0].set_ylabel(r'$E$',fontsize=14)\n",
    "ax[0].legend(loc=4,fontsize=14)\n",
    "\n",
    "# Enstrophy\n",
    "ax[1].plot(ql['t'],ql['Ztav'],label=r'$\\langle QL \\rangle$')\n",
    "ax[1].plot(ce2['t'],ce2['Ztav'],label=r'$\\langle CE2 \\rangle$')\n",
    "    \n",
    "ax[1].set_xlabel(r'$t$',fontsize=14)\n",
    "ax[1].set_ylabel(r'$Z$',fontsize=14)\n",
    "ax[1].legend(loc=4,fontsize=14)\n",
    "\n",
    "plt.show()"
   ]
  },
  {
   "cell_type": "code",
   "execution_count": null,
   "metadata": {},
   "outputs": [],
   "source": [
    "fig,ax = plt.subplots(1,2,figsize=(12,5))\n",
    "    \n",
    "# Energy\n",
    "ax[0].set_title(r'$QL$',fontsize=14)\n",
    "for i,x in enumerate(ql['Emtav'].T):\n",
    "    ax[0].plot(ql['t'],x,label=i,c=colors[i])\n",
    "    \n",
    "ax[1].set_title(r'$CE2$',fontsize=14)\n",
    "for i,x in enumerate(ce2['Emtav'].T):\n",
    "    ax[1].plot(ce2['t'],x,c=colors[i])\n",
    "\n",
    "for a in ax:\n",
    "    a.set_xlabel(r'$t$',fontsize=14)\n",
    "    a.set_ylabel(r'$E$',fontsize=14)\n",
    "#     a.set_yscale('log')\n",
    "#     a.set_ylim(1e-15,0.1)\n",
    "#     ax.legend(bbox_to_anchor=(1.01,0.85),fontsize=14)\n",
    "\n",
    "plt.show()"
   ]
  },
  {
   "cell_type": "code",
   "execution_count": null,
   "metadata": {},
   "outputs": [],
   "source": [
    "fig,ax = plt.subplots(1,2,figsize=(15,6))\n",
    "\n",
    "im = ax[0].imshow((ql['Uxy'][:,:,-1]),cmap=\"jet\",origin=\"lower\",interpolation=\"bicubic\")\n",
    "fig.colorbar(im,ax=ax[0])\n",
    "\n",
    "im = ax[1].imshow((ce2['Uxy'][:,:,-1]),cmap=\"jet\",origin=\"lower\",interpolation=\"bicubic\")\n",
    "fig.colorbar(im,ax=ax[1])\n",
    "\n",
    "for a in ax:\n",
    "    a.set_xticks([0,Nx-1,2*Nx-2])\n",
    "    a.set_xticklabels([r'$-N_x$',r'$0$',r'$N_x$'],fontsize=14)\n",
    "    a.set_yticks([0,Ny-1,2*Ny-2])\n",
    "    a.set_yticklabels([r'$-N_y$',r'$0$',r'$N_y$'],fontsize=14)\n",
    "\n",
    "plt.show()"
   ]
  },
  {
   "cell_type": "code",
   "execution_count": null,
   "metadata": {},
   "outputs": [],
   "source": [
    "fig,ax = plt.subplots(1,2,figsize=(15,6))\n",
    "\n",
    "im = ax[0].imshow((ql['Emn'][:,:,-1]),cmap=\"nipy_spectral_r\",origin=\"lower\",interpolation=\"bicubic\")\n",
    "fig.colorbar(im,ax=ax[0])\n",
    "\n",
    "im = ax[1].imshow((ce2['Emn'][:,:,-1]),cmap=\"nipy_spectral_r\",origin=\"lower\",interpolation=\"bicubic\")\n",
    "fig.colorbar(im,ax=ax[1])\n",
    "\n",
    "for a in ax:\n",
    "    a.set_xticks([0,Nx-1,2*Nx-2])\n",
    "    a.set_xticklabels([r'$-N_x$',r'$0$',r'$N_x$'],fontsize=14)\n",
    "    a.set_yticks([0,Ny-1,2*Ny-2])\n",
    "    a.set_yticklabels([r'$-N_y$',r'$0$',r'$N_y$'],fontsize=14)\n",
    "\n",
    "plt.show()"
   ]
  }
 ],
 "metadata": {
  "kernelspec": {
   "display_name": "Python 3",
   "language": "python",
   "name": "python3"
  },
  "language_info": {
   "codemirror_mode": {
    "name": "ipython",
    "version": 3
   },
   "file_extension": ".py",
   "mimetype": "text/x-python",
   "name": "python",
   "nbconvert_exporter": "python",
   "pygments_lexer": "ipython3",
   "version": "3.7.3"
  }
 },
 "nbformat": 4,
 "nbformat_minor": 4
}
