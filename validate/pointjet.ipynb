{
 "cells": [
  {
   "cell_type": "code",
   "execution_count": null,
   "metadata": {},
   "outputs": [],
   "source": [
    "import matplotlib.pyplot as plt\n",
    "import pandas as pd\n",
    "import numpy as np\n",
    "import matplotlib.pylab as pl\n",
    "\n",
    "colors = pl.cm.nipy_spectral_r(np.linspace(0,1,32))"
   ]
  },
  {
   "cell_type": "code",
   "execution_count": null,
   "metadata": {},
   "outputs": [],
   "source": [
    "dn = \"pointjet/12x12/\""
   ]
  },
  {
   "cell_type": "code",
   "execution_count": null,
   "metadata": {},
   "outputs": [],
   "source": [
    "# Parameters: μ = 0.05, τ = 20.0, Ξ = 1.0*Ω and Δθ = 0.1\n",
    "Nx = 12\n",
    "Ny = 12"
   ]
  },
  {
   "cell_type": "code",
   "execution_count": null,
   "metadata": {},
   "outputs": [],
   "source": [
    "fn = dn+\"nl.npz\"\n",
    "nl = np.load(fn,allow_pickle=True) "
   ]
  },
  {
   "cell_type": "code",
   "execution_count": null,
   "metadata": {},
   "outputs": [],
   "source": [
    "fig,ax = plt.subplots(figsize=(6,6))\n",
    "\n",
    "for i,x in enumerate(nl['Emtav'].T):\n",
    "    \n",
    "    plt.plot(nl['t'],x,label=i,c=colors[i])\n",
    "\n",
    "ax.set_xlabel(r'$t$',fontsize=14)\n",
    "ax.set_ylabel(r'$E(m)$',fontsize=14)\n",
    "\n",
    "# plt.yscale('log')\n",
    "# plt.ylim(1e-5,1e-1)\n",
    "\n",
    "ax.set_title(r'NL ($\\tau = 20.0$)')\n",
    "\n",
    "ax.legend(bbox_to_anchor=(1.0, 0.9),ncol=1)\n",
    "\n",
    "plt.show()"
   ]
  },
  {
   "cell_type": "code",
   "execution_count": null,
   "metadata": {},
   "outputs": [],
   "source": [
    "fig,ax = plt.subplots(1,2,figsize=(11,4))\n",
    "\n",
    "im = ax[0].imshow((data['Uxy'][:,:,0]),interpolation=\"bicubic\",cmap=\"RdBu_r\",origin=\"lower\")\n",
    "fig.colorbar(im, ax=ax[0])\n",
    "ax[0].set_title(r'$\\zeta(x,y,t = 0 )$',fontsize=14)\n",
    "\n",
    "im = ax[1].imshow((data['Uxy'][:,:,-1]),interpolation=\"bicubic\",cmap=\"RdBu_r\",origin=\"lower\")\n",
    "fig.colorbar(im, ax=ax[1])\n",
    "ax[1].set_title(r'$\\zeta(x,y,t = 1000)$',fontsize=14)\n",
    "\n",
    "for a in ax:\n",
    "    \n",
    "    a.set_xticks([0,Nx-1,2*Nx-1])\n",
    "    a.set_xticklabels([r'$0$',r'$\\pi$',r'$2\\pi$'],fontsize=14)\n",
    "    a.set_yticks([0,Ny-1,2*Ny-1])\n",
    "    a.set_yticklabels([r'$0$',r'$\\pi$',r'$2\\pi$'],fontsize=14)\n",
    "\n",
    "plt.show()"
   ]
  },
  {
   "cell_type": "code",
   "execution_count": null,
   "metadata": {},
   "outputs": [],
   "source": []
  }
 ],
 "metadata": {
  "kernelspec": {
   "display_name": "Python 3",
   "language": "python",
   "name": "python3"
  },
  "language_info": {
   "codemirror_mode": {
    "name": "ipython",
    "version": 3
   },
   "file_extension": ".py",
   "mimetype": "text/x-python",
   "name": "python",
   "nbconvert_exporter": "python",
   "pygments_lexer": "ipython3",
   "version": "3.7.3"
  }
 },
 "nbformat": 4,
 "nbformat_minor": 4
}
