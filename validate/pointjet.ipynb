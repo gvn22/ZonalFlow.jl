{
 "cells": [
  {
   "cell_type": "code",
   "execution_count": null,
   "metadata": {},
   "outputs": [],
   "source": [
    "import matplotlib.pyplot as plt\n",
    "import pandas as pd\n",
    "import numpy as np\n",
    "import matplotlib.pylab as pl\n",
    "\n",
    "colors = pl.cm.nipy_spectral_r(np.linspace(0,1,32))"
   ]
  },
  {
   "cell_type": "code",
   "execution_count": null,
   "metadata": {},
   "outputs": [],
   "source": [
    "dn = \"pointjet/12x12/\""
   ]
  },
  {
   "cell_type": "code",
   "execution_count": null,
   "metadata": {},
   "outputs": [],
   "source": [
    "# Parameters: μ = 0.05, τ = 20.0, Ξ = 1.0*Ω and Δθ = 0.1\n",
    "Nx = 12\n",
    "Ny = 12"
   ]
  },
  {
   "cell_type": "code",
   "execution_count": null,
   "metadata": {},
   "outputs": [],
   "source": [
    "nl = np.load(dn+\"nl.npz\",allow_pickle=True) \n",
    "gql = np.load(dn+\"gql.npz\",allow_pickle=True) \n",
    "gce2 = np.load(dn+\"gce2.npz\",allow_pickle=True) "
   ]
  },
  {
   "cell_type": "code",
   "execution_count": null,
   "metadata": {},
   "outputs": [],
   "source": [
    "fig,ax = plt.subplots(1,2,figsize=(14,5))\n",
    "    \n",
    "# Energy\n",
    "ax[0].plot(nl['t'],nl['Etav'],label=r'$\\langle NL \\rangle$')\n",
    "ax[0].plot(gql['t'],gql['Etav'],label=r'$\\langle GQL(M) \\rangle$')\n",
    "ax[0].plot(gce2['t'],gce2['Etav'],label=r'$\\langle GCE2(M) \\rangle$')\n",
    "\n",
    "ax[0].set_xlabel(r'$t$',fontsize=14)\n",
    "ax[0].set_ylabel(r'$E$',fontsize=14)\n",
    "# ax[0].legend(bbox_to_anchor=(1.01,0.85),fontsize=14)\n",
    "\n",
    "# Enstrophy\n",
    "ax[1].plot(nl['t'],nl['Ztav'],label=r'$\\langle NL \\rangle$')\n",
    "ax[1].plot(gql['t'],gql['Ztav'],label=r'$\\langle GQL(M) \\rangle$')\n",
    "ax[1].plot(gce2['t'],gce2['Ztav'],label=r'$\\langle GCE2(M) \\rangle$')\n",
    "\n",
    "\n",
    "ax[1].set_xlabel(r'$t$',fontsize=14)\n",
    "ax[1].set_ylabel(r'$Z$',fontsize=14)\n",
    "ax[1].legend(loc=4,fontsize=14)\n",
    "\n",
    "plt.show()"
   ]
  },
  {
   "cell_type": "code",
   "execution_count": null,
   "metadata": {},
   "outputs": [],
   "source": [
    "fig,ax = plt.subplots(1,3,figsize=(14,5))\n",
    "\n",
    "ax[0].set_title(f'NL')\n",
    "for i,x in enumerate(nl['Emt'].T):    \n",
    "    ax[0].plot(nl['t'],x,label=i,c=colors[i])\n",
    "\n",
    "ax[1].set_title(f'GQL(M)')\n",
    "for i,x in enumerate(gql['Emt'].T):\n",
    "    ax[1].plot(gql['t'],x,label=i,c=colors[i])\n",
    "\n",
    "ax[2].set_title(f'GCE2(M)')\n",
    "for i,x in enumerate(gce2['Emt'].T):\n",
    "    ax[2].plot(gce2['t'],x,label=i,c=colors[i])\n",
    "\n",
    "for a in ax:\n",
    "    \n",
    "    a.set_xlabel(r'$t$',fontsize=14)\n",
    "    a.set_yscale('log')\n",
    "#     a.set_ylim(1e-10,1e1)\n",
    "\n",
    "ax[0].set_ylabel(r'$E(m)$',fontsize=14)\n",
    "ax[2].legend(bbox_to_anchor=(1.01,0.85),ncol=1)\n",
    "\n",
    "plt.show()"
   ]
  },
  {
   "cell_type": "code",
   "execution_count": null,
   "metadata": {},
   "outputs": [],
   "source": [
    "fig,ax = plt.subplots(1,3,figsize=(24,6))\n",
    "\n",
    "ax[0].set_title(f'NL',fontsize=14)\n",
    "im = ax[0].imshow((nl['Emn'][:,:,-1]),cmap=\"nipy_spectral_r\",origin=\"lower\",interpolation=\"bicubic\")\n",
    "fig.colorbar(im,ax=ax[0])\n",
    "\n",
    "ax[1].set_title(f'GQL(M)',fontsize=14)\n",
    "im = ax[1].imshow((gql['Emn'][:,:,-1]),cmap=\"nipy_spectral_r\",origin=\"lower\",interpolation=\"bicubic\")\n",
    "fig.colorbar(im,ax=ax[1])\n",
    "\n",
    "ax[2].set_title(f'GCE2(M)',fontsize=14)\n",
    "im = ax[2].imshow((gce2['Emn'][:,:,-1]),cmap=\"nipy_spectral_r\",origin=\"lower\",interpolation=\"bicubic\")\n",
    "fig.colorbar(im,ax=ax[2])\n",
    "\n",
    "for a in ax:\n",
    "    a.set_xticks([0,Nx-1,2*Nx-2])\n",
    "    a.set_xticklabels([r'$-N_x$',r'$0$',r'$N_x$'],fontsize=14)\n",
    "    a.set_yticks([0,Ny-1,2*Ny-2])\n",
    "    a.set_yticklabels([r'$-N_y$',r'$0$',r'$N_y$'],fontsize=14)\n",
    "\n",
    "plt.show()"
   ]
  },
  {
   "cell_type": "code",
   "execution_count": null,
   "metadata": {},
   "outputs": [],
   "source": [
    "fig,ax = plt.subplots(1,3,figsize=(24,6))\n",
    "\n",
    "ax[0].set_title(f'NL',fontsize=14)\n",
    "im = ax[0].imshow((nl['Vxy'][:,:,-1]),cmap=\"nipy_spectral_r\",origin=\"lower\",interpolation=\"bicubic\")\n",
    "fig.colorbar(im,ax=ax[0])\n",
    "\n",
    "ax[1].set_title(f'GQL(M)',fontsize=14)\n",
    "im = ax[1].imshow((gql['Vxy'][:,:,-1]),cmap=\"nipy_spectral_r\",origin=\"lower\",interpolation=\"bicubic\")\n",
    "fig.colorbar(im,ax=ax[1])\n",
    "\n",
    "ax[2].set_title(f'GCE2(M)',fontsize=14)\n",
    "im = ax[2].imshow((gce2['Vxy'][:,:,-1]),cmap=\"nipy_spectral_r\",origin=\"lower\",interpolation=\"bicubic\")\n",
    "fig.colorbar(im,ax=ax[2])\n",
    "\n",
    "for a in ax:\n",
    "    a.set_xticks([0,Nx-1,2*Nx-2])\n",
    "    a.set_xticklabels([r'$-N_x$',r'$0$',r'$N_x$'],fontsize=14)\n",
    "    a.set_yticks([0,Ny-1,2*Ny-2])\n",
    "    a.set_yticklabels([r'$-N_y$',r'$0$',r'$N_y$'],fontsize=14)\n",
    "\n",
    "plt.show()"
   ]
  },
  {
   "cell_type": "code",
   "execution_count": null,
   "metadata": {},
   "outputs": [],
   "source": [
    "ql = np.load(dn+\"ql.npz\",allow_pickle=True) \n",
    "ce2 = np.load(dn+\"ce2.npz\",allow_pickle=True)\n",
    "# gce2 = np.load(dn+\"gce2_0.npz\",allow_pickle=True)"
   ]
  },
  {
   "cell_type": "code",
   "execution_count": null,
   "metadata": {},
   "outputs": [],
   "source": [
    "fig,ax = plt.subplots(1,3,figsize=(14,5))\n",
    "    \n",
    "# Energy\n",
    "ax[0].set_title(f'QL',fontsize=14)\n",
    "for i,x in enumerate(ql['Emtav'].T):\n",
    "    ax[0].plot(ql['t'],x,label=i,c=colors[i])\n",
    "\n",
    "ax[1].set_title(f'CE2',fontsize=14)\n",
    "for i,x in enumerate(ce2['Emtav'].T):\n",
    "    ax[1].plot(ce2['t'],x,c=colors[i])\n",
    "\n",
    "ax[2].set_title(f'GCE2(0)',fontsize=14)\n",
    "# for i,x in enumerate(ce2['Emtav'].T):\n",
    "#     ax[2].plot(gce2['t'],x,c=colors[i])\n",
    "\n",
    "\n",
    "for a in ax:\n",
    "    a.set_xlabel(r'$t$',fontsize=14)\n",
    "    a.set_ylabel(r'$E$',fontsize=14)\n",
    "    a.set_yscale('log')\n",
    "#     a.set_ylim(1e-1,1e0)\n",
    "# ax[1].legend(bbox_to_anchor=(1.01,0.85),fontsize=14)\n",
    "\n",
    "plt.show()"
   ]
  },
  {
   "cell_type": "code",
   "execution_count": null,
   "metadata": {},
   "outputs": [],
   "source": [
    "fig,ax = plt.subplots(1,3,figsize=(24,6))\n",
    "\n",
    "ax[0].set_title(f'QL',fontsize=14)\n",
    "im = ax[0].imshow((ql['Emn'][:,:,-1]),cmap=\"nipy_spectral_r\",origin=\"lower\",interpolation=\"bicubic\")\n",
    "fig.colorbar(im,ax=ax[0])\n",
    "\n",
    "ax[1].set_title(f'CE2',fontsize=14)\n",
    "im = ax[1].imshow((ce2['Emn'][:,:,-1]),cmap=\"nipy_spectral_r\",origin=\"lower\",interpolation=\"bicubic\")\n",
    "fig.colorbar(im,ax=ax[1])\n",
    "\n",
    "ax[2].set_title(f'GCE2(0)',fontsize=14)\n",
    "# im = ax[2].imshow((gce2_0['Emn'][:,:,-1]),cmap=\"nipy_spectral_r\",origin=\"lower\",interpolation=\"bicubic\")\n",
    "# fig.colorbar(im,ax=ax[2])\n",
    "\n",
    "for a in ax:\n",
    "    a.set_xticks([0,Nx-1,2*Nx-2])\n",
    "    a.set_xticklabels([r'$-N_x$',r'$0$',r'$N_x$'],fontsize=14)\n",
    "    a.set_yticks([0,Ny-1,2*Ny-2])\n",
    "    a.set_yticklabels([r'$-N_y$',r'$0$',r'$N_y$'],fontsize=14)\n",
    "\n",
    "plt.show()"
   ]
  },
  {
   "cell_type": "code",
   "execution_count": null,
   "metadata": {},
   "outputs": [],
   "source": [
    "fig,ax = plt.subplots(1,3,figsize=(24,6))\n",
    "\n",
    "ax[0].set_title(f'QL',fontsize=14)\n",
    "im = ax[0].imshow((ql['Vxy'][:,:,-1]),cmap=\"RdBu_r\",origin=\"lower\",interpolation=\"bicubic\")\n",
    "fig.colorbar(im,ax=ax[0])\n",
    "\n",
    "ax[1].set_title(f'CE2',fontsize=14)\n",
    "im = ax[1].imshow((ce2['Vxy'][:,:,-1]),cmap=\"RdBu_r\",origin=\"lower\",interpolation=\"bicubic\")\n",
    "fig.colorbar(im,ax=ax[1])\n",
    "\n",
    "ax[2].set_title(f'GCE2(0)',fontsize=14)\n",
    "# im = ax[2].imshow((gce2_0['Emn'][:,:,-1]),cmap=\"nipy_spectral_r\",origin=\"lower\",interpolation=\"bicubic\")\n",
    "# fig.colorbar(im,ax=ax[2])\n",
    "\n",
    "for a in ax:\n",
    "    a.set_xticks([0,Nx-1,2*Nx-2])\n",
    "    a.set_xticklabels([r'$-N_x$',r'$0$',r'$N_x$'],fontsize=14)\n",
    "    a.set_yticks([0,Ny-1,2*Ny-2])\n",
    "    a.set_yticklabels([r'$-N_y$',r'$0$',r'$N_y$'],fontsize=14)\n",
    "\n",
    "plt.show()"
   ]
  },
  {
   "cell_type": "code",
   "execution_count": null,
   "metadata": {},
   "outputs": [],
   "source": [
    "fig,ax = plt.subplots(1,3,figsize=(24,6))\n",
    "\n",
    "ax[0].set_title(f'QL',fontsize=14)\n",
    "im = ax[0].imshow((ql['Uxy'][:,:,-1]),cmap=\"RdBu_r\",origin=\"lower\",interpolation=\"bicubic\")\n",
    "fig.colorbar(im,ax=ax[0])\n",
    "\n",
    "ax[1].set_title(f'CE2',fontsize=14)\n",
    "im = ax[1].imshow((ce2['Uxy'][:,:,-1]),cmap=\"RdBu_r\",origin=\"lower\",interpolation=\"bicubic\")\n",
    "fig.colorbar(im,ax=ax[1])\n",
    "\n",
    "ax[2].set_title(f'GCE2(0)',fontsize=14)\n",
    "# im = ax[2].imshow((gce2_0['Emn'][:,:,-1]),cmap=\"nipy_spectral_r\",origin=\"lower\",interpolation=\"bicubic\")\n",
    "# fig.colorbar(im,ax=ax[2])\n",
    "\n",
    "for a in ax:\n",
    "    a.set_xticks([0,Nx-1,2*Nx-2])\n",
    "    a.set_xticklabels([r'$-N_x$',r'$0$',r'$N_x$'],fontsize=14)\n",
    "    a.set_yticks([0,Ny-1,2*Ny-2])\n",
    "    a.set_yticklabels([r'$-N_y$',r'$0$',r'$N_y$'],fontsize=14)\n",
    "\n",
    "plt.show()"
   ]
  },
  {
   "cell_type": "code",
   "execution_count": null,
   "metadata": {},
   "outputs": [],
   "source": []
  }
 ],
 "metadata": {
  "kernelspec": {
   "display_name": "Python 3",
   "language": "python",
   "name": "python3"
  },
  "language_info": {
   "codemirror_mode": {
    "name": "ipython",
    "version": 3
   },
   "file_extension": ".py",
   "mimetype": "text/x-python",
   "name": "python",
   "nbconvert_exporter": "python",
   "pygments_lexer": "ipython3",
   "version": "3.7.3"
  }
 },
 "nbformat": 4,
 "nbformat_minor": 4
}
