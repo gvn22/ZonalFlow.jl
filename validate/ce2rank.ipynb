{
 "cells": [
  {
   "cell_type": "markdown",
   "metadata": {},
   "source": [
    "# Investigating rank of second cumulant in CE2 "
   ]
  },
  {
   "cell_type": "markdown",
   "metadata": {},
   "source": [
    "> for every zonal mode m, there is a square matrix in modes along y1,y2, whose rank is in being investigated here"
   ]
  },
  {
   "cell_type": "code",
   "execution_count": null,
   "metadata": {},
   "outputs": [],
   "source": [
    "import matplotlib.pyplot as plt\n",
    "import numpy as np\n",
    "import matplotlib.pylab as pl"
   ]
  },
  {
   "cell_type": "code",
   "execution_count": null,
   "metadata": {},
   "outputs": [],
   "source": [
    "import matplotlib as mpl\n",
    "\n",
    "plt.rc('font', family='serif') ## setting for figures which I usually use in my publications\n",
    "mpl.rcParams.update({'font.size': 12})\n",
    "mpl.rcParams.update({'legend.labelspacing':0.25, 'legend.fontsize': 12})\n",
    "mpl.rcParams.update({'errorbar.capsize': 4})"
   ]
  },
  {
   "cell_type": "code",
   "execution_count": null,
   "metadata": {},
   "outputs": [],
   "source": [
    "def ranks(array):\n",
    "    return len(np.where(array > 1e-10)[0])\n",
    "\n",
    "def moderanks(array):\n",
    "    nt = np.shape(array)[2]\n",
    "    nm = np.shape(array)[1]\n",
    "    \n",
    "    R = np.reshape(np.zeros(nt*nm),(nt,nm))\n",
    "    for t in np.arange(nt):\n",
    "        for m in np.arange(nm):\n",
    "            R[t,m] = ranks(array[:,m,t])\n",
    "\n",
    "    return R"
   ]
  },
  {
   "cell_type": "code",
   "execution_count": null,
   "metadata": {},
   "outputs": [],
   "source": [
    "dn = \"ranktests/\"\n",
    "M,N = 8,8"
   ]
  },
  {
   "cell_type": "markdown",
   "metadata": {},
   "source": [
    "## Point Jet"
   ]
  },
  {
   "cell_type": "markdown",
   "metadata": {},
   "source": [
    "> for a point jet with relaxation time of 20 days, the rank is unity for energetic zonal modes, as expected"
   ]
  },
  {
   "cell_type": "code",
   "execution_count": null,
   "metadata": {},
   "outputs": [],
   "source": [
    "ql_pj = np.load(dn+\"ql_pj_500.npz\",allow_pickle=True) \n",
    "ce2_pj = np.load(dn+\"ce2_pj_500.npz\",allow_pickle=True) \n",
    "ce2_pj_qlic = np.load(dn+\"ce2_pj_qlic_500.npz\",allow_pickle=True) "
   ]
  },
  {
   "cell_type": "code",
   "execution_count": null,
   "metadata": {},
   "outputs": [],
   "source": [
    "Nt = len(ce2_pj['t'])\n",
    "T = ce2_pj['t'][-1]\n",
    "t = np.linspace(0,T,Nt)"
   ]
  },
  {
   "cell_type": "code",
   "execution_count": null,
   "metadata": {},
   "outputs": [],
   "source": [
    "fig,ax = plt.subplots(1,3,figsize=(15,5))\n",
    "\n",
    "colors = pl.cm.nipy_spectral(np.linspace(0,1,M))\n",
    "\n",
    "ax[0].set_title(f'QL')\n",
    "for i,x in enumerate(ql_pj['Emt'].T):    \n",
    "    ax[0].plot(t,x,label=i,c=colors[i])\n",
    "\n",
    "ax[1].set_title(f'CE2')\n",
    "for i,x in enumerate(ce2_pj['Emt'].T):\n",
    "    ax[1].plot(t,x,label=i,c=colors[i])\n",
    "\n",
    "ax[2].set_title(f'CE2 w/ QL IC')\n",
    "for i,x in enumerate(ce2_pj_qlic['Emt'].T):\n",
    "    ax[2].plot(t,x,label=i,c=colors[i])\n",
    "\n",
    "\n",
    "for a in ax:\n",
    "    a.set_xlabel(r'$t$',fontsize=14)\n",
    "    a.set_yscale('log')\n",
    "    a.set_ylim(1e-16,1e5)\n",
    "\n",
    "ax[0].set_ylabel(r'$E(m)$',fontsize=14)\n",
    "ax[2].legend(bbox_to_anchor=(1.0,0.75),ncol=1)\n",
    "\n",
    "plt.show()\n",
    "# plt.savefig(dn+'figures/qlce2_pj_500.png',bbox_inches='tight')"
   ]
  },
  {
   "cell_type": "code",
   "execution_count": null,
   "metadata": {},
   "outputs": [],
   "source": [
    "R_ce2_pj = moderanks(ce2_pj['mEVs'])\n",
    "R_ce2_pj_qlic = moderanks(ce2_pj_qlic['mEVs'])"
   ]
  },
  {
   "cell_type": "code",
   "execution_count": null,
   "metadata": {},
   "outputs": [],
   "source": [
    "fig,ax = plt.subplots(1,2,figsize=(15,3))\n",
    "\n",
    "colors = pl.cm.nipy_spectral(np.linspace(0,1,M))\n",
    "\n",
    "ax[0].set_title(f'Modal ranks for CE2 w/ rand IC')\n",
    "for i in np.arange(6):\n",
    "    ax[0].plot(t,R_ce2_pj[:,i],label=i+1,c=colors[i+1])\n",
    "    \n",
    "ax[1].set_title(f'Modal ranks for CE2 w/ QL IC')\n",
    "for i in np.arange(6):\n",
    "    ax[1].plot(t,R_ce2_pj_qlic[:,i],label=i+1,c=colors[i+1])\n",
    "\n",
    "ax[1].legend(loc=5,ncol=1)\n",
    "\n",
    "for a in ax:\n",
    "    a.set_xlabel(r'$t$',fontsize=14)\n",
    "    a.set_ylabel(r'$Rank$',fontsize=14)\n",
    "\n",
    "plt.show()\n",
    "# plt.savefig(dn+'figures/ranks_ce2_pj.png',bbox_inches='tight')"
   ]
  },
  {
   "cell_type": "code",
   "execution_count": null,
   "metadata": {},
   "outputs": [],
   "source": [
    "fig,ax = plt.subplots(1,2,figsize=(15,3))\n",
    "\n",
    "colors = pl.cm.nipy_spectral_r(np.linspace(0,1,2*N-1))\n",
    "\n",
    "ax[0].set_title(f'm = 1 spectrum for CE2 w/ rand IC')\n",
    "for i,x in enumerate(ce2_pj['mEVs'][:,0,:]):\n",
    "    ax[0].plot(t,x,label=i,c=colors[i])\n",
    "\n",
    "ax[1].set_title(f'm = 1 spectrum for CE2 w/ QL IC')\n",
    "for i,x in enumerate(ce2_pj_qlic['mEVs'][:,0,:]):\n",
    "    ax[1].plot(t,x,label=i,c=colors[i])\n",
    "\n",
    "for a in ax:\n",
    "    a.set_xlabel(r'$t$',fontsize=14)\n",
    "    a.set_yscale('log')\n",
    "    a.set_ylim(1e-16,1e3)\n",
    "    a.set_xlim(0,T)\n",
    "    a.set_ylabel(r'$Eigenvalues$',fontsize=14)\n",
    "\n",
    "plt.show()\n",
    "# plt.savefig(dn+'figures/spectrum_ce2_pj_m1.png',bbox_inches='tight')"
   ]
  },
  {
   "cell_type": "code",
   "execution_count": null,
   "metadata": {},
   "outputs": [],
   "source": [
    "fig,ax = plt.subplots(1,2,figsize=(15,3))\n",
    "\n",
    "colors = pl.cm.nipy_spectral_r(np.linspace(0,1,2*N-1))\n",
    "\n",
    "ax[0].set_title(f'm = 2 spectrum for CE2 w/ rand IC')\n",
    "for i,x in enumerate(ce2_pj['mEVs'][:,1,:]):\n",
    "    ax[0].plot(t,x,label=i,c=colors[i])\n",
    "\n",
    "ax[1].set_title(f'm = 2 spectrum for CE2 w/ QL IC')\n",
    "for i,x in enumerate(ce2_pj_qlic['mEVs'][:,1,:]):\n",
    "    ax[1].plot(t,x,label=i,c=colors[i])\n",
    "\n",
    "for a in ax:\n",
    "    a.set_xlabel(r'$t$',fontsize=14)\n",
    "    a.set_yscale('log')\n",
    "    a.set_ylim(1e-16,1e3)\n",
    "    a.set_xlim(0,T)\n",
    "    a.set_ylabel(r'$Eigenvalues$',fontsize=14)\n",
    "\n",
    "plt.show()\n",
    "# plt.savefig(dn+'figures/spectrum_ce2_pj_m1.png',bbox_inches='tight')"
   ]
  },
  {
   "cell_type": "code",
   "execution_count": null,
   "metadata": {
    "scrolled": true
   },
   "outputs": [],
   "source": [
    "fig,ax = plt.subplots(1,2,figsize=(15,3))\n",
    "\n",
    "colors = pl.cm.nipy_spectral_r(np.linspace(0,1,2*N-1))\n",
    "\n",
    "ax[0].set_title(f'm = 3 spectrum for CE2 w/ rand IC')\n",
    "for i,x in enumerate(ce2_pj['mEVs'][:,2,:]):\n",
    "    ax[0].plot(t,x,label=i,c=colors[i])\n",
    "\n",
    "ax[1].set_title(f'm = 3 spectrum for CE2 w/ QL IC')\n",
    "for i,x in enumerate(ce2_pj_qlic['mEVs'][:,2,:]):\n",
    "    ax[1].plot(t,x,label=i,c=colors[i])\n",
    "\n",
    "for a in ax:\n",
    "    a.set_xlabel(r'$t$',fontsize=14)\n",
    "    a.set_yscale('log')\n",
    "    a.set_ylim(1e-16,1e3)\n",
    "    a.set_xlim(0,T)\n",
    "    a.set_ylabel(r'$Eigenvalues$',fontsize=14)\n",
    "\n",
    "plt.show()\n",
    "# plt.savefig(dn+'figures/spectrum_ce2_pj_m3.png',bbox_inches='tight')"
   ]
  },
  {
   "cell_type": "markdown",
   "metadata": {},
   "source": [
    "## Stochastic jet"
   ]
  },
  {
   "cell_type": "markdown",
   "metadata": {},
   "source": [
    "> for a stochastically forced setting, with modes 4,5,6 stochastically forced, QL retains energy only in these modes (and in the mean of course)\n",
    "> the rank of second cumulant in CE2 is non-unity for these modes."
   ]
  },
  {
   "cell_type": "code",
   "execution_count": null,
   "metadata": {},
   "outputs": [],
   "source": [
    "ql_sf = np.load(dn+\"ql_sf_500.npz\",allow_pickle=True) \n",
    "ce2_sf = np.load(dn+\"ce2_sf_500.npz\",allow_pickle=True) \n",
    "ce2_sf_qlic = np.load(dn+\"ce2_sf_qlic_500.npz\",allow_pickle=True) \n",
    "ce2_sf_kfqlic = np.load(dn+\"ce2_sf_kfqlic_500.npz\",allow_pickle=True) "
   ]
  },
  {
   "cell_type": "code",
   "execution_count": null,
   "metadata": {},
   "outputs": [],
   "source": [
    "fig,ax = plt.subplots(2,2,figsize=(15,8))\n",
    "\n",
    "colors = pl.cm.nipy_spectral(np.linspace(0,1,M))\n",
    "\n",
    "ax[0,0].set_title(f'QL')\n",
    "for i,x in enumerate(ql_sf['Emtav'].T):    \n",
    "    ax[0,0].plot(t,x,label=i,c=colors[i])\n",
    "\n",
    "ax[0,1].set_title(f'CE2')\n",
    "for i,x in enumerate(ce2_sf['Emt'].T):\n",
    "    ax[0,1].plot(t,x,label=i,c=colors[i])\n",
    "\n",
    "ax[1,0].set_title(f'CE2 w/ Stochastic QL IC')\n",
    "for i,x in enumerate(ce2_sf_qlic['Emt'].T):\n",
    "    ax[1,0].plot(t,x,label=i,c=colors[i])\n",
    "\n",
    "ax[1,1].set_title(f'CE2 w/ Kolmogorov flow QL IC')\n",
    "for i,x in enumerate(ce2_sf_kfqlic['Emt'].T):\n",
    "    ax[1,1].plot(t,x,label=i,c=colors[i])\n",
    "\n",
    "ax[0,0].set_ylabel(r'$E(m)$',fontsize=14)\n",
    "ax[1,0].set_ylabel(r'$E(m)$',fontsize=14)\n",
    "\n",
    "ax[0,1].legend(bbox_to_anchor=(1.0,0.75),ncol=1)\n",
    "\n",
    "for a in ax.flatten():\n",
    "    a.set_xlabel(r'$t$',fontsize=14)\n",
    "    a.set_yscale('log')\n",
    "    a.set_ylim(1e-9,1e1)\n",
    "\n",
    "plt.show()\n",
    "# plt.savefig(dn+'figures/qlce2_sf_500.png',bbox_inches='tight')"
   ]
  },
  {
   "cell_type": "code",
   "execution_count": null,
   "metadata": {},
   "outputs": [],
   "source": [
    "R_ce2_sf = moderanks(ce2_sf['mEVs'])\n",
    "R_ce2_sf_qlic = moderanks(ce2_sf_qlic['mEVs'])\n",
    "R_ce2_sf_kfqlic = moderanks(ce2_sf_kfqlic['mEVs'])"
   ]
  },
  {
   "cell_type": "code",
   "execution_count": null,
   "metadata": {},
   "outputs": [],
   "source": [
    "fig,ax = plt.subplots(1,2,figsize=(15,3))\n",
    "\n",
    "colors = pl.cm.nipy_spectral(np.linspace(0,1,M))\n",
    "\n",
    "ax[0].set_title(f'Modal ranks for CE2 w/ rand IC')\n",
    "for i in np.arange(6):\n",
    "    ax[0].plot(t,R_ce2_sf[:,i],label=i+1,c=colors[i+1])\n",
    "    \n",
    "ax[1].set_title(f'Modal ranks for CE2 w/ QL IC')\n",
    "for i in np.arange(6):\n",
    "    ax[1].plot(t,R_ce2_sf_qlic[:,i],label=i+1,c=colors[i+1])\n",
    "\n",
    "ax[1].legend(loc=5,ncol=1)\n",
    "\n",
    "for a in ax:\n",
    "    a.set_xlabel(r'$t$',fontsize=14)\n",
    "    a.set_ylabel(r'$Rank$',fontsize=14)\n",
    "\n",
    "plt.show()\n",
    "# plt.savefig(dn+'figures/ranks_ce2_pj.png',bbox_inches='tight')"
   ]
  },
  {
   "cell_type": "code",
   "execution_count": null,
   "metadata": {},
   "outputs": [],
   "source": [
    "fig,ax = plt.subplots(1,2,figsize=(15,3))\n",
    "\n",
    "colors = pl.cm.nipy_spectral_r(np.linspace(0,1,2*N-1))\n",
    "\n",
    "ax[0].set_title(f'm = 1 spectrum for CE2 w/ rand IC')\n",
    "for i,x in enumerate(ce2_sf['mEVs'][:,0,:]):\n",
    "    ax[0].plot(t,x,label=i,c=colors[i])\n",
    "\n",
    "ax[1].set_title(f'm = 1 spectrum for CE2 w/ QL IC')\n",
    "for i,x in enumerate(ce2_sf_qlic['mEVs'][:,0,:]):\n",
    "    ax[1].plot(t,x,label=i,c=colors[i])\n",
    "\n",
    "for a in ax:\n",
    "    a.set_xlabel(r'$t$',fontsize=14)\n",
    "    a.set_yscale('log')\n",
    "#     a.set_ylim(1e-9,1e3)\n",
    "    a.set_xlim(0,T)\n",
    "    a.set_ylabel(r'$Eigenvalues$',fontsize=14)\n",
    "\n",
    "plt.show()\n",
    "# plt.savefig(dn+'figures/spectrum_ce2_pj_m1.png',bbox_inches='tight')"
   ]
  },
  {
   "cell_type": "code",
   "execution_count": null,
   "metadata": {},
   "outputs": [],
   "source": [
    "fig,ax = plt.subplots(1,2,figsize=(15,3))\n",
    "\n",
    "colors = pl.cm.nipy_spectral_r(np.linspace(0,1,2*N-1))\n",
    "\n",
    "ax[0].set_title(f'm = 5 spectrum for CE2 w/ rand IC')\n",
    "for i,x in enumerate(ce2_sf['mEVs'][:,4,:]):\n",
    "    ax[0].plot(t,x,label=i,c=colors[i])\n",
    "\n",
    "ax[1].set_title(f'm = 5 spectrum for CE2 w/ QL IC')\n",
    "for i,x in enumerate(ce2_sf_qlic['mEVs'][:,4,:]):\n",
    "    ax[1].plot(t,x,label=i,c=colors[i])\n",
    "\n",
    "for a in ax:\n",
    "    a.set_xlabel(r'$t$',fontsize=14)\n",
    "    a.set_yscale('log')\n",
    "    a.set_ylim(1e-3,1e0)\n",
    "    a.set_xlim(0,T)\n",
    "    a.set_ylabel(r'$Eigenvalues$',fontsize=14)\n",
    "\n",
    "plt.show()\n",
    "# plt.savefig(dn+'figures/spectrum_ce2_pj_m1.png',bbox_inches='tight')"
   ]
  },
  {
   "cell_type": "markdown",
   "metadata": {},
   "source": [
    "## Kolmogorov Flow"
   ]
  },
  {
   "cell_type": "markdown",
   "metadata": {},
   "source": [
    "> here is where disagreements occur between QL and CE2"
   ]
  },
  {
   "cell_type": "markdown",
   "metadata": {},
   "source": [
    "### 8x8 grid"
   ]
  },
  {
   "cell_type": "code",
   "execution_count": null,
   "metadata": {},
   "outputs": [],
   "source": [
    "ql_kf = np.load(dn+\"ql_kf_500.npz\",allow_pickle=True) \n",
    "ce2_kf = np.load(dn+\"ce2_kf_500.npz\",allow_pickle=True) \n",
    "ce2_kf_qlic = np.load(dn+\"ce2_kf_qlic_500.npz\",allow_pickle=True) "
   ]
  },
  {
   "cell_type": "code",
   "execution_count": null,
   "metadata": {},
   "outputs": [],
   "source": [
    "fig,ax = plt.subplots(1,3,figsize=(15,5))\n",
    "\n",
    "colors = pl.cm.nipy_spectral(np.linspace(0,1,M))\n",
    "\n",
    "ax[0].set_title(f'QL')\n",
    "\n",
    "t = ql_kf['t']\n",
    "for i,x in enumerate(ql_kf['Emt'].T):    \n",
    "    ax[0].plot(t,x,label=i,c=colors[i])\n",
    "\n",
    "ax[1].set_title(f'CE2')\n",
    "for i,x in enumerate(ce2_kf['Emt'].T):\n",
    "    ax[1].plot(x,label=i,c=colors[i])\n",
    "\n",
    "ax[2].set_title(f'CE2 w/ QL IC')\n",
    "for i,x in enumerate(ce2_kf_qlic['Emt'].T):\n",
    "    ax[2].plot(x,label=i,c=colors[i])\n",
    "\n",
    "for a in ax:\n",
    "    \n",
    "    a.set_xlabel(r'$t$',fontsize=14)\n",
    "    a.set_yscale('log')\n",
    "    a.set_ylim(1e-16,1e5)\n",
    "\n",
    "ax[0].set_ylabel(r'$E(m)$',fontsize=14)\n",
    "ax[2].legend(bbox_to_anchor=(1.0,0.75),ncol=1)\n",
    "\n",
    "plt.show()\n",
    "# plt.savefig(dn+'figures/qlce2_kf_500.png',bbox_inches='tight')"
   ]
  },
  {
   "cell_type": "code",
   "execution_count": null,
   "metadata": {},
   "outputs": [],
   "source": [
    "# fig,ax = plt.subplots(1,3,figsize=(15,6))\n",
    "\n",
    "# im = ax[0].imshow((ql_kf['Vxy'][:,:,-1]),cmap=\"RdBu_r\",origin=\"lower\",interpolation=\"bicubic\",vmin=-30,vmax=30)\n",
    "# im = ax[1].imshow((ce2_kf['Vxy'][:,:,-1]),cmap=\"RdBu_r\",origin=\"lower\",interpolation=\"bicubic\",vmin=-30,vmax=30)\n",
    "# im = ax[2].imshow((ce2_kf_qlic['Vxy'][:,:,-1]),cmap=\"RdBu_r\",origin=\"lower\",interpolation=\"bicubic\",vmin=-30,vmax=30)\n",
    "\n",
    "# for a in ax:\n",
    "#     a.set_xticks([0,M,2*M-2])\n",
    "#     a.set_xticklabels([r'$-\\pi$',r'$0$',r'$\\pi$'],fontsize=14)\n",
    "#     a.set_yticks([0,M,2*M-2])\n",
    "#     a.set_yticklabels([r'$-\\pi$',r'$0$',r'$\\pi$'],fontsize=14)\n",
    "\n",
    "# plt.show()"
   ]
  },
  {
   "cell_type": "code",
   "execution_count": null,
   "metadata": {},
   "outputs": [],
   "source": [
    "fig,ax = plt.subplots(1,3,figsize=(15,6))\n",
    "\n",
    "im = ax[0].imshow((ql_kf['Emn'][:,:,-1]),cmap=\"nipy_spectral_r\",origin=\"lower\",interpolation=\"bicubic\")\n",
    "im = ax[1].imshow((ce2_kf['Emn'][:,:,-1]),cmap=\"nipy_spectral_r\",origin=\"lower\",interpolation=\"bicubic\")\n",
    "im = ax[2].imshow((ce2_kf_qlic['Emn'][:,:,-1]),cmap=\"nipy_spectral_r\",origin=\"lower\",interpolation=\"bicubic\")\n",
    "\n",
    "for a in ax:\n",
    "    a.set_xticks([0,M,2*M-2])\n",
    "    a.set_xticklabels([r'$-M$',r'$0$',r'$M$'],fontsize=14)\n",
    "    a.set_yticks([0,M,2*M-2])\n",
    "    a.set_yticklabels([r'$-M$',r'$0$',r'$M$'],fontsize=14)\n",
    "\n",
    "plt.show()"
   ]
  },
  {
   "cell_type": "code",
   "execution_count": null,
   "metadata": {},
   "outputs": [],
   "source": [
    "R_ce2_kf = moderanks(ce2_kf['mEVs'])\n",
    "R_ce2_kf_qlic = moderanks(ce2_kf_qlic['mEVs'])"
   ]
  },
  {
   "cell_type": "code",
   "execution_count": null,
   "metadata": {},
   "outputs": [],
   "source": [
    "fig,ax = plt.subplots(1,2,figsize=(15,3))\n",
    "\n",
    "colors = pl.cm.nipy_spectral(np.linspace(0,1,M))\n",
    "\n",
    "ax[0].set_title(f'Modal ranks for CE2 w/ rand IC')\n",
    "for i in np.arange(6):\n",
    "    ax[0].plot(R_ce2_kf[:,i],label=i+1,c=colors[i+1])\n",
    "    \n",
    "ax[1].set_title(f'Modal ranks for CE2 w/ QL IC')\n",
    "for i in np.arange(6):\n",
    "    ax[1].plot(R_ce2_kf_qlic[:,i],label=i+1,c=colors[i+1])\n",
    "\n",
    "ax[1].legend(loc=5,ncol=1)\n",
    "\n",
    "for a in ax:\n",
    "    a.set_xlabel(r'$t$',fontsize=14)\n",
    "    a.set_ylabel(r'$Rank$',fontsize=14)\n",
    "\n",
    "plt.show()\n",
    "# plt.savefig(dn+'figures/ranks_ce2_pj.png',bbox_inches='tight')"
   ]
  },
  {
   "cell_type": "code",
   "execution_count": null,
   "metadata": {},
   "outputs": [],
   "source": [
    "fig,ax = plt.subplots(1,2,figsize=(15,3))\n",
    "\n",
    "colors = pl.cm.nipy_spectral_r(np.linspace(0,1,2*N-1))\n",
    "\n",
    "ax[0].set_title(f'm = 1 spectrum for CE2 w/ rand IC')\n",
    "for i,x in enumerate(ce2_kf['mEVs'][:,0,:]):\n",
    "    ax[0].plot(x,label=i,c=colors[i])\n",
    "\n",
    "ax[1].set_title(f'm = 1 spectrum for CE2 w/ QL IC')\n",
    "for i,x in enumerate(ce2_kf_qlic['mEVs'][:,0,:]):\n",
    "    ax[1].plot(x,label=i,c=colors[i])\n",
    "\n",
    "for a in ax:\n",
    "    a.set_xlabel(r'$t$',fontsize=14)\n",
    "    a.set_yscale('log')\n",
    "    a.set_ylim(1e-9,1e3)\n",
    "    a.set_xlim(0,T)\n",
    "    a.set_ylabel(r'$Eigenvalues$',fontsize=14)\n",
    "\n",
    "plt.show()\n",
    "# plt.savefig(dn+'figures/spectrum_ce2_pj_m1.png',bbox_inches='tight')"
   ]
  },
  {
   "cell_type": "code",
   "execution_count": null,
   "metadata": {},
   "outputs": [],
   "source": [
    "fig,ax = plt.subplots(1,2,figsize=(15,3))\n",
    "\n",
    "colors = pl.cm.nipy_spectral_r(np.linspace(0,1,2*N-1))\n",
    "\n",
    "ax[0].set_title(f'm = 2 spectrum for CE2 w/ rand IC')\n",
    "for i,x in enumerate(ce2_kf['mEVs'][:,1,:]):\n",
    "    ax[0].plot(x,label=i,c=colors[i])\n",
    "\n",
    "ax[1].set_title(f'm = 2 spectrum for CE2 w/ QL IC')\n",
    "for i,x in enumerate(ce2_kf_qlic['mEVs'][:,1,:]):\n",
    "    ax[1].plot(x,label=i,c=colors[i])\n",
    "\n",
    "for a in ax:\n",
    "    a.set_xlabel(r'$t$',fontsize=14)\n",
    "    a.set_yscale('log')\n",
    "    a.set_ylim(1e-16,1e3)\n",
    "    a.set_xlim(0,T)\n",
    "    a.set_ylabel(r'$Eigenvalues$',fontsize=14)\n",
    "\n",
    "plt.show()\n",
    "# plt.savefig(dn+'figures/spectrum_ce2_pj_m1.png',bbox_inches='tight')"
   ]
  },
  {
   "cell_type": "code",
   "execution_count": null,
   "metadata": {},
   "outputs": [],
   "source": [
    "ce2_kf = np.load(dn+\"ce2_kf_50.npz\",allow_pickle=True) \n",
    "ce2_kf_qlic = np.load(dn+\"ce2_kf_qlic_50.npz\",allow_pickle=True) "
   ]
  },
  {
   "cell_type": "code",
   "execution_count": null,
   "metadata": {},
   "outputs": [],
   "source": [
    "R_ce2_kf = moderanks(ce2_kf['mEVs'])\n",
    "R_ce2_kf_qlic = moderanks(ce2_kf_qlic['mEVs'])"
   ]
  },
  {
   "cell_type": "code",
   "execution_count": null,
   "metadata": {},
   "outputs": [],
   "source": [
    "fig,ax = plt.subplots(1,2,figsize=(15,3))\n",
    "\n",
    "colors = pl.cm.nipy_spectral(np.linspace(0,1,M))\n",
    "\n",
    "ax[0].set_title(f'Modal ranks for CE2 w/ rand IC')\n",
    "for i in np.arange(6):\n",
    "    ax[0].plot(R_ce2_kf[:,i],label=i+1,c=colors[i+1])\n",
    "    \n",
    "ax[1].set_title(f'Modal ranks for CE2 w/ QL IC')\n",
    "for i in np.arange(6):\n",
    "    ax[1].plot(R_ce2_kf_qlic[:,i],label=i+1,c=colors[i+1])\n",
    "\n",
    "ax[1].legend(loc=5,ncol=1)\n",
    "\n",
    "for a in ax:\n",
    "    a.set_xlabel(r'$t$',fontsize=14)\n",
    "    a.set_ylabel(r'$Rank$',fontsize=14)\n",
    "\n",
    "plt.show()\n",
    "# plt.savefig(dn+'figures/ranks_ce2_pj.png',bbox_inches='tight')"
   ]
  },
  {
   "cell_type": "code",
   "execution_count": null,
   "metadata": {},
   "outputs": [],
   "source": [
    "fig,ax = plt.subplots(1,2,figsize=(15,3))\n",
    "\n",
    "colors = pl.cm.nipy_spectral_r(np.linspace(0,1,2*N-1))\n",
    "\n",
    "ax[0].set_title(f'm = 1 spectrum for CE2 w/ rand IC')\n",
    "for i,x in enumerate(ce2_kf['mEVs'][:,0,:]):\n",
    "    ax[0].plot(x,label=i,c=colors[i])\n",
    "\n",
    "ax[1].set_title(f'm = 1 spectrum for CE2 w/ QL IC')\n",
    "for i,x in enumerate(ce2_kf_qlic['mEVs'][:,0,:]):\n",
    "    ax[1].plot(x,label=i,c=colors[i])\n",
    "\n",
    "for a in ax:\n",
    "    a.set_xlabel(r'$t$',fontsize=14)\n",
    "    a.set_yscale('log')\n",
    "    a.set_ylim(1e-9,1e3)\n",
    "#     a.set_xlim(0,T)\n",
    "    a.set_ylabel(r'$Eigenvalues$',fontsize=14)\n",
    "\n",
    "plt.show()\n",
    "# plt.savefig(dn+'figures/spectrum_ce2_pj_m1.png',bbox_inches='tight')"
   ]
  },
  {
   "cell_type": "code",
   "execution_count": null,
   "metadata": {},
   "outputs": [],
   "source": [
    "fig,ax = plt.subplots(1,2,figsize=(15,3))\n",
    "\n",
    "colors = pl.cm.nipy_spectral_r(np.linspace(0,1,2*N-1))\n",
    "\n",
    "ax[0].set_title(f'm = 2 spectrum for CE2 w/ rand IC')\n",
    "for i,x in enumerate(ce2_kf['mEVs'][:,1,:]):\n",
    "    ax[0].plot(x,label=i,c=colors[i])\n",
    "\n",
    "ax[1].set_title(f'm = 2 spectrum for CE2 w/ QL IC')\n",
    "for i,x in enumerate(ce2_kf_qlic['mEVs'][:,1,:]):\n",
    "    ax[1].plot(x,label=i,c=colors[i])\n",
    "\n",
    "for a in ax:\n",
    "    a.set_xlabel(r'$t$',fontsize=14)\n",
    "    a.set_yscale('log')\n",
    "    a.set_ylim(1e-16,1e3)\n",
    "#     a.set_xlim(0,T)\n",
    "    a.set_ylabel(r'$Eigenvalues$',fontsize=14)\n",
    "\n",
    "plt.show()\n",
    "# plt.savefig(dn+'figures/spectrum_ce2_pj_m1.png',bbox_inches='tight')"
   ]
  },
  {
   "cell_type": "markdown",
   "metadata": {},
   "source": [
    "### positivity condition applied"
   ]
  },
  {
   "cell_type": "markdown",
   "metadata": {},
   "source": [
    "> with non-positive eigenvalues removed, the answer is the same"
   ]
  },
  {
   "cell_type": "code",
   "execution_count": null,
   "metadata": {},
   "outputs": [],
   "source": [
    "ql_kf = np.load(dn+\"ql_kf_500.npz\",allow_pickle=True) \n",
    "ce2_kf = np.load(dn+\"ce2_kf_poscheck_500.npz\",allow_pickle=True) \n",
    "ce2_kf_qlic = np.load(dn+\"ce2_kf_poscheck_qlic_500.npz\",allow_pickle=True) "
   ]
  },
  {
   "cell_type": "code",
   "execution_count": null,
   "metadata": {},
   "outputs": [],
   "source": [
    "fig,ax = plt.subplots(1,3,figsize=(15,5))\n",
    "\n",
    "colors = pl.cm.nipy_spectral(np.linspace(0,1,M))\n",
    "\n",
    "ax[0].set_title(f'QL')\n",
    "for i,x in enumerate(ql_kf['Emt'].T):    \n",
    "    ax[0].plot(x,label=i,c=colors[i])\n",
    "\n",
    "ax[1].set_title(f'CE2')\n",
    "for i,x in enumerate(ce2_kf['Emtav'].T):\n",
    "    ax[1].plot(x,label=i,c=colors[i])\n",
    "\n",
    "ax[2].set_title(f'CE2 w/ QL IC')\n",
    "for i,x in enumerate(ce2_kf_qlic['Emtav'].T):\n",
    "    ax[2].plot(x,label=i,c=colors[i])\n",
    "\n",
    "for a in ax:\n",
    "    \n",
    "    a.set_xlabel(r'$t$',fontsize=14)\n",
    "    a.set_yscale('log')\n",
    "    a.set_ylim(1e-16,1e5)\n",
    "\n",
    "ax[0].set_ylabel(r'$E(m)$',fontsize=14)\n",
    "ax[2].legend(bbox_to_anchor=(1.0,0.75),ncol=1)\n",
    "\n",
    "plt.show()\n",
    "# plt.savefig(dn+'figures/qlce2_kf_500.png',bbox_inches='tight')"
   ]
  },
  {
   "cell_type": "code",
   "execution_count": null,
   "metadata": {},
   "outputs": [],
   "source": [
    "R_ce2_kf = moderanks(ce2_kf['mEVs'])\n",
    "R_ce2_kf_qlic = moderanks(ce2_kf_qlic['mEVs'])"
   ]
  },
  {
   "cell_type": "code",
   "execution_count": null,
   "metadata": {},
   "outputs": [],
   "source": [
    "fig,ax = plt.subplots(1,2,figsize=(15,3))\n",
    "\n",
    "colors = pl.cm.nipy_spectral(np.linspace(0,1,M))\n",
    "\n",
    "ax[0].set_title(f'Modal ranks for CE2 w/ rand IC')\n",
    "for i in np.arange(6):\n",
    "    ax[0].plot(R_ce2_kf[:,i],label=i+1,c=colors[i+1])\n",
    "    \n",
    "ax[1].set_title(f'Modal ranks for CE2 w/ QL IC')\n",
    "for i in np.arange(6):\n",
    "    ax[1].plot(R_ce2_kf_qlic[:,i],label=i+1,c=colors[i+1])\n",
    "\n",
    "ax[1].legend(loc=5,ncol=1)\n",
    "\n",
    "for a in ax:\n",
    "    a.set_xlabel(r'$t$',fontsize=14)\n",
    "    a.set_ylabel(r'$Rank$',fontsize=14)\n",
    "\n",
    "plt.show()\n",
    "# plt.savefig(dn+'figures/ranks_ce2_pj.png',bbox_inches='tight')"
   ]
  },
  {
   "cell_type": "code",
   "execution_count": null,
   "metadata": {},
   "outputs": [],
   "source": [
    "fig,ax = plt.subplots(1,2,figsize=(15,3))\n",
    "\n",
    "colors = pl.cm.nipy_spectral_r(np.linspace(0,1,2*N-1))\n",
    "\n",
    "ax[0].set_title(f'm = 1 spectrum for CE2 w/ rand IC')\n",
    "for i,x in enumerate(ce2_kf['mEVs'][:,0,:]):\n",
    "    ax[0].plot(x,label=i,c=colors[i])\n",
    "\n",
    "ax[1].set_title(f'm = 1 spectrum for CE2 w/ QL IC')\n",
    "for i,x in enumerate(ce2_kf_qlic['mEVs'][:,0,:]):\n",
    "    ax[1].plot(x,label=i,c=colors[i])\n",
    "\n",
    "for a in ax:\n",
    "    a.set_xlabel(r'$t$',fontsize=14)\n",
    "#     a.set_yscale('log')\n",
    "    a.set_ylim(-1e-6,1e-6)\n",
    "#     a.set_xlim(0,T)\n",
    "    a.set_ylabel(r'$Eigenvalues$',fontsize=14)\n",
    "\n",
    "plt.show()\n",
    "# plt.savefig(dn+'figures/spectrum_ce2_pj_m1.png',bbox_inches='tight')"
   ]
  },
  {
   "cell_type": "code",
   "execution_count": null,
   "metadata": {},
   "outputs": [],
   "source": [
    "fig,ax = plt.subplots(1,2,figsize=(15,3))\n",
    "\n",
    "colors = pl.cm.nipy_spectral_r(np.linspace(0,1,2*N-1))\n",
    "\n",
    "ax[0].set_title(f'm = 2 spectrum for CE2 w/ rand IC')\n",
    "for i,x in enumerate(ce2_kf['mEVs'][:,1,:]):\n",
    "    ax[0].plot(x,label=i,c=colors[i])\n",
    "\n",
    "ax[1].set_title(f'm = 2 spectrum for CE2 w/ QL IC')\n",
    "for i,x in enumerate(ce2_kf_qlic['mEVs'][:,1,:]):\n",
    "    ax[1].plot(x,label=i,c=colors[i])\n",
    "\n",
    "for a in ax:\n",
    "    a.set_xlabel(r'$t$',fontsize=14)\n",
    "    a.set_yscale('log')\n",
    "    a.set_ylim(1e-16,1e3)\n",
    "#     a.set_xlim(0,T)\n",
    "    a.set_ylabel(r'$Eigenvalues$',fontsize=14)\n",
    "\n",
    "plt.show()\n",
    "# plt.savefig(dn+'figures/spectrum_ce2_pj_m1.png',bbox_inches='tight')"
   ]
  },
  {
   "cell_type": "markdown",
   "metadata": {},
   "source": [
    "### 9x9 grid"
   ]
  },
  {
   "cell_type": "code",
   "execution_count": null,
   "metadata": {},
   "outputs": [],
   "source": [
    "ql_kf = np.load(dn+\"ql_kf_9x9_500.npz\",allow_pickle=True) \n",
    "ce2_kf = np.load(dn+\"ce2_kf_9x9_rk4_500.npz\",allow_pickle=True) # RK4 -> DP5 explodes\n",
    "ce2_kf_qlic = np.load(dn+\"ce2_kf_9x9_qlic_500.npz\",allow_pickle=True)  # DP5 "
   ]
  },
  {
   "cell_type": "code",
   "execution_count": null,
   "metadata": {},
   "outputs": [],
   "source": [
    "fig,ax = plt.subplots(1,3,figsize=(15,5))\n",
    "\n",
    "colors = pl.cm.nipy_spectral(np.linspace(0,1,9))\n",
    "\n",
    "ax[0].set_title(f'QL')\n",
    "# ax[0].plot(ql_kf['Emt'].T[2],c='k')\n",
    "\n",
    "for i,x in enumerate(ql_kf['Emt'].T):    \n",
    "    ax[0].plot(x,label=i,c=colors[i])\n",
    "\n",
    "ax[1].set_title(f'CE2')\n",
    "for i,x in enumerate(ce2_kf['Emt'].T):\n",
    "    ax[1].plot(x,label=i,c=colors[i])\n",
    "\n",
    "ax[2].set_title(f'CE2 w/ QL IC')\n",
    "for i,x in enumerate(ce2_kf_qlic['Emt'].T):\n",
    "    ax[2].plot(x,label=i,c=colors[i])\n",
    "\n",
    "for a in ax:\n",
    "    \n",
    "    a.set_xlabel(r'$t$',fontsize=14)\n",
    "    a.set_yscale('log')\n",
    "    a.set_ylim(1e-16,1e5)\n",
    "\n",
    "ax[0].set_ylabel(r'$E(m)$',fontsize=14)\n",
    "ax[2].legend(bbox_to_anchor=(1.0,0.75),ncol=1)\n",
    "\n",
    "plt.show()\n",
    "# plt.savefig(dn+'figures/qlce2_kf_500.png',bbox_inches='tight')"
   ]
  },
  {
   "cell_type": "code",
   "execution_count": null,
   "metadata": {},
   "outputs": [],
   "source": [
    "R_ce2_kf = moderanks(ce2_kf['mEVs'])\n",
    "R_ce2_kf_qlic = moderanks(ce2_kf_qlic['mEVs'])"
   ]
  },
  {
   "cell_type": "code",
   "execution_count": null,
   "metadata": {},
   "outputs": [],
   "source": [
    "fig,ax = plt.subplots(1,2,figsize=(15,3))\n",
    "\n",
    "colors = pl.cm.nipy_spectral(np.linspace(0,1,M))\n",
    "\n",
    "ax[0].set_title(f'Modal ranks for CE2 w/ rand IC')\n",
    "for i in np.arange(6):\n",
    "    ax[0].plot(R_ce2_kf[:,i],label=i+1,c=colors[i+1])\n",
    "    \n",
    "ax[1].set_title(f'Modal ranks for CE2 w/ QL IC')\n",
    "for i in np.arange(6):\n",
    "    ax[1].plot(R_ce2_kf_qlic[:,i],label=i+1,c=colors[i+1])\n",
    "\n",
    "ax[1].legend(loc=5,ncol=1)\n",
    "\n",
    "for a in ax:\n",
    "    a.set_xlabel(r'$t$',fontsize=14)\n",
    "    a.set_ylabel(r'$Rank$',fontsize=14)\n",
    "\n",
    "plt.show()\n",
    "# plt.savefig(dn+'figures/ranks_ce2_pj.png',bbox_inches='tight')"
   ]
  },
  {
   "cell_type": "code",
   "execution_count": null,
   "metadata": {},
   "outputs": [],
   "source": [
    "fig,ax = plt.subplots(1,2,figsize=(15,3))\n",
    "\n",
    "colors = pl.cm.nipy_spectral_r(np.linspace(0,1,2*10-1))\n",
    "\n",
    "ax[0].set_title(f'm = 1 spectrum for CE2 w/ rand IC')\n",
    "for i,x in enumerate(ce2_kf['mEVs'][:,0,:]):\n",
    "    ax[0].plot(x,label=i,c=colors[i])\n",
    "\n",
    "ax[1].set_title(f'm = 1 spectrum for CE2 w/ QL IC')\n",
    "for i,x in enumerate(ce2_kf_qlic['mEVs'][:,0,:]):\n",
    "    ax[1].plot(x,label=i,c=colors[i])\n",
    "\n",
    "for a in ax:\n",
    "    a.set_xlabel(r'$t$',fontsize=14)\n",
    "    a.set_yscale('log')\n",
    "    a.set_ylim(1e-9,1e3)\n",
    "#     a.set_xlim(0,T)\n",
    "    a.set_ylabel(r'$Eigenvalues$',fontsize=14)\n",
    "\n",
    "plt.show()\n",
    "# plt.savefig(dn+'figures/spectrum_ce2_pj_m1.png',bbox_inches='tight')"
   ]
  },
  {
   "cell_type": "code",
   "execution_count": null,
   "metadata": {},
   "outputs": [],
   "source": [
    "fig,ax = plt.subplots(1,2,figsize=(15,3))\n",
    "\n",
    "colors = pl.cm.nipy_spectral_r(np.linspace(0,1,2*10-1))\n",
    "\n",
    "ax[0].set_title(f'm = 2 spectrum for CE2 w/ rand IC')\n",
    "for i,x in enumerate(ce2_kf['mEVs'][:,1,:]):\n",
    "    ax[0].plot(x,label=i,c=colors[i])\n",
    "\n",
    "ax[1].set_title(f'm = 2 spectrum for CE2 w/ QL IC')\n",
    "for i,x in enumerate(ce2_kf_qlic['mEVs'][:,1,:]):\n",
    "    ax[1].plot(x,label=i,c=colors[i])\n",
    "\n",
    "for a in ax:\n",
    "    a.set_xlabel(r'$t$',fontsize=14)\n",
    "    a.set_yscale('log')\n",
    "    a.set_ylim(1e-16,1e3)\n",
    "#     a.set_xlim(0,T)\n",
    "    a.set_ylabel(r'$Eigenvalues$',fontsize=14)\n",
    "\n",
    "plt.show()\n",
    "# plt.savefig(dn+'figures/spectrum_ce2_pj_m1.png',bbox_inches='tight')"
   ]
  },
  {
   "cell_type": "code",
   "execution_count": null,
   "metadata": {},
   "outputs": [],
   "source": [
    "fig,ax = plt.subplots(1,2,figsize=(15,3))\n",
    "\n",
    "colors = pl.cm.nipy_spectral_r(np.linspace(0,1,2*10-1))\n",
    "\n",
    "ax[0].set_title(f'm = 3 spectrum for CE2 w/ rand IC')\n",
    "for i,x in enumerate(ce2_kf['mEVs'][:,2,:]):\n",
    "    ax[0].plot(x,label=i,c=colors[i])\n",
    "\n",
    "ax[1].set_title(f'm = 3 spectrum for CE2 w/ QL IC')\n",
    "for i,x in enumerate(ce2_kf_qlic['mEVs'][:,2,:]):\n",
    "    ax[1].plot(x,label=i,c=colors[i])\n",
    "\n",
    "for a in ax:\n",
    "    a.set_xlabel(r'$t$',fontsize=14)\n",
    "    a.set_yscale('log')\n",
    "    a.set_ylim(1e-16,1e3)\n",
    "#     a.set_xlim(0,T)\n",
    "    a.set_ylabel(r'$Eigenvalues$',fontsize=14)\n",
    "\n",
    "plt.show()\n",
    "# plt.savefig(dn+'figures/spectrum_ce2_pj_m1.png',bbox_inches='tight')"
   ]
  },
  {
   "cell_type": "markdown",
   "metadata": {},
   "source": [
    "### 16x16 grid"
   ]
  },
  {
   "cell_type": "code",
   "execution_count": null,
   "metadata": {},
   "outputs": [],
   "source": [
    "ql_kf = np.load(dn+\"ql_kf_16x16_500.npz\",allow_pickle=True) \n",
    "ce2_kf = np.load(dn+\"ce2_kf_16x16_500.npz\",allow_pickle=True) # RK4 -> DP5 explodes\n",
    "ce2_kf_qlic = np.load(dn+\"ce2_kf_16x16_qlic_500.npz\",allow_pickle=True)  # DP5 "
   ]
  },
  {
   "cell_type": "code",
   "execution_count": null,
   "metadata": {},
   "outputs": [],
   "source": [
    "fig,ax = plt.subplots(1,3,figsize=(15,5))\n",
    "\n",
    "colors = pl.cm.nipy_spectral(np.linspace(0,1,16))\n",
    "\n",
    "ax[0].set_title(f'QL')\n",
    "t = ql_kf['t']\n",
    "for i,x in enumerate(ql_kf['Emt'].T):    \n",
    "    ax[0].plot(t,x,label=i,c=colors[i])\n",
    "\n",
    "ax[1].set_title(f'CE2')\n",
    "t = ce2_kf['t']\n",
    "for i,x in enumerate(ce2_kf['Emt'].T):\n",
    "    ax[1].plot(t,x,label=i,c=colors[i])\n",
    "\n",
    "ax[2].set_title(f'CE2 w/ QL IC')\n",
    "t = ce2_kf_qlic['t']\n",
    "for i,x in enumerate(ce2_kf_qlic['Emt'].T):\n",
    "    ax[2].plot(t,x,label=i,c=colors[i])\n",
    "\n",
    "for a in ax:\n",
    "    a.set_xlabel(r'$t$',fontsize=14)\n",
    "    a.set_yscale('log')\n",
    "    a.set_ylim(1e-16,1e5)\n",
    "\n",
    "ax[0].set_ylabel(r'$E(m)$',fontsize=14)\n",
    "ax[2].legend(bbox_to_anchor=(1.0,0.95),ncol=1)\n",
    "\n",
    "plt.show()\n",
    "# plt.savefig(dn+'figures/qlce2_kf_500.png',bbox_inches='tight')"
   ]
  },
  {
   "cell_type": "code",
   "execution_count": null,
   "metadata": {},
   "outputs": [],
   "source": [
    "# fig,ax = plt.subplots(1,3,figsize=(15,6))\n",
    "\n",
    "# im = ax[0].imshow((ql_kf['Vxy'][:,:,-1]),cmap=\"RdBu_r\",origin=\"lower\",interpolation=\"bicubic\",vmin=-30,vmax=30)\n",
    "# im = ax[1].imshow((ce2_kf['Vxy'][:,:,-1]),cmap=\"RdBu_r\",origin=\"lower\",interpolation=\"bicubic\",vmin=-30,vmax=30)\n",
    "# im = ax[2].imshow((ce2_kf_qlic['Vxy'][:,:,-1]),cmap=\"RdBu_r\",origin=\"lower\",interpolation=\"bicubic\",vmin=-30,vmax=30)\n",
    "\n",
    "# for a in ax:\n",
    "#     a.set_xticks([0,M,2*M-2])\n",
    "#     a.set_xticklabels([r'$-\\pi$',r'$0$',r'$\\pi$'],fontsize=14)\n",
    "#     a.set_yticks([0,M,2*M-2])\n",
    "#     a.set_yticklabels([r'$-\\pi$',r'$0$',r'$\\pi$'],fontsize=14)\n",
    "\n",
    "# plt.show()"
   ]
  },
  {
   "cell_type": "code",
   "execution_count": null,
   "metadata": {},
   "outputs": [],
   "source": [
    "fig,ax = plt.subplots(1,3,figsize=(15,6))\n",
    "\n",
    "im = ax[0].imshow((ql_kf['Emn'][:,:,-1]),cmap=\"nipy_spectral_r\",origin=\"lower\",interpolation=\"bicubic\")\n",
    "im = ax[1].imshow((ce2_kf['Emn'][:,:,-1]),cmap=\"nipy_spectral_r\",origin=\"lower\",interpolation=\"bicubic\")\n",
    "im = ax[2].imshow((ce2_kf_qlic['Emn'][:,:,-1]),cmap=\"nipy_spectral_r\",origin=\"lower\",interpolation=\"bicubic\")\n",
    "\n",
    "for a in ax:\n",
    "    a.set_xticks([0,16,2*16-2])\n",
    "    a.set_xticklabels([r'$-M$',r'$0$',r'$M$'],fontsize=14)\n",
    "    a.set_yticks([0,16,2*16-2])\n",
    "    a.set_yticklabels([r'$-M$',r'$0$',r'$M$'],fontsize=14)\n",
    "\n",
    "plt.show()"
   ]
  },
  {
   "cell_type": "code",
   "execution_count": null,
   "metadata": {},
   "outputs": [],
   "source": [
    "R_ce2_kf = moderanks(ce2_kf['mEVs'])\n",
    "R_ce2_kf_qlic = moderanks(ce2_kf_qlic['mEVs'])"
   ]
  },
  {
   "cell_type": "code",
   "execution_count": null,
   "metadata": {},
   "outputs": [],
   "source": [
    "fig,ax = plt.subplots(1,2,figsize=(15,3))\n",
    "\n",
    "colors = pl.cm.nipy_spectral(np.linspace(0,1,M))\n",
    "\n",
    "ax[0].set_title(f'Modal ranks for CE2 w/ rand IC')\n",
    "t = ce2_kf['t']\n",
    "for i in np.arange(6):\n",
    "    ax[0].plot(t,R_ce2_kf[:,i],label=i+1,c=colors[i+1])\n",
    "    \n",
    "ax[1].set_title(f'Modal ranks for CE2 w/ QL IC')\n",
    "t = ce2_kf_qlic['t']\n",
    "for i in np.arange(6):\n",
    "    ax[1].plot(t,R_ce2_kf_qlic[:,i],label=i+1,c=colors[i+1])\n",
    "\n",
    "ax[1].legend(loc=5,ncol=1)\n",
    "\n",
    "for a in ax:\n",
    "    a.set_xlabel(r'$t$',fontsize=14)\n",
    "    a.set_ylabel(r'$Rank$',fontsize=14)\n",
    "\n",
    "plt.show()\n",
    "# plt.savefig(dn+'figures/ranks_ce2_pj.png',bbox_inches='tight')"
   ]
  },
  {
   "cell_type": "code",
   "execution_count": null,
   "metadata": {},
   "outputs": [],
   "source": [
    "fig,ax = plt.subplots(1,2,figsize=(15,3))\n",
    "\n",
    "colors = pl.cm.nipy_spectral_r(np.linspace(0,1,2*16-1))\n",
    "\n",
    "ax[0].set_title(f'm = 1 spectrum for CE2 w/ rand IC')\n",
    "t = ce2_kf['t']\n",
    "for i,x in enumerate(ce2_kf['mEVs'][:,0,:]):\n",
    "    ax[0].plot(t,x,label=i,c=colors[i])\n",
    "\n",
    "ax[1].set_title(f'm = 1 spectrum for CE2 w/ QL IC')\n",
    "t = ce2_kf_qlic['t']\n",
    "for i,x in enumerate(ce2_kf_qlic['mEVs'][:,0,:]):\n",
    "    ax[1].plot(t,x,label=i,c=colors[i])\n",
    "\n",
    "for a in ax:\n",
    "    a.set_xlabel(r'$t$',fontsize=14)\n",
    "    a.set_yscale('log')\n",
    "    a.set_ylim(1e-9,1e3)\n",
    "#     a.set_xlim(0,T)\n",
    "    a.set_ylabel(r'$Eigenvalues$',fontsize=14)\n",
    "\n",
    "plt.show()\n",
    "# plt.savefig(dn+'figures/spectrum_ce2_pj_m1.png',bbox_inches='tight')"
   ]
  },
  {
   "cell_type": "code",
   "execution_count": null,
   "metadata": {},
   "outputs": [],
   "source": [
    "fig,ax = plt.subplots(1,2,figsize=(15,3))\n",
    "\n",
    "colors = pl.cm.nipy_spectral_r(np.linspace(0,1,2*16-1))\n",
    "\n",
    "ax[0].set_title(f'm = 2 spectrum for CE2 w/ rand IC')\n",
    "t = ce2_kf['t']\n",
    "for i,x in enumerate(ce2_kf['mEVs'][:,1,:]):\n",
    "    ax[0].plot(t,x,label=i,c=colors[i])\n",
    "\n",
    "ax[1].set_title(f'm = 2 spectrum for CE2 w/ QL IC')\n",
    "t = ce2_kf_qlic['t']\n",
    "for i,x in enumerate(ce2_kf_qlic['mEVs'][:,1,:]):\n",
    "    ax[1].plot(t,x,label=i,c=colors[i])\n",
    "\n",
    "for a in ax:\n",
    "    a.set_xlabel(r'$t$',fontsize=14)\n",
    "    a.set_yscale('log')\n",
    "    a.set_ylim(1e-16,1e3)\n",
    "#     a.set_xlim(0,T)\n",
    "    a.set_ylabel(r'$Eigenvalues$',fontsize=14)\n",
    "\n",
    "plt.show()\n",
    "# plt.savefig(dn+'figures/spectrum_ce2_pj_m1.png',bbox_inches='tight')"
   ]
  },
  {
   "cell_type": "code",
   "execution_count": null,
   "metadata": {},
   "outputs": [],
   "source": [
    "ql_kf = np.load(dn+\"ql_kf_nu01_500.npz\",allow_pickle=True) \n",
    "ce2_kf = np.load(dn+\"ce2_kf_nu01_500.npz\",allow_pickle=True) \n",
    "ce2_kf_qlic = np.load(dn+\"ce2_kf_nu01_qlic_500.npz\",allow_pickle=True) "
   ]
  },
  {
   "cell_type": "code",
   "execution_count": null,
   "metadata": {
    "scrolled": true
   },
   "outputs": [],
   "source": [
    "fig,ax = plt.subplots(1,3,figsize=(15,5))\n",
    "\n",
    "colors = pl.cm.nipy_spectral(np.linspace(0,1,9))\n",
    "\n",
    "ax[0].set_title(f'QL')\n",
    "t = ql_kf['t']\n",
    "for i,x in enumerate(ql_kf['Emt'].T):    \n",
    "    ax[0].plot(t,x,label=i,c=colors[i])\n",
    "\n",
    "ax[1].set_title(f'CE2')\n",
    "t = ce2_kf['t']\n",
    "for i,x in enumerate(ce2_kf['Emtav'].T):\n",
    "    ax[1].plot(t,x,label=i,c=colors[i])\n",
    "\n",
    "ax[2].set_title(f'CE2 w/ QL IC')\n",
    "t = ce2_kf_qlic['t']\n",
    "for i,x in enumerate(ce2_kf_qlic['Emtav'].T):\n",
    "    ax[2].plot(t,x,label=i,c=colors[i])\n",
    "\n",
    "for a in ax:\n",
    "    \n",
    "    a.set_xlabel(r'$t$',fontsize=14)\n",
    "    a.set_yscale('log')\n",
    "    a.set_ylim(1e-16,1e5)\n",
    "\n",
    "ax[0].set_ylabel(r'$E(m)$',fontsize=14)\n",
    "ax[2].legend(bbox_to_anchor=(1.0,0.75),ncol=1)\n",
    "\n",
    "plt.show()\n",
    "# plt.savefig(dn+'figures/qlce2_kf_500.png',bbox_inches='tight')"
   ]
  },
  {
   "cell_type": "code",
   "execution_count": null,
   "metadata": {},
   "outputs": [],
   "source": [
    "R_ce2_kf = moderanks(ce2_kf['mEVs'])\n",
    "R_ce2_kf_qlic = moderanks(ce2_kf_qlic['mEVs'])"
   ]
  },
  {
   "cell_type": "code",
   "execution_count": null,
   "metadata": {},
   "outputs": [],
   "source": [
    "fig,ax = plt.subplots(1,2,figsize=(15,3))\n",
    "\n",
    "colors = pl.cm.nipy_spectral(np.linspace(0,1,M))\n",
    "\n",
    "ax[0].set_title(f'Modal ranks for CE2 w/ rand IC')\n",
    "for i in np.arange(6):\n",
    "    ax[0].plot(R_ce2_kf[:,i],label=i+1,c=colors[i+1])\n",
    "    \n",
    "ax[1].set_title(f'Modal ranks for CE2 w/ QL IC')\n",
    "for i in np.arange(6):\n",
    "    ax[1].plot(R_ce2_kf_qlic[:,i],label=i+1,c=colors[i+1])\n",
    "\n",
    "ax[1].legend(loc=5,ncol=1)\n",
    "\n",
    "for a in ax:\n",
    "    a.set_xlabel(r'$t$',fontsize=14)\n",
    "    a.set_ylabel(r'$Rank$',fontsize=14)\n",
    "\n",
    "plt.show()\n",
    "# plt.savefig(dn+'figures/ranks_ce2_pj.png',bbox_inches='tight')"
   ]
  },
  {
   "cell_type": "code",
   "execution_count": null,
   "metadata": {},
   "outputs": [],
   "source": [
    "fig,ax = plt.subplots(1,2,figsize=(15,3))\n",
    "\n",
    "colors = pl.cm.nipy_spectral_r(np.linspace(0,1,2*11-1))\n",
    "\n",
    "ax[0].set_title(f'm = 1 spectrum for CE2 w/ rand IC')\n",
    "for i,x in enumerate(ce2_kf['mEVs'][:,0,:]):\n",
    "    ax[0].plot(x,label=i,c=colors[i])\n",
    "\n",
    "ax[1].set_title(f'm = 1 spectrum for CE2 w/ QL IC')\n",
    "for i,x in enumerate(ce2_kf_qlic['mEVs'][:,0,:]):\n",
    "    ax[1].plot(x,label=i,c=colors[i])\n",
    "\n",
    "for a in ax:\n",
    "    a.set_xlabel(r'$t$',fontsize=14)\n",
    "    a.set_yscale('log')\n",
    "    a.set_ylim(1e-9,1e3)\n",
    "#     a.set_xlim(0,T)\n",
    "    a.set_ylabel(r'$Eigenvalues$',fontsize=14)\n",
    "\n",
    "plt.show()\n",
    "# plt.savefig(dn+'figures/spectrum_ce2_pj_m1.png',bbox_inches='tight')"
   ]
  },
  {
   "cell_type": "code",
   "execution_count": null,
   "metadata": {},
   "outputs": [],
   "source": [
    "ql_kf = np.load(dn+\"ql_kf_11x11_500.npz\",allow_pickle=True) \n",
    "ce2_kf = np.load(dn+\"ce2_kf_11x11_500.npz\",allow_pickle=True) # RK4 -> DP5 explodes\n",
    "ce2_kf_qlic = np.load(dn+\"ce2_kf_11x11_qlic_500.npz\",allow_pickle=True)  # DP5 "
   ]
  },
  {
   "cell_type": "code",
   "execution_count": null,
   "metadata": {},
   "outputs": [],
   "source": [
    "fig,ax = plt.subplots(1,3,figsize=(15,5))\n",
    "\n",
    "colors = pl.cm.nipy_spectral(np.linspace(0,1,11))\n",
    "\n",
    "ax[0].set_title(f'QL')\n",
    "for i,x in enumerate(ql_kf['Emt'].T):    \n",
    "    ax[0].plot(x,label=i,c=colors[i])\n",
    "\n",
    "ax[1].set_title(f'CE2')\n",
    "for i,x in enumerate(ce2_kf['Emt'].T):\n",
    "    ax[1].plot(x,label=i,c=colors[i])\n",
    "\n",
    "ax[2].set_title(f'CE2 w/ QL IC')\n",
    "for i,x in enumerate(ce2_kf_qlic['Emt'].T):\n",
    "    ax[2].plot(x,label=i,c=colors[i])\n",
    "\n",
    "for a in ax:\n",
    "    \n",
    "    a.set_xlabel(r'$t$',fontsize=14)\n",
    "    a.set_yscale('log')\n",
    "    a.set_ylim(1e-16,1e5)\n",
    "\n",
    "ax[0].set_ylabel(r'$E(m)$',fontsize=14)\n",
    "ax[2].legend(bbox_to_anchor=(1.0,0.75),ncol=1)\n",
    "\n",
    "plt.show()\n",
    "# plt.savefig(dn+'figures/qlce2_kf_500.png',bbox_inches='tight')"
   ]
  },
  {
   "cell_type": "code",
   "execution_count": null,
   "metadata": {},
   "outputs": [],
   "source": [
    "R_ce2_kf = moderanks(ce2_kf['mEVs'])\n",
    "R_ce2_kf_qlic = moderanks(ce2_kf_qlic['mEVs'])"
   ]
  },
  {
   "cell_type": "code",
   "execution_count": null,
   "metadata": {},
   "outputs": [],
   "source": [
    "fig,ax = plt.subplots(1,2,figsize=(15,3))\n",
    "\n",
    "colors = pl.cm.nipy_spectral_r(np.linspace(0,1,2*11-1))\n",
    "\n",
    "ax[0].set_title(f'm = 1 spectrum for CE2 w/ rand IC')\n",
    "for i,x in enumerate(ce2_kf['mEVs'][:,0,:]):\n",
    "    ax[0].plot(x,label=i,c=colors[i])\n",
    "\n",
    "ax[1].set_title(f'm = 1 spectrum for CE2 w/ QL IC')\n",
    "for i,x in enumerate(ce2_kf_qlic['mEVs'][:,0,:]):\n",
    "    ax[1].plot(x,label=i,c=colors[i])\n",
    "\n",
    "for a in ax:\n",
    "    a.set_xlabel(r'$t$',fontsize=14)\n",
    "    a.set_yscale('log')\n",
    "    a.set_ylim(1e-9,1e3)\n",
    "#     a.set_xlim(0,T)\n",
    "    a.set_ylabel(r'$Eigenvalues$',fontsize=14)\n",
    "\n",
    "plt.show()\n",
    "# plt.savefig(dn+'figures/spectrum_ce2_pj_m1.png',bbox_inches='tight')"
   ]
  },
  {
   "cell_type": "code",
   "execution_count": null,
   "metadata": {},
   "outputs": [],
   "source": [
    "fig,ax = plt.subplots(1,2,figsize=(15,3))\n",
    "\n",
    "colors = pl.cm.nipy_spectral(np.linspace(0,1,M))\n",
    "\n",
    "ax[0].set_title(f'Modal ranks for CE2 w/ rand IC')\n",
    "for i in np.arange(6):\n",
    "    ax[0].plot(R_ce2_kf[:,i],label=i+1,c=colors[i+1])\n",
    "    \n",
    "ax[1].set_title(f'Modal ranks for CE2 w/ QL IC')\n",
    "for i in np.arange(6):\n",
    "    ax[1].plot(R_ce2_kf_qlic[:,i],label=i+1,c=colors[i+1])\n",
    "\n",
    "ax[1].legend(loc=5,ncol=1)\n",
    "\n",
    "for a in ax:\n",
    "    a.set_xlabel(r'$t$',fontsize=14)\n",
    "    a.set_ylabel(r'$Rank$',fontsize=14)\n",
    "\n",
    "plt.show()\n",
    "# plt.savefig(dn+'figures/ranks_ce2_pj.png',bbox_inches='tight')"
   ]
  },
  {
   "cell_type": "code",
   "execution_count": null,
   "metadata": {},
   "outputs": [],
   "source": [
    "fig,ax = plt.subplots(1,2,figsize=(15,3))\n",
    "\n",
    "colors = pl.cm.nipy_spectral_r(np.linspace(0,1,2*11-1))\n",
    "\n",
    "ax[0].set_title(f'm = 1 spectrum for CE2 w/ rand IC')\n",
    "for i,x in enumerate(ce2_kf['mEVs'][:,0,:]):\n",
    "    ax[0].plot(x,label=i,c=colors[i])\n",
    "\n",
    "ax[1].set_title(f'm = 1 spectrum for CE2 w/ QL IC')\n",
    "for i,x in enumerate(ce2_kf_qlic['mEVs'][:,0,:]):\n",
    "    ax[1].plot(x,label=i,c=colors[i])\n",
    "\n",
    "for a in ax:\n",
    "    a.set_xlabel(r'$t$',fontsize=14)\n",
    "    a.set_yscale('log')\n",
    "    a.set_ylim(1e-9,1e3)\n",
    "#     a.set_xlim(0,T)\n",
    "    a.set_ylabel(r'$Eigenvalues$',fontsize=14)\n",
    "\n",
    "plt.show()\n",
    "# plt.savefig(dn+'figures/spectrum_ce2_pj_m1.png',bbox_inches='tight')"
   ]
  }
 ],
 "metadata": {
  "kernelspec": {
   "display_name": "ipy-jupyter-venv3",
   "language": "python",
   "name": "myipy_jupter_env3"
  },
  "language_info": {
   "codemirror_mode": {
    "name": "ipython",
    "version": 3
   },
   "file_extension": ".py",
   "mimetype": "text/x-python",
   "name": "python",
   "nbconvert_exporter": "python",
   "pygments_lexer": "ipython3",
   "version": "3.7.3"
  }
 },
 "nbformat": 4,
 "nbformat_minor": 4
}
