{
 "cells": [
  {
   "cell_type": "markdown",
   "metadata": {},
   "source": [
    "# Kolmogorov forcing"
   ]
  },
  {
   "cell_type": "markdown",
   "metadata": {},
   "source": [
    "The following equation is solved\n",
    "\\begin{equation}\n",
    "\\partial_t \\zeta + J(\\psi,\\zeta) = A(y) + \\nu \\nabla^2 \\zeta\n",
    "\\end{equation}\n",
    "where $A(y) = A_1 cos(y) +4 A_4cos(4y)$."
   ]
  },
  {
   "cell_type": "markdown",
   "metadata": {},
   "source": [
    "Parameters for the following runs are:\n",
    "> $\\nu = 0.02$\n",
    "\n",
    "> $A_1 = -1.0$\n",
    "\n",
    "> $A_4 = -2.0$\n"
   ]
  },
  {
   "cell_type": "code",
   "execution_count": null,
   "metadata": {},
   "outputs": [],
   "source": [
    "import matplotlib.pyplot as plt\n",
    "import numpy as np\n",
    "import matplotlib.pylab as pl\n",
    "import matplotlib.animation as animation"
   ]
  },
  {
   "cell_type": "code",
   "execution_count": null,
   "metadata": {},
   "outputs": [],
   "source": [
    "def save_vorticity_snapshots(data):\n",
    "\n",
    "    filenames = []\n",
    "    S = np.shape(data['Vxy'])[2] \n",
    "\n",
    "    for i in range (0,S,100):\n",
    "\n",
    "        filename = dn+'anim/frame_'+str(i)+'.png'\n",
    "        filenames.append (filename)\n",
    "\n",
    "        days = round(i/S*10000,2)\n",
    "\n",
    "        fig,ax = plt.subplots()\n",
    "\n",
    "        ax.set_title(r'$t = $'+str(days))\n",
    "        ax.set_xticks([0,M-1,2*M-2])\n",
    "        ax.set_xticklabels([r'$0$',r'$\\pi$',r'$2\\pi$'],fontsize=14)\n",
    "\n",
    "        ax.set_yticks([0,N-1,2*N-2])\n",
    "        ax.set_yticklabels([r'$0$',r'$\\pi$',r'$2\\pi$'],fontsize=14)\n",
    "\n",
    "        im = plt.imshow((data['Vxy'][:,:,i]),cmap=\"RdBu_r\",origin=\"lower\",interpolation=\"bicubic\",vmax=30,vmin=-30)\n",
    "\n",
    "        fig.colorbar(im)\n",
    "\n",
    "        plt.savefig(filename,bbox_inches='tight',dpi=128)\n",
    "        plt.close()\n",
    "        \n",
    "    return filenames\n",
    "        \n",
    "def gen_vorticity_animation(infiles,outfile):\n",
    "    \n",
    "    gif_filename = dn+outfile+'.gif'\n",
    "\n",
    "    with imageio.get_writer(gif_filename, mode='I') as writer:\n",
    "        for filename in infiles:  ## here we go through all prepared files\n",
    "            image = imageio.imread(filename) \n",
    "            writer.append_data(image)\n",
    "\n",
    "            os.remove(filename) ## now we remove individual frames\n",
    "\n",
    "    optimize(gif_filename) ## to optimise the file size"
   ]
  },
  {
   "cell_type": "code",
   "execution_count": null,
   "metadata": {},
   "outputs": [],
   "source": [
    "def animate_data(data,dn,filename):\n",
    "    \n",
    "    fps = 20\n",
    "    saveinterval = 5\n",
    "    \n",
    "    fig,ax = plt.subplots()\n",
    "\n",
    "    im = plt.imshow(data[:,:,0],origin='lower',cmap='RdBu_r',vmax=30,vmin=-30,interpolation='bicubic')\n",
    "    fig.colorbar(im)\n",
    "\n",
    "    plt.xticks([0,M-1,2*M-2],[r'$0$',r'$\\pi$',r'$2\\pi$'],fontsize=14)\n",
    "    plt.yticks([0,M-1,2*M-2],[r'$0$',r'$\\pi$',r'$2\\pi$'],fontsize=14)\n",
    "    \n",
    "    def animate(i):\n",
    "        \n",
    "        plt.title(str(i*fps*saveinterval) + ' days')\n",
    "\n",
    "        im.set_array(data[:,:,i])\n",
    "        return [im]\n",
    "\n",
    "    anim = animation.FuncAnimation(fig, animate)\n",
    "    anim.save(dn+filename+'.mp4', fps=fps, extra_args=['-vcodec', 'libx264'])\n",
    "    \n",
    "    plt.close()"
   ]
  },
  {
   "cell_type": "markdown",
   "metadata": {},
   "source": [
    "# 8x8 grid"
   ]
  },
  {
   "cell_type": "code",
   "execution_count": null,
   "metadata": {},
   "outputs": [],
   "source": [
    "dn = \"kolmogorov/8x8/\"\n",
    "\n",
    "M,N = 8,8\n",
    "colors = pl.cm.nipy_spectral(np.linspace(0,1,M))"
   ]
  },
  {
   "cell_type": "code",
   "execution_count": null,
   "metadata": {},
   "outputs": [],
   "source": [
    "import matplotlib as mpl\n",
    "\n",
    "plt.rc('font', family='serif') ## setting for figures which I usually use in my publications\n",
    "mpl.rcParams.update({'font.size': 12})\n",
    "mpl.rcParams.update({'legend.labelspacing':0.25, 'legend.fontsize': 12})\n",
    "mpl.rcParams.update({'errorbar.capsize': 4})"
   ]
  },
  {
   "cell_type": "code",
   "execution_count": null,
   "metadata": {},
   "outputs": [],
   "source": [
    "nl_full = np.load(dn+\"nl.npz\",allow_pickle=True) \n",
    "nl_res1 = np.load(dn+\"nl_res_1.npz\",allow_pickle=True) \n",
    "nl_res2 = np.load(dn+\"nl_res_2.npz\",allow_pickle=True) "
   ]
  },
  {
   "cell_type": "code",
   "execution_count": null,
   "metadata": {},
   "outputs": [],
   "source": [
    "fig,ax = plt.subplots(1,3,figsize=(14,5))\n",
    "\n",
    "ax[0].set_title(f'NL(Full)')\n",
    "for i,x in enumerate(nl_full['Emtav'].T):    \n",
    "    ax[0].plot(nl_full['t'],x,label=i,c=colors[i])\n",
    "\n",
    "ax[1].set_title(f'NL(2)')\n",
    "for i,x in enumerate(nl_res2['Emtav'].T):\n",
    "    ax[1].plot(nl_res2['t'],x,label=i,c=colors[i])\n",
    "\n",
    "ax[2].set_title(f'NL(1)')\n",
    "for i,x in enumerate(nl_res1['Emtav'].T):\n",
    "    ax[2].plot(nl_res1['t'],x,label=i,c=colors[i])\n",
    "\n",
    "for a in ax:\n",
    "    \n",
    "    a.set_xlabel(r'$t$',fontsize=14)\n",
    "    a.set_yscale('log')\n",
    "    a.set_ylim(1e-6,1e4)\n",
    "\n",
    "ax[0].set_ylabel(r'$E(m)$',fontsize=14)\n",
    "ax[2].legend(bbox_to_anchor=(1.3,0.75),ncol=1)\n",
    "\n",
    "# plt.show()\n",
    "plt.savefig(dn+'nl_fullvlowres.png',bbox_inches='tight',dpi=128)"
   ]
  },
  {
   "cell_type": "code",
   "execution_count": null,
   "metadata": {},
   "outputs": [],
   "source": [
    "fig,ax = plt.subplots(1,3,figsize=(15,6))\n",
    "\n",
    "im = ax[0].imshow((nl_full['Vxy'][:,:,-1]),cmap=\"RdBu_r\",origin=\"lower\",interpolation=\"bicubic\",vmax=30,vmin=-30)\n",
    "im = ax[1].imshow((nl_res1['Vxy'][:,:,-1]),cmap=\"RdBu_r\",origin=\"lower\",interpolation=\"bicubic\",vmax=30,vmin=-30)\n",
    "im = ax[2].imshow((nl_res2['Vxy'][:,:,-1]),cmap=\"RdBu_r\",origin=\"lower\",interpolation=\"bicubic\",vmax=30,vmin=-30)\n",
    "\n",
    "fig.colorbar(im)\n",
    "\n",
    "for a in ax:\n",
    "    a.set_xticks([0,M-1,2*M-2])\n",
    "    a.set_xticklabels([r'$-M$',r'$0$',r'$M$'],fontsize=14)\n",
    "    a.set_yticks([0,M-1,2*M-2])\n",
    "    a.set_yticklabels([r'$-M$',r'$0$',r'$M$'],fontsize=14)\n",
    "\n",
    "plt.show()"
   ]
  },
  {
   "cell_type": "code",
   "execution_count": null,
   "metadata": {},
   "outputs": [],
   "source": [
    "animate_data(nl_full['Vxy'],dn,'nl_full')\n",
    "animate_data(nl_res1['Vxy'],dn,'nl_res1')\n",
    "animate_data(nl_res2['Vxy'],dn,'nl_res2')"
   ]
  },
  {
   "cell_type": "code",
   "execution_count": null,
   "metadata": {},
   "outputs": [],
   "source": [
    "nl = np.load(dn+\"nl.npz\",allow_pickle=True) \n",
    "gql_m = np.load(dn+\"gql_m.npz\",allow_pickle=True) \n",
    "gce2_m = np.load(dn+\"gce2_m.npz\",allow_pickle=True) "
   ]
  },
  {
   "cell_type": "code",
   "execution_count": null,
   "metadata": {},
   "outputs": [],
   "source": [
    "fig,ax = plt.subplots(1,3,figsize=(14,5))\n",
    "\n",
    "ax[0].set_title(f'NL')\n",
    "for i,x in enumerate(nl['Emtav'].T):    \n",
    "    ax[0].plot(nl['t'],x,label=i,c=colors[i])\n",
    "\n",
    "ax[1].set_title(f'GQL(M)')\n",
    "for i,x in enumerate(gql_m['Emtav'].T):\n",
    "    ax[1].plot(gql_m['t'],x,label=i,c=colors[i])\n",
    "\n",
    "ax[2].set_title(f'GCE2(M)')\n",
    "for i,x in enumerate(gce2_m['Emtav'].T):\n",
    "    ax[2].plot(gce2_m['t'],x,label=i,c=colors[i])\n",
    "\n",
    "for a in ax:\n",
    "    \n",
    "    a.set_xlabel(r'$t$',fontsize=14)\n",
    "    a.set_yscale('log')\n",
    "    a.set_ylim(1e-3,1e4)\n",
    "\n",
    "ax[0].set_ylabel(r'$E(m)$',fontsize=14)\n",
    "ax[2].legend(bbox_to_anchor=(1.25,0.5),ncol=1)\n",
    "\n",
    "plt.show()"
   ]
  },
  {
   "cell_type": "code",
   "execution_count": null,
   "metadata": {},
   "outputs": [],
   "source": [
    "fig,ax = plt.subplots(1,3,figsize=(15,6))\n",
    "\n",
    "im = ax[0].imshow((nl['Emn'][:,:,-1]),cmap=\"nipy_spectral_r\",origin=\"lower\",interpolation=\"bicubic\")\n",
    "im = ax[1].imshow((gql_m['Emn'][:,:,-1]),cmap=\"nipy_spectral_r\",origin=\"lower\",interpolation=\"bicubic\")\n",
    "im = ax[2].imshow((gce2_m['Emn'][:,:,-1]),cmap=\"nipy_spectral_r\",origin=\"lower\",interpolation=\"bicubic\")\n",
    "\n",
    "fig.colorbar(im)\n",
    "for a in ax:\n",
    "    a.set_xticks([0,M,2*M-2])\n",
    "    a.set_xticklabels([r'$-M$',r'$0$',r'$M$'],fontsize=14)\n",
    "    a.set_yticks([0,M,2*M-2])\n",
    "    a.set_yticklabels([r'$-M$',r'$0$',r'$M$'],fontsize=14)\n",
    "\n",
    "plt.show()"
   ]
  },
  {
   "cell_type": "code",
   "execution_count": null,
   "metadata": {},
   "outputs": [],
   "source": [
    "fig,ax = plt.subplots(1,3,figsize=(15,6))\n",
    "\n",
    "im = ax[0].imshow((nl['Vxy'][:,:,-1]),cmap=\"RdBu_r\",origin=\"lower\",interpolation=\"bicubic\")\n",
    "im = ax[1].imshow((gql_m['Vxy'][:,:,-1]),cmap=\"RdBu_r\",origin=\"lower\",interpolation=\"bicubic\")\n",
    "im = ax[2].imshow((gce2_m['Vxy'][:,:,-1]),cmap=\"RdBu_r\",origin=\"lower\",interpolation=\"bicubic\")\n",
    "\n",
    "for a in ax:\n",
    "    a.set_xticks([0,M,2*M-2])\n",
    "    a.set_xticklabels([r'$-M$',r'$0$',r'$M$'],fontsize=14)\n",
    "    a.set_yticks([0,M,2*M-2])\n",
    "    a.set_yticklabels([r'$-M$',r'$0$',r'$M$'],fontsize=14)\n",
    "\n",
    "plt.show()"
   ]
  },
  {
   "cell_type": "code",
   "execution_count": null,
   "metadata": {},
   "outputs": [],
   "source": [
    "# fig,ax = plt.subplots(3,1,figsize=(15,12))\n",
    "\n",
    "# ax[0].set_title('NL')\n",
    "# ax[0].imshow(nl['Vyt'],interpolation='bicubic')\n",
    "# ax[0].set_aspect(3)\n",
    "\n",
    "# ax[1].set_title('GQL(M)')\n",
    "# ax[1].imshow(gql_m['Vyt'],interpolation='bicubic')\n",
    "# ax[1].set_aspect(3)\n",
    "\n",
    "# ax[2].set_title('GCE2(M)')\n",
    "# ax[2].imshow(gce2_m['Vyt'],interpolation='bicubic')\n",
    "# ax[2].set_aspect(3)\n",
    "\n",
    "# for a in ax:\n",
    "#     a.set_xlabel(r'$t$',fontsize=14)\n",
    "#     a.set_ylabel(r'$\\theta$',fontsize=14)\n",
    "\n",
    "#     a.set_yticks([0,M,2*M-2])\n",
    "#     a.set_yticklabels([r'$-90$',0,r'$90$'],fontsize=14)\n",
    "\n",
    "# plt.show()"
   ]
  },
  {
   "cell_type": "code",
   "execution_count": null,
   "metadata": {},
   "outputs": [],
   "source": [
    "gql_1 = np.load(dn+\"gql_1.npz\",allow_pickle=True) \n",
    "gce2_1 = np.load(dn+\"gce2_1.npz\",allow_pickle=True) "
   ]
  },
  {
   "cell_type": "code",
   "execution_count": null,
   "metadata": {
    "scrolled": true
   },
   "outputs": [],
   "source": [
    "fig,ax = plt.subplots(1,2,figsize=(14,5))\n",
    "\n",
    "ax[0].set_title(f'GQL(1)')\n",
    "for i,x in enumerate(gql_1['Emtav'].T):    \n",
    "    ax[0].plot(gql_1['t'],x,label=i,c=colors[i])\n",
    "\n",
    "ax[1].set_title(f'GCE2(1)')\n",
    "for i,x in enumerate(gce2_1['Emtav'].T):\n",
    "    ax[1].plot(gce2_1['t'],x,label=i,c=colors[i])\n",
    "\n",
    "for a in ax:\n",
    "    \n",
    "    a.set_xlabel(r'$t$',fontsize=14)\n",
    "    a.set_yscale('log')\n",
    "    a.set_ylim(1e-4,1e4)\n",
    "\n",
    "ax[0].set_ylabel(r'$E(m)$',fontsize=14)\n",
    "ax[1].legend(bbox_to_anchor=(1.01,0.5),ncol=1)\n",
    "\n",
    "plt.show()"
   ]
  },
  {
   "cell_type": "code",
   "execution_count": null,
   "metadata": {
    "scrolled": true
   },
   "outputs": [],
   "source": [
    "fig,ax = plt.subplots(1,2,figsize=(12,6))\n",
    "\n",
    "im = ax[0].imshow((gql_1['Emn'][:,:,-1]),cmap=\"nipy_spectral_r\",origin=\"lower\",interpolation=\"bicubic\")\n",
    "# fig.colorbar(im)\n",
    "im = ax[1].imshow((gce2_1['Emn'][:,:,-1]),cmap=\"nipy_spectral_r\",origin=\"lower\",interpolation=\"bicubic\")\n",
    "# fig.colorbar(im)\n",
    "\n",
    "for a in ax:\n",
    "    a.set_xticks([0,M,2*M-2])\n",
    "    a.set_xticklabels([r'$-M$',r'$0$',r'$M$'],fontsize=14)\n",
    "    a.set_yticks([0,M,2*M-2])\n",
    "    a.set_yticklabels([r'$-M$',r'$0$',r'$M$'],fontsize=14)\n",
    "\n",
    "plt.show()"
   ]
  },
  {
   "cell_type": "code",
   "execution_count": null,
   "metadata": {},
   "outputs": [],
   "source": [
    "fig,ax = plt.subplots(2,1,figsize=(12,6))\n",
    "\n",
    "ax[0].set_title('GQL(1)')\n",
    "ax[0].imshow(gql_1['Vyt'],cmap=\"jet\",interpolation='bicubic')\n",
    "ax[0].set_aspect(0.5)\n",
    "\n",
    "ax[1].set_title('GCE2(1)')\n",
    "ax[1].imshow(gce2_1['Vyt'],cmap=\"jet\",interpolation='bicubic')\n",
    "ax[1].set_aspect(0.25)\n",
    "\n",
    "for a in ax:\n",
    "    a.set_xlabel(r'$t$',fontsize=14)\n",
    "    a.set_ylabel(r'$\\theta$',fontsize=14)\n",
    "\n",
    "    a.set_yticks([0,M,2*M-2])\n",
    "    a.set_yticklabels([r'$-90$',0,r'$90$'],fontsize=14)\n",
    "\n",
    "plt.show()"
   ]
  },
  {
   "cell_type": "code",
   "execution_count": null,
   "metadata": {},
   "outputs": [],
   "source": [
    "gql_3 = np.load(dn+\"gql_3.npz\",allow_pickle=True) \n",
    "gce2_3 = np.load(dn+\"gce2_3.npz\",allow_pickle=True) "
   ]
  },
  {
   "cell_type": "code",
   "execution_count": null,
   "metadata": {},
   "outputs": [],
   "source": [
    "fig,ax = plt.subplots(1,2,figsize=(14,5))\n",
    "\n",
    "ax[0].set_title(f'GQL(3)')\n",
    "for i,x in enumerate(gql_3['Emtav'].T):    \n",
    "    ax[0].plot(gql_3['t'],x,label=i,c=colors[i])\n",
    "\n",
    "ax[1].set_title(f'GCE2(3)')\n",
    "for i,x in enumerate(gce2_3['Emtav'].T):\n",
    "    ax[1].plot(gce2_3['t'],x,label=i,c=colors[i])\n",
    "\n",
    "for a in ax:\n",
    "    \n",
    "    a.set_xlabel(r'$t$',fontsize=14)\n",
    "    a.set_yscale('log')\n",
    "    a.set_ylim(1e-4,1e4)\n",
    "\n",
    "ax[0].set_ylabel(r'$E(m)$',fontsize=14)\n",
    "ax[1].legend(bbox_to_anchor=(1.01,0.5),ncol=1)\n",
    "\n",
    "plt.show()"
   ]
  },
  {
   "cell_type": "code",
   "execution_count": null,
   "metadata": {},
   "outputs": [],
   "source": [
    "fig,ax = plt.subplots(1,2,figsize=(12,6))\n",
    "\n",
    "ax[0].set_title('GQL(3)')\n",
    "im = ax[0].imshow((gql_3['Emn'][:,:,-1]),cmap=\"nipy_spectral_r\",origin=\"lower\",interpolation=\"bicubic\")\n",
    "# fig.colorbar(im)\n",
    "\n",
    "ax[1].set_title('GCE2(3)')\n",
    "im = ax[1].imshow((gce2_3['Emn'][:,:,-1]),cmap=\"nipy_spectral_r\",origin=\"lower\",interpolation=\"bicubic\")\n",
    "# fig.colorbar(im)\n",
    "\n",
    "for a in ax:\n",
    "    a.set_xticks([0,M,2*M-2])\n",
    "    a.set_xticklabels([r'$-M$',r'$0$',r'$M$'],fontsize=14)\n",
    "    a.set_yticks([0,M,2*M-2])\n",
    "    a.set_yticklabels([r'$-M$',r'$0$',r'$M$'],fontsize=14)\n",
    "\n",
    "plt.show()"
   ]
  },
  {
   "cell_type": "code",
   "execution_count": null,
   "metadata": {},
   "outputs": [],
   "source": [
    "fig,ax = plt.subplots(2,1,figsize=(12,12))\n",
    "\n",
    "ax[0].set_title('GQL(3)')\n",
    "ax[0].imshow(gql_3['Vyt'],cmap=\"jet\",interpolation='bicubic')\n",
    "ax[0].set_aspect(0.5)\n",
    "\n",
    "ax[1].set_title('GCE2(3)')\n",
    "ax[1].imshow(gce2_3['Vyt'],cmap=\"jet\",interpolation='bicubic')\n",
    "ax[1].set_aspect(0.25)\n",
    "\n",
    "for a in ax:\n",
    "    a.set_xlabel(r'$t$',fontsize=14)\n",
    "    a.set_ylabel(r'$\\theta$',fontsize=14)\n",
    "\n",
    "    a.set_yticks([0,M,2*M-2])\n",
    "    a.set_yticklabels([r'$-90$',0,r'$90$'],fontsize=14)\n",
    "\n",
    "plt.show()"
   ]
  },
  {
   "cell_type": "code",
   "execution_count": null,
   "metadata": {},
   "outputs": [],
   "source": [
    "ql = np.load(dn+\"ql.npz\",allow_pickle=True) \n",
    "ce2 = np.load(dn+\"ce2.npz\",allow_pickle=True) \n",
    "gce2_0 = np.load(dn+\"gce2_0.npz\",allow_pickle=True) "
   ]
  },
  {
   "cell_type": "code",
   "execution_count": null,
   "metadata": {},
   "outputs": [],
   "source": [
    "fig,ax = plt.subplots(1,3,figsize=(14,5))\n",
    "\n",
    "ax[0].set_title(f'QL')\n",
    "for i,x in enumerate(ql['Emt'].T):    \n",
    "    ax[0].plot(ql['t'],x,label=i,c=colors[i])\n",
    "\n",
    "ax[1].set_title(f'CE2')\n",
    "for i,x in enumerate(ce2['Emt'].T):\n",
    "    ax[1].plot(ce2['t'],x,label=i,c=colors[i])\n",
    "\n",
    "ax[2].set_title(f'GCE2(0)')\n",
    "for i,x in enumerate(gce2_0['Emt'].T):\n",
    "    ax[2].plot(gce2_0['t'],x,label=i,c=colors[i])\n",
    "\n",
    "for a in ax:\n",
    "    \n",
    "    a.set_xlabel(r'$t$',fontsize=14)\n",
    "    a.set_yscale('log')\n",
    "    a.set_ylim(1e-36,1e4)\n",
    "\n",
    "ax[0].set_ylabel(r'$E(m)$',fontsize=14)\n",
    "ax[2].legend(bbox_to_anchor=(1.01,0.5),ncol=1)\n",
    "\n",
    "# plt.show()\n",
    "plt.savefig(dn+'figures/kolmogorov_qlce2_dp5.png',bbox_inches='tight')"
   ]
  },
  {
   "cell_type": "code",
   "execution_count": null,
   "metadata": {},
   "outputs": [],
   "source": [
    "ql = np.load(dn+\"ql_bs3.npz\",allow_pickle=True) \n",
    "ce2 = np.load(dn+\"ce2_ts5.npz\",allow_pickle=True) "
   ]
  },
  {
   "cell_type": "code",
   "execution_count": null,
   "metadata": {},
   "outputs": [],
   "source": [
    "fig,ax = plt.subplots(1,2,figsize=(10,5))\n",
    "\n",
    "ax[0].set_title(f'QL')\n",
    "for i,x in enumerate(ql['Emt'].T):    \n",
    "    ax[0].plot(ql['t'],x,label=i,c=colors[i])\n",
    "\n",
    "ax[1].set_title(f'CE2')\n",
    "for i,x in enumerate(ce2['Emt'].T):\n",
    "    ax[1].plot(ce2['t'],x,label=i,c=colors[i])\n",
    "\n",
    "# ax[2].set_title(f'GCE2(0)')\n",
    "# for i,x in enumerate(gce2_0['Emt'].T):\n",
    "#     ax[2].plot(gce2_0['t'],x,label=i,c=colors[i])\n",
    "\n",
    "for a in ax:\n",
    "    \n",
    "    a.set_xlabel(r'$t$',fontsize=14)\n",
    "    a.set_yscale('log')\n",
    "    a.set_ylim(1e-16,1e5)\n",
    "\n",
    "ax[0].set_ylabel(r'$E(m)$',fontsize=14)\n",
    "ax[1].legend(bbox_to_anchor=(1.0,0.75),ncol=1)\n",
    "\n",
    "# plt.show()\n",
    "plt.savefig(dn+'figures/kolmogorov_qlce2_bs3.png',bbox_inches='tight')"
   ]
  },
  {
   "cell_type": "code",
   "execution_count": null,
   "metadata": {},
   "outputs": [],
   "source": [
    "ql = np.load(dn+\"ql_ts5.npz\",allow_pickle=True) \n",
    "ce2 = np.load(dn+\"ce2_ts5.npz\",allow_pickle=True) "
   ]
  },
  {
   "cell_type": "code",
   "execution_count": null,
   "metadata": {},
   "outputs": [],
   "source": [
    "fig,ax = plt.subplots(1,2,figsize=(10,5))\n",
    "\n",
    "ax[0].set_title(f'QL')\n",
    "for i,x in enumerate(ql['Emt'].T):    \n",
    "    ax[0].plot(ql['t'],x,label=i,c=colors[i])\n",
    "\n",
    "ax[1].set_title(f'CE2')\n",
    "for i,x in enumerate(ce2['Emt'].T):\n",
    "    ax[1].plot(ce2['t'],x,label=i,c=colors[i])\n",
    "\n",
    "# ax[2].set_title(f'GCE2(0)')\n",
    "# for i,x in enumerate(gce2_0['Emt'].T):\n",
    "#     ax[2].plot(gce2_0['t'],x,label=i,c=colors[i])\n",
    "\n",
    "for a in ax:\n",
    "    \n",
    "    a.set_xlabel(r'$t$',fontsize=14)\n",
    "    a.set_yscale('log')\n",
    "    a.set_ylim(1e-16,1e5)\n",
    "\n",
    "ax[0].set_ylabel(r'$E(m)$',fontsize=14)\n",
    "ax[1].legend(bbox_to_anchor=(1.0,0.75),ncol=1)\n",
    "\n",
    "# plt.show()\n",
    "plt.savefig(dn+'figures/kolmogorov_qlce2_ts5.png',bbox_inches='tight')"
   ]
  },
  {
   "cell_type": "code",
   "execution_count": null,
   "metadata": {},
   "outputs": [],
   "source": [
    "ql = np.load(dn+\"ql_dp5.npz\",allow_pickle=True) \n",
    "ce2 = np.load(dn+\"ce2_dp5.npz\",allow_pickle=True) "
   ]
  },
  {
   "cell_type": "code",
   "execution_count": null,
   "metadata": {},
   "outputs": [],
   "source": [
    "fig,ax = plt.subplots(1,2,figsize=(10,5))\n",
    "\n",
    "ax[0].set_title(f'QL')\n",
    "for i,x in enumerate(ql['Emt'].T):    \n",
    "    ax[0].plot(ql['t'],x,label=i,c=colors[i])\n",
    "\n",
    "ax[1].set_title(f'CE2')\n",
    "for i,x in enumerate(ce2['Emt'].T):\n",
    "    ax[1].plot(ce2['t'],x,label=i,c=colors[i])\n",
    "\n",
    "# ax[2].set_title(f'GCE2(0)')\n",
    "# for i,x in enumerate(gce2_0['Emt'].T):\n",
    "#     ax[2].plot(gce2_0['t'],x,label=i,c=colors[i])\n",
    "\n",
    "for a in ax:\n",
    "    \n",
    "    a.set_xlabel(r'$t$',fontsize=14)\n",
    "    a.set_yscale('log')\n",
    "    a.set_ylim(1e-16,1e5)\n",
    "\n",
    "ax[0].set_ylabel(r'$E(m)$',fontsize=14)\n",
    "ax[1].legend(bbox_to_anchor=(1.0,0.75),ncol=1)\n",
    "\n",
    "# plt.show()\n",
    "plt.savefig(dn+'figures/kolmogorov_qlce2_dp5.png',bbox_inches='tight')"
   ]
  },
  {
   "cell_type": "code",
   "execution_count": null,
   "metadata": {},
   "outputs": [],
   "source": [
    "ql = np.load(dn+\"ql_250.npz\",allow_pickle=True) \n",
    "ql_2 = np.load(dn+\"ql_250_r2.npz\",allow_pickle=True) "
   ]
  },
  {
   "cell_type": "code",
   "execution_count": null,
   "metadata": {},
   "outputs": [],
   "source": [
    "fig,ax = plt.subplots(1,2,figsize=(10,5))\n",
    "\n",
    "ax[0].set_title(f'QL')\n",
    "for i,x in enumerate(ql['Emtav'].T):    \n",
    "    ax[0].plot(ql['t'],x,label=i,c=colors[i])\n",
    "\n",
    "ax[1].set_title(f'QL w/ diff seed')\n",
    "for i,x in enumerate(ql_2['Emtav'].T):\n",
    "    ax[1].plot(ql_2['t'],x,label=i,c=colors[i])\n",
    "\n",
    "for a in ax:\n",
    "    \n",
    "    a.set_xlabel(r'$t$',fontsize=14)\n",
    "    a.set_yscale('log')\n",
    "    a.set_ylim(1e-16,1e5)\n",
    "\n",
    "ax[0].set_ylabel(r'$E(m)$',fontsize=14)\n",
    "ax[1].legend(bbox_to_anchor=(1.0,0.75),ncol=1)\n",
    "\n",
    "# plt.show()\n",
    "# plt.savefig(dn+'figures/kolmogorov_qlce2_dp5.png',bbox_inches='tight')"
   ]
  },
  {
   "cell_type": "code",
   "execution_count": null,
   "metadata": {},
   "outputs": [],
   "source": [
    "fig,ax = plt.subplots(1,2,figsize=(15,6))\n",
    "\n",
    "im = ax[0].imshow((ql['Vxy'][:,:,-1]),cmap=\"RdBu_r\",origin=\"lower\",interpolation=\"bicubic\")\n",
    "im = ax[1].imshow((ql_2['Vxy'][:,:,-1]),cmap=\"RdBu_r\",origin=\"lower\",interpolation=\"bicubic\")\n",
    "\n",
    "for a in ax:\n",
    "    a.set_xticks([0,M,2*M-2])\n",
    "    a.set_xticklabels([r'$-M$',r'$0$',r'$M$'],fontsize=14)\n",
    "    a.set_yticks([0,M,2*M-2])\n",
    "    a.set_yticklabels([r'$-M$',r'$0$',r'$M$'],fontsize=14)\n",
    "\n",
    "plt.show()"
   ]
  },
  {
   "cell_type": "code",
   "execution_count": null,
   "metadata": {},
   "outputs": [],
   "source": [
    "ql = np.load(dn+\"ql_500_r123.npz\",allow_pickle=True) \n",
    "ce2 = np.load(dn+\"ce2_500_ql_r123.npz\",allow_pickle=True) "
   ]
  },
  {
   "cell_type": "code",
   "execution_count": null,
   "metadata": {},
   "outputs": [],
   "source": [
    "colors = pl.cm.nipy_spectral(np.linspace(0,1,M))"
   ]
  },
  {
   "cell_type": "code",
   "execution_count": null,
   "metadata": {},
   "outputs": [],
   "source": [
    "fig,ax = plt.subplots(1,2,figsize=(10,5))\n",
    "\n",
    "ax[0].set_title(f'QL')\n",
    "for i,x in enumerate(ql['Emtav'].T):    \n",
    "    ax[0].plot(ql['t'],x,label=i,c=colors[i])\n",
    "\n",
    "ax[1].set_title(f'CE2')\n",
    "for i,x in enumerate(ce2['Emtav'].T):\n",
    "    ax[1].plot(ce2['t'],x,label=i,c=colors[i])\n",
    "\n",
    "for a in ax:\n",
    "    \n",
    "    a.set_xlabel(r'$t$',fontsize=14)\n",
    "    a.set_yscale('log')\n",
    "    a.set_ylim(1e-16,1e5)\n",
    "\n",
    "ax[0].set_ylabel(r'$E(m)$',fontsize=14)\n",
    "ax[1].legend(bbox_to_anchor=(1.0,0.75),ncol=1)\n",
    "\n",
    "# plt.show()\n",
    "plt.savefig(dn+'figures/ze_qlce2_dp5.png',bbox_inches='tight')"
   ]
  },
  {
   "cell_type": "code",
   "execution_count": null,
   "metadata": {},
   "outputs": [],
   "source": [
    "ql = np.load(dn+\"ql_500_r123.npz\",allow_pickle=True) \n",
    "ce2 = np.load(dn+\"ce2_500_r123.npz\",allow_pickle=True) "
   ]
  },
  {
   "cell_type": "code",
   "execution_count": null,
   "metadata": {},
   "outputs": [],
   "source": [
    "colors = pl.cm.nipy_spectral(np.linspace(0,1,M))"
   ]
  },
  {
   "cell_type": "code",
   "execution_count": null,
   "metadata": {},
   "outputs": [],
   "source": [
    "fig,ax = plt.subplots(1,2,figsize=(10,5))\n",
    "\n",
    "ax[0].set_title(f'QL')\n",
    "for i,x in enumerate(ql['Emtav'].T):    \n",
    "    ax[0].plot(ql['t'],x,label=i,c=colors[i])\n",
    "\n",
    "ax[1].set_title(f'CE2')\n",
    "for i,x in enumerate(ce2['Emtav'].T):\n",
    "    ax[1].plot(ce2['t'],x,label=i,c=colors[i])\n",
    "\n",
    "for a in ax:\n",
    "    \n",
    "    a.set_xlabel(r'$t$',fontsize=14)\n",
    "    a.set_yscale('log')\n",
    "    a.set_ylim(1e-16,1e5)\n",
    "\n",
    "ax[0].set_ylabel(r'$E(m)$',fontsize=14)\n",
    "ax[1].legend(bbox_to_anchor=(1.0,0.75),ncol=1)\n",
    "\n",
    "# plt.show()\n",
    "plt.savefig(dn+'figures/ze_qlce2_rand.png',bbox_inches='tight')"
   ]
  },
  {
   "cell_type": "code",
   "execution_count": null,
   "metadata": {},
   "outputs": [],
   "source": [
    "fig,ax = plt.subplots(1,3,figsize=(15,6))\n",
    "\n",
    "im = ax[0].imshow((ql['Emn'][:,:,-1]),cmap=\"nipy_spectral_r\",origin=\"lower\",interpolation=\"bicubic\")\n",
    "im = ax[1].imshow((ce2['Emn'][:,:,-1]),cmap=\"nipy_spectral_r\",origin=\"lower\",interpolation=\"bicubic\")\n",
    "im = ax[2].imshow((gce2_0['Emn'][:,:,-1]),cmap=\"nipy_spectral_r\",origin=\"lower\",interpolation=\"bicubic\")\n",
    "\n",
    "for a in ax:\n",
    "    a.set_xticks([0,M,2*M-2])\n",
    "    a.set_xticklabels([r'$-M$',r'$0$',r'$M$'],fontsize=14)\n",
    "    a.set_yticks([0,M,2*M-2])\n",
    "    a.set_yticklabels([r'$-M$',r'$0$',r'$M$'],fontsize=14)\n",
    "\n",
    "plt.show()"
   ]
  },
  {
   "cell_type": "code",
   "execution_count": null,
   "metadata": {},
   "outputs": [],
   "source": [
    "fig,ax = plt.subplots(1,3,figsize=(15,6))\n",
    "\n",
    "im = ax[0].imshow((ql['Vxy'][:,:,-1]),cmap=\"RdBu_r\",origin=\"lower\",interpolation=\"bicubic\")\n",
    "im = ax[1].imshow((ce2['Vxy'][:,:,-1]),cmap=\"RdBu_r\",origin=\"lower\",interpolation=\"bicubic\")\n",
    "im = ax[2].imshow((gce2_0['Vxy'][:,:,-1]),cmap=\"RdBu_r\",origin=\"lower\",interpolation=\"bicubic\")\n",
    "\n",
    "for a in ax:\n",
    "    a.set_xticks([0,M,2*M-2])\n",
    "    a.set_xticklabels([r'$-M$',r'$0$',r'$M$'],fontsize=14)\n",
    "    a.set_yticks([0,M,2*M-2])\n",
    "    a.set_yticklabels([r'$-M$',r'$0$',r'$M$'],fontsize=14)\n",
    "\n",
    "plt.show()"
   ]
  },
  {
   "cell_type": "code",
   "execution_count": null,
   "metadata": {},
   "outputs": [],
   "source": [
    "ql = np.load(dn+\"ql_500_r123_nu01.npz\",allow_pickle=True) \n",
    "ce2 = np.load(dn+\"ce2_500_r123_nu01.npz\",allow_pickle=True) "
   ]
  },
  {
   "cell_type": "code",
   "execution_count": null,
   "metadata": {},
   "outputs": [],
   "source": [
    "colors = pl.cm.nipy_spectral(np.linspace(0,1,M))"
   ]
  },
  {
   "cell_type": "code",
   "execution_count": null,
   "metadata": {},
   "outputs": [],
   "source": [
    "fig,ax = plt.subplots(1,2,figsize=(10,5))\n",
    "\n",
    "colors = pl.cm.nipy_spectral(np.linspace(0,1,M))\n",
    "\n",
    "ax[0].set_title(f'QL')\n",
    "for i,x in enumerate(ql['Emtav'].T):    \n",
    "    ax[0].plot(ql['t'],x,label=i,c=colors[i])\n",
    "\n",
    "ax[1].set_title(f'CE2')\n",
    "for i,x in enumerate(ce2['Emt'].T):\n",
    "    ax[1].plot(ce2['t'],x,label=i,c=colors[i])\n",
    "\n",
    "for a in ax:\n",
    "    \n",
    "    a.set_xlabel(r'$t$',fontsize=14)\n",
    "    a.set_yscale('log')\n",
    "    a.set_ylim(1e-16,1e5)\n",
    "\n",
    "ax[0].set_ylabel(r'$E(m)$',fontsize=14)\n",
    "ax[1].legend(bbox_to_anchor=(1.0,0.75),ncol=1)\n",
    "\n",
    "plt.show()\n",
    "# plt.savefig(dn+'figures/ze_qlce2_rand.png',bbox_inches='tight')"
   ]
  },
  {
   "cell_type": "code",
   "execution_count": null,
   "metadata": {},
   "outputs": [],
   "source": [
    "fig,ax = plt.subplots(figsize=(9,3))\n",
    "\n",
    "Nt = len(ce2['t'])\n",
    "t = np.linspace(0,500,Nt)\n",
    "R = moderanks(ce2['mEVs'])\n",
    "\n",
    "ax.set_title(f'Ranks for modes in Second Cumulant')\n",
    "for i in np.arange(M-1):\n",
    "    ax.plot(t,R[:,i],label=i+1,c=colors[i+1])\n",
    "    \n",
    "ax.set_xlabel(r'$t$',fontsize=14)\n",
    "# ax.set_yscale('log')\n",
    "# ax.set_ylim(1e-21,1e3)\n",
    "ax.set_xlim(0,500)\n",
    "\n",
    "ax.set_ylabel(r'$Eigenvalues$',fontsize=14)\n",
    "ax.legend(loc=4,ncol=1)\n",
    "\n",
    "# plt.show()\n",
    "# plt.savefig(dn+'figures/ranks_ce2_rand.png',bbox_inches='tight')"
   ]
  },
  {
   "cell_type": "code",
   "execution_count": null,
   "metadata": {},
   "outputs": [],
   "source": [
    "ql = np.load(dn+\"ql_500_r123_nu03.npz\",allow_pickle=True) \n",
    "ce2 = np.load(dn+\"ce2_500_r123_nu03.npz\",allow_pickle=True) "
   ]
  },
  {
   "cell_type": "code",
   "execution_count": null,
   "metadata": {},
   "outputs": [],
   "source": [
    "fig,ax = plt.subplots(1,2,figsize=(10,5))\n",
    "\n",
    "ax[0].set_title(f'QL')\n",
    "for i,x in enumerate(ql['Emtav'].T):    \n",
    "    ax[0].plot(ql['t'],x,label=i,c=colors[i])\n",
    "\n",
    "ax[1].set_title(f'CE2')\n",
    "for i,x in enumerate(ce2['Emt'].T):\n",
    "    ax[1].plot(ce2['t'],x,label=i,c=colors[i])\n",
    "\n",
    "for a in ax:\n",
    "    \n",
    "    a.set_xlabel(r'$t$',fontsize=14)\n",
    "    a.set_yscale('log')\n",
    "    a.set_ylim(1e-16,1e5)\n",
    "\n",
    "ax[0].set_ylabel(r'$E(m)$',fontsize=14)\n",
    "ax[1].legend(bbox_to_anchor=(1.0,0.75),ncol=1)\n",
    "\n",
    "plt.show()\n",
    "# plt.savefig(dn+'figures/ze_qlce2_rand.png',bbox_inches='tight')"
   ]
  },
  {
   "cell_type": "code",
   "execution_count": null,
   "metadata": {},
   "outputs": [],
   "source": []
  }
 ],
 "metadata": {
  "kernelspec": {
   "display_name": "Python 3",
   "language": "python",
   "name": "python3"
  },
  "language_info": {
   "codemirror_mode": {
    "name": "ipython",
    "version": 3
   },
   "file_extension": ".py",
   "mimetype": "text/x-python",
   "name": "python",
   "nbconvert_exporter": "python",
   "pygments_lexer": "ipython3",
   "version": "3.7.3"
  }
 },
 "nbformat": 4,
 "nbformat_minor": 4
}
