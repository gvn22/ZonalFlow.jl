{
 "cells": [
  {
   "cell_type": "markdown",
   "metadata": {},
   "source": [
    "# Validate equations for Kolmogorov forcing"
   ]
  },
  {
   "cell_type": "markdown",
   "metadata": {},
   "source": [
    "The following equation is solved\n",
    "\\begin{equation}\n",
    "\\partial_t \\zeta + J(\\psi,\\zeta) = A(y) + \\nu \\nabla^2 \\zeta\n",
    "\\end{equation}\n",
    "where $A(y) = A_1 cos(y) +4 A_4cos(4y)$."
   ]
  },
  {
   "cell_type": "markdown",
   "metadata": {},
   "source": [
    "Parameters for the following runs are:\n",
    "> $\\nu = 0.02$\n",
    "\n",
    "> $A_1 = -1.0$\n",
    "\n",
    "> $A_4 = -2.0$\n"
   ]
  },
  {
   "cell_type": "code",
   "execution_count": null,
   "metadata": {},
   "outputs": [],
   "source": [
    "import matplotlib.pyplot as plt\n",
    "import pandas as pd\n",
    "import numpy as np\n",
    "import matplotlib.pylab as pl\n",
    "\n",
    "colors = pl.cm.nipy_spectral_r(np.linspace(0,1,32))"
   ]
  },
  {
   "cell_type": "markdown",
   "metadata": {},
   "source": [
    "## 6x6 grid"
   ]
  },
  {
   "cell_type": "code",
   "execution_count": null,
   "metadata": {},
   "outputs": [],
   "source": [
    "dn = \"./kolmogorov/6x6/\"\n",
    "Nx = 6\n",
    "Ny = 6"
   ]
  },
  {
   "cell_type": "code",
   "execution_count": null,
   "metadata": {},
   "outputs": [],
   "source": [
    "fn = dn+\"nl.npz\"\n",
    "nl = np.load(fn,allow_pickle=True) \n",
    "\n",
    "fn = dn+\"gql.npz\"\n",
    "gql = np.load(fn,allow_pickle=True) \n",
    "\n",
    "fn = dn+\"gce2.npz\"\n",
    "gce2 = np.load(fn,allow_pickle=True) "
   ]
  },
  {
   "cell_type": "code",
   "execution_count": null,
   "metadata": {},
   "outputs": [],
   "source": [
    "fig,ax = plt.subplots(1,2,figsize=(12,5))\n",
    "    \n",
    "# Energy\n",
    "ax[0].plot(nl['t'],nl['Etav'],label=r'$\\langle NL \\rangle$')\n",
    "ax[0].plot(gql['t'],gql['Etav'],label=r'$\\langle GQL \\rangle$')\n",
    "ax[0].plot(gce2['t'],gce2['Etav'],label=r'$\\langle GCE2 \\rangle$')\n",
    "\n",
    "ax[0].set_xlabel(r'$t$',fontsize=14)\n",
    "ax[0].set_ylabel(r'$E$',fontsize=14)\n",
    "ax[0].legend(bbox_to_anchor=(1.01,0.85),fontsize=14)\n",
    "\n",
    "# Enstrophy\n",
    "ax[1].plot(nl['t'],nl['Ztav'],label=r'$\\langle NL \\rangle$')\n",
    "ax[1].plot(gql['t'],gql['Ztav'],label=r'$\\langle GQL \\rangle$')\n",
    "ax[1].plot(gce2['t'],gce2['Ztav'],label=r'$\\langle GCE2 \\rangle$')\n",
    "\n",
    "ax[1].set_xlabel(r'$t$',fontsize=14)\n",
    "ax[1].set_ylabel(r'$Z$',fontsize=14)\n",
    "ax[1].legend(bbox_to_anchor=(1.01,0.85),fontsize=14)\n",
    "\n",
    "plt.show()"
   ]
  },
  {
   "cell_type": "code",
   "execution_count": null,
   "metadata": {},
   "outputs": [],
   "source": [
    "fig,ax = plt.subplots(1,3,figsize=(18,5))\n",
    "\n",
    "ax[0].set_title(r'NL')\n",
    "for i,x in enumerate(nl['Emtav'].T):\n",
    "    ax[0].plot(nl['t'],x,label=i,c=colors[i])\n",
    "\n",
    "ax[1].set_title(r'GQL')\n",
    "for i,x in enumerate(gql['Emtav'].T):\n",
    "    ax[1].plot(gql['t'],x,label=i,c=colors[i])\n",
    "\n",
    "ax[2].set_title(r'GCE2')\n",
    "for i,x in enumerate(gce2['Emtav'].T):\n",
    "    ax[2].plot(gce2['t'],x,label=i,c=colors[i])\n",
    "\n",
    "for a in ax:\n",
    "    a.set_xlabel(r'$t$',fontsize=14)\n",
    "    a.set_ylabel(r'$E(m)$',fontsize=14)\n",
    "    a.set_yscale('log')\n",
    "    a.set_ylim(1e-10,1e4)\n",
    "\n",
    "# ax[2].legend(bbox_to_anchor=(1.05, 0.9),ncol=1)\n",
    "\n",
    "plt.show()"
   ]
  },
  {
   "cell_type": "code",
   "execution_count": null,
   "metadata": {},
   "outputs": [],
   "source": [
    "fig,ax = plt.subplots(1,3,figsize=(16,4))\n",
    "\n",
    "im = ax[0].imshow((nl['Vxy'][:,:,0]),interpolation=\"bicubic\",cmap=\"RdBu_r\",origin=\"lower\")\n",
    "fig.colorbar(im, ax=ax[0])\n",
    "ax[0].set_title(r'NL: $\\zeta(x,y,t = 0 )$',fontsize=14)\n",
    "\n",
    "im = ax[1].imshow((gql['Vxy'][:,:,0]),interpolation=\"bicubic\",cmap=\"RdBu_r\",origin=\"lower\")\n",
    "fig.colorbar(im, ax=ax[1])\n",
    "ax[1].set_title(r'GQL: $\\zeta(x,y,t = 0 )$',fontsize=14)\n",
    "\n",
    "im = ax[2].imshow((gce2['Vxy'][:,:,0]),interpolation=\"bicubic\",cmap=\"RdBu_r\",origin=\"lower\")\n",
    "fig.colorbar(im, ax=ax[2])\n",
    "ax[2].set_title(r'GCE2:$\\zeta(x,y,t = 0 )$',fontsize=14)\n",
    "\n",
    "for a in ax:\n",
    "    \n",
    "    a.set_xticks([0,Nx-1,2*Nx-2])\n",
    "    a.set_xticklabels([r'$0$',r'$\\pi$',r'$2\\pi$'],fontsize=14)\n",
    "    a.set_yticks([0,Ny-1,2*Ny-2])\n",
    "    a.set_yticklabels([r'$0$',r'$\\pi$',r'$2\\pi$'],fontsize=14)\n",
    "\n",
    "plt.show()"
   ]
  },
  {
   "cell_type": "code",
   "execution_count": null,
   "metadata": {},
   "outputs": [],
   "source": [
    "fig,ax = plt.subplots(1,3,figsize=(16,4))\n",
    "\n",
    "im = ax[0].imshow((nl['Vxy'][:,:,-1]),interpolation=\"bicubic\",cmap=\"RdBu_r\",origin=\"lower\")\n",
    "fig.colorbar(im, ax=ax[0])\n",
    "ax[0].set_title(r'NL: $\\zeta(x,y,t = 0 )$',fontsize=14)\n",
    "\n",
    "im = ax[1].imshow((gql['Vxy'][:,:,-1]),interpolation=\"bicubic\",cmap=\"RdBu_r\",origin=\"lower\")\n",
    "fig.colorbar(im, ax=ax[1])\n",
    "ax[1].set_title(r'GQL: $\\zeta(x,y,t = 0 )$',fontsize=14)\n",
    "\n",
    "im = ax[2].imshow((gce2['Vxy'][:,:,-1]),interpolation=\"bicubic\",cmap=\"RdBu_r\",origin=\"lower\")\n",
    "fig.colorbar(im, ax=ax[2])\n",
    "ax[2].set_title(r'$\\zeta(x,y,t = 0 )$',fontsize=14)\n",
    "\n",
    "for a in ax:\n",
    "    \n",
    "    a.set_xticks([0,Nx-1,2*Nx-2])\n",
    "    a.set_xticklabels([r'$0$',r'$\\pi$',r'$2\\pi$'],fontsize=14)\n",
    "    a.set_yticks([0,Ny-1,2*Ny-2])\n",
    "    a.set_yticklabels([r'$0$',r'$\\pi$',r'$2\\pi$'],fontsize=14)\n",
    "\n",
    "plt.show()"
   ]
  },
  {
   "cell_type": "markdown",
   "metadata": {},
   "source": [
    "## 12x12 grid"
   ]
  },
  {
   "cell_type": "markdown",
   "metadata": {},
   "source": [
    "## 16x16 grid"
   ]
  },
  {
   "cell_type": "code",
   "execution_count": null,
   "metadata": {},
   "outputs": [],
   "source": [
    "dn = \"./kolmogorov/16x16/\"\n",
    "Nx = 16\n",
    "Ny = 16"
   ]
  },
  {
   "cell_type": "code",
   "execution_count": null,
   "metadata": {},
   "outputs": [],
   "source": [
    "fn = dn+\"nl.npz\"\n",
    "nl = np.load(fn,allow_pickle=True) \n",
    "\n",
    "fn = dn+\"gql.npz\"\n",
    "gql = np.load(fn,allow_pickle=True) \n",
    "\n",
    "fn = dn+\"gce2.npz\"\n",
    "gce2 = np.load(fn,allow_pickle=True) "
   ]
  },
  {
   "cell_type": "markdown",
   "metadata": {},
   "source": [
    "### Comparisons between NL, GQL(15) and GCE2(15)"
   ]
  },
  {
   "cell_type": "code",
   "execution_count": null,
   "metadata": {},
   "outputs": [],
   "source": [
    "fig,ax = plt.subplots(1,2,figsize=(12,5))\n",
    "    \n",
    "# Energy\n",
    "ax[0].plot(nl['t'],nl['Etav'],label=r'$\\langle NL \\rangle$')\n",
    "ax[0].plot(gql['t'],gql['Etav'],label=r'$\\langle GQL \\rangle$')\n",
    "ax[0].plot(gce2['t'],gce2['Etav'],label=r'$\\langle GCE2 \\rangle$')\n",
    "\n",
    "ax[0].set_xlabel(r'$t$',fontsize=14)\n",
    "ax[0].set_ylabel(r'$E$',fontsize=14)\n",
    "ax[0].legend(bbox_to_anchor=(1.01,0.85),fontsize=14)\n",
    "\n",
    "# Enstrophy\n",
    "ax[1].plot(nl['t'],nl['Ztav'],label=r'$\\langle NL \\rangle$')\n",
    "ax[1].plot(gql['t'],gql['Ztav'],label=r'$\\langle GQL \\rangle$')\n",
    "ax[1].plot(gce2['t'],gce2['Ztav'],label=r'$\\langle GCE2 \\rangle$')\n",
    "\n",
    "ax[1].set_xlabel(r'$t$',fontsize=14)\n",
    "ax[1].set_ylabel(r'$Z$',fontsize=14)\n",
    "ax[1].legend(bbox_to_anchor=(1.01,0.85),fontsize=14)\n",
    "\n",
    "plt.show()"
   ]
  },
  {
   "cell_type": "markdown",
   "metadata": {},
   "source": [
    "> slight differences are due to adaptive timestepping"
   ]
  },
  {
   "cell_type": "code",
   "execution_count": null,
   "metadata": {},
   "outputs": [],
   "source": [
    "fig,ax = plt.subplots(1,3,figsize=(18,5))\n",
    "\n",
    "ax[0].set_title(r'NL')\n",
    "for i,x in enumerate(nl['Emtav'].T):\n",
    "    ax[0].plot(nl['t'],x,label=i,c=colors[i])\n",
    "\n",
    "ax[1].set_title(r'GQL')\n",
    "for i,x in enumerate(gql['Emtav'].T):\n",
    "    ax[1].plot(gql['t'],x,label=i,c=colors[i])\n",
    "\n",
    "ax[2].set_title(r'GCE2')\n",
    "for i,x in enumerate(gce2['Emtav'].T):\n",
    "    ax[2].plot(gce2['t'],x,label=i,c=colors[i])\n",
    "\n",
    "for a in ax:\n",
    "    a.set_xlabel(r'$t$',fontsize=14)\n",
    "    a.set_ylabel(r'$E(m)$',fontsize=14)\n",
    "    a.set_yscale('log')\n",
    "    a.set_ylim(1e-10,1e4)\n",
    "\n",
    "# ax[2].legend(bbox_to_anchor=(1.05, 0.9),ncol=1)\n",
    "\n",
    "plt.show()"
   ]
  },
  {
   "cell_type": "code",
   "execution_count": null,
   "metadata": {},
   "outputs": [],
   "source": [
    "fig,ax = plt.subplots(1,3,figsize=(16,4))\n",
    "\n",
    "im = ax[0].imshow((nl['Vxy'][:,:,0]),interpolation=\"bicubic\",cmap=\"RdBu_r\",origin=\"lower\")\n",
    "fig.colorbar(im, ax=ax[0])\n",
    "ax[0].set_title(r'NL: $\\zeta(x,y,t = 0 )$',fontsize=14)\n",
    "\n",
    "im = ax[1].imshow((gql['Vxy'][:,:,0]),interpolation=\"bicubic\",cmap=\"RdBu_r\",origin=\"lower\")\n",
    "fig.colorbar(im, ax=ax[1])\n",
    "ax[1].set_title(r'GQL: $\\zeta(x,y,t = 0 )$',fontsize=14)\n",
    "\n",
    "im = ax[2].imshow((gce2['Vxy'][:,:,0]),interpolation=\"bicubic\",cmap=\"RdBu_r\",origin=\"lower\")\n",
    "fig.colorbar(im, ax=ax[2])\n",
    "ax[2].set_title(r'GCE2:$\\zeta(x,y,t = 0 )$',fontsize=14)\n",
    "\n",
    "for a in ax:\n",
    "    \n",
    "    a.set_xticks([0,Nx-1,2*Nx-2])\n",
    "    a.set_xticklabels([r'$0$',r'$\\pi$',r'$2\\pi$'],fontsize=14)\n",
    "    a.set_yticks([0,Ny-1,2*Ny-2])\n",
    "    a.set_yticklabels([r'$0$',r'$\\pi$',r'$2\\pi$'],fontsize=14)\n",
    "\n",
    "plt.show()"
   ]
  },
  {
   "cell_type": "code",
   "execution_count": null,
   "metadata": {},
   "outputs": [],
   "source": [
    "fig,ax = plt.subplots(1,3,figsize=(16,4))\n",
    "\n",
    "im = ax[0].imshow((nl['Vxy'][:,:,-1]),interpolation=\"bicubic\",cmap=\"RdBu_r\",origin=\"lower\")\n",
    "fig.colorbar(im, ax=ax[0])\n",
    "ax[0].set_title(r'NL: $\\zeta(x,y,t = 0 )$',fontsize=14)\n",
    "\n",
    "im = ax[1].imshow((gql['Vxy'][:,:,-1]),interpolation=\"bicubic\",cmap=\"RdBu_r\",origin=\"lower\")\n",
    "fig.colorbar(im, ax=ax[1])\n",
    "ax[1].set_title(r'GQL: $\\zeta(x,y,t = 0 )$',fontsize=14)\n",
    "\n",
    "im = ax[2].imshow((gce2['Vxy'][:,:,-1]),interpolation=\"bicubic\",cmap=\"RdBu_r\",origin=\"lower\")\n",
    "fig.colorbar(im, ax=ax[2])\n",
    "ax[2].set_title(r'$\\zeta(x,y,t = 0 )$',fontsize=14)\n",
    "\n",
    "for a in ax:\n",
    "    \n",
    "    a.set_xticks([0,Nx-1,2*Nx-2])\n",
    "    a.set_xticklabels([r'$0$',r'$\\pi$',r'$2\\pi$'],fontsize=14)\n",
    "    a.set_yticks([0,Ny-1,2*Ny-2])\n",
    "    a.set_yticklabels([r'$0$',r'$\\pi$',r'$2\\pi$'],fontsize=14)\n",
    "\n",
    "plt.show()"
   ]
  },
  {
   "cell_type": "code",
   "execution_count": null,
   "metadata": {},
   "outputs": [],
   "source": [
    "fig,ax = plt.subplots(1,2,figsize=(12,5))\n",
    "    \n",
    "# Energy\n",
    "ax[0].plot(nl['t'],nl['Etav'],label=r'$\\langle NL \\rangle$')\n",
    "ax[0].plot(gql['t'],gql['Etav'],label=r'$\\langle GQL \\rangle$')\n",
    "ax[0].plot(gce2['t'],gce2['Etav'],label=r'$\\langle GCE2 \\rangle$')\n",
    "\n",
    "ax[0].set_xlabel(r'$t$',fontsize=14)\n",
    "ax[0].set_ylabel(r'$E$',fontsize=14)\n",
    "ax[0].legend(bbox_to_anchor=(1.01,0.85),fontsize=14)\n",
    "\n",
    "# Enstrophy\n",
    "ax[1].plot(nl['t'],nl['Ztav'],label=r'$\\langle NL \\rangle$')\n",
    "ax[1].plot(gql['t'],gql['Ztav'],label=r'$\\langle GQL \\rangle$')\n",
    "ax[1].plot(gce2['t'],gce2['Ztav'],label=r'$\\langle GCE2 \\rangle$')\n",
    "\n",
    "ax[1].set_xlabel(r'$t$',fontsize=14)\n",
    "ax[1].set_ylabel(r'$Z$',fontsize=14)\n",
    "ax[1].legend(bbox_to_anchor=(1.01,0.85),fontsize=14)\n",
    "\n",
    "plt.show()"
   ]
  },
  {
   "cell_type": "code",
   "execution_count": null,
   "metadata": {},
   "outputs": [],
   "source": [
    "## CE2 and QL"
   ]
  },
  {
   "cell_type": "code",
   "execution_count": null,
   "metadata": {},
   "outputs": [],
   "source": [
    "fn = dn+\"ql.npz\"\n",
    "ql = np.load(fn,allow_pickle=True) \n",
    "\n",
    "fn = dn+\"ce2.npz\"\n",
    "ce2 = np.load(fn,allow_pickle=True) \n",
    "\n",
    "fn = dn+\"gce2_0.npz\"\n",
    "gce2_0 = np.load(fn,allow_pickle=True) "
   ]
  },
  {
   "cell_type": "code",
   "execution_count": null,
   "metadata": {},
   "outputs": [],
   "source": [
    "fig,ax = plt.subplots(1,2,figsize=(12,5))\n",
    "    \n",
    "# Energy\n",
    "ax[0].plot(ql['t'],ql['Etav'],label=r'$\\langle QL \\rangle$')\n",
    "ax[0].plot(ce2['t'],ce2['Etav'],label=r'$\\langle CE2 \\rangle$')\n",
    "\n",
    "ax[0].set_xlabel(r'$t$',fontsize=14)\n",
    "ax[0].set_ylabel(r'$E$',fontsize=14)\n",
    "ax[0].legend(bbox_to_anchor=(1.01,0.85),fontsize=14)\n",
    "\n",
    "# Enstrophy\n",
    "ax[1].plot(ql['t'],ql['Ztav'],label=r'$\\langle QL \\rangle$')\n",
    "ax[1].plot(ce2['t'],ce2['Ztav'],label=r'$\\langle CE2 \\rangle$')\n",
    "\n",
    "ax[1].set_xlabel(r'$t$',fontsize=14)\n",
    "ax[1].set_ylabel(r'$Z$',fontsize=14)\n",
    "ax[1].legend(bbox_to_anchor=(1.01,0.85),fontsize=14)\n",
    "\n",
    "plt.show()"
   ]
  },
  {
   "cell_type": "code",
   "execution_count": null,
   "metadata": {},
   "outputs": [],
   "source": [
    "fig,ax = plt.subplots(1,3,figsize=(18,5))\n",
    "\n",
    "ax[0].set_title(r'QL')\n",
    "for i,x in enumerate(ql['Emtav'].T):\n",
    "    ax[0].plot(ql['t'],x,label=i,c=colors[i])\n",
    "\n",
    "ax[1].set_title(r'CE2')\n",
    "for i,x in enumerate(ce2['Emtav'].T):\n",
    "    ax[1].plot(ce2['t'],x,label=i,c=colors[i])\n",
    "\n",
    "ax[2].set_title(r'GCE2(0)')\n",
    "for i,x in enumerate(gce2_0['Emtav'].T):\n",
    "    ax[2].plot(gce2_0['t'],x,label=i,c=colors[i])\n",
    "\n",
    "for a in ax:\n",
    "    a.set_xlabel(r'$t$',fontsize=14)\n",
    "    a.set_ylabel(r'$E(m)$',fontsize=14)\n",
    "    a.set_yscale('log')\n",
    "    a.set_ylim(1e-10,1e4)\n",
    "\n",
    "# ax[2].legend(bbox_to_anchor=(1.05, 0.9),ncol=1)\n",
    "\n",
    "plt.show()"
   ]
  },
  {
   "cell_type": "code",
   "execution_count": null,
   "metadata": {},
   "outputs": [],
   "source": []
  }
 ],
 "metadata": {
  "kernelspec": {
   "display_name": "Python 3",
   "language": "python",
   "name": "python3"
  },
  "language_info": {
   "codemirror_mode": {
    "name": "ipython",
    "version": 3
   },
   "file_extension": ".py",
   "mimetype": "text/x-python",
   "name": "python",
   "nbconvert_exporter": "python",
   "pygments_lexer": "ipython3",
   "version": "3.7.3"
  }
 },
 "nbformat": 4,
 "nbformat_minor": 4
}
